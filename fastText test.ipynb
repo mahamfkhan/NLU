{
 "cells": [
  {
   "cell_type": "markdown",
   "metadata": {
    "collapsed": true
   },
   "source": [
    "# Fasttext Supervised learning example \n",
    "\n",
    "This notebook is inspired by the [Supervised Learning fastText tutorial](https://github.com/facebookresearch/fastText/blob/master/tutorials/supervised-learning.md)"
   ]
  },
  {
   "cell_type": "code",
   "execution_count": 1,
   "metadata": {
    "collapsed": true
   },
   "outputs": [],
   "source": [
    "import fastText as ft\n",
    "from fastText import train_supervised\n",
    "from string import punctuation\n",
    "from nltk.corpus import stopwords\n",
    "from itertools import islice\n",
    "from os import path\n",
    "import numpy as np\n",
    "import matplotlib.pyplot as plt\n",
    "from models import *\n",
    "%matplotlib inline"
   ]
  },
  {
   "cell_type": "code",
   "execution_count": 2,
   "metadata": {
    "collapsed": true
   },
   "outputs": [],
   "source": [
    "def read_data(filename):\n",
    "    \"\"\"\n",
    "    Read data 'line by line', using generators.\n",
    "    Generators make it easier to process BIG text files.\n",
    "    \"\"\"\n",
    "    with open(filename, 'r') as input:\n",
    "        for line in input:\n",
    "            yield line"
   ]
  },
  {
   "cell_type": "code",
   "execution_count": 4,
   "metadata": {
    "collapsed": true
   },
   "outputs": [],
   "source": [
    "def write_data(filename, data):\n",
    "    \"\"\"\n",
    "    Write result to a file.\n",
    "    \n",
    "    :param result: the list to be written to the file\n",
    "    \"\"\"\n",
    "    with open(filename, \"a\") as output:\n",
    "        output.write('{}\\n'.format(data))"
   ]
  },
  {
   "cell_type": "code",
   "execution_count": 5,
   "metadata": {
    "collapsed": true
   },
   "outputs": [],
   "source": [
    "def preprocess_(data):\n",
    "    \"\"\"\n",
    "    Preprocess data, filtering out stopwords, punctuation and lowering \n",
    "    all splitted tokens.\n",
    "    \n",
    "    :param data: the string data to be processed\n",
    "    \"\"\"    \n",
    "    # Pad punctuation with spaces on both sides\n",
    "    for char in ['.', '\"', ',', '(', ')', '!', '?', ';', ':']:\n",
    "        data = data.replace(char, ' ' + char + ' ')\n",
    "    sw = stopwords.words('english')\n",
    "    splitted_chunks = data.split()\n",
    "    lowered_chunks = (item.lower() for item in splitted_chunks)\n",
    "    chunks_without_punctuation = (chunk for chunk in lowered_chunks if chunk not in punctuation)\n",
    "    chunks_without_stopwords = (chunk for chunk in chunks_without_punctuation if chunk not in sw)\n",
    "    return \" \".join(list(chunks_without_stopwords))"
   ]
  },
  {
   "cell_type": "code",
   "execution_count": 6,
   "metadata": {
    "collapsed": true
   },
   "outputs": [],
   "source": [
    "def pipeline(input_filename, output_filename, limit=None):\n",
    "    \"\"\"\n",
    "    Iterate over the rows and apply the text preprocessing.\n",
    "\n",
    "    :param input_filename: name of the input filename\n",
    "    :param output_filename: name of the output filename\n",
    "    :param limit: get the first N rows\n",
    "    \"\"\"    \n",
    "    open(output_filename, 'w').close()  # Hack to \"reset\" the output file\n",
    "    for row in islice(read_data(input_filename), 0, limit):\n",
    "        data = preprocess_(row)\n",
    "        if data:\n",
    "            write_data(output_filename, data)"
   ]
  },
  {
   "cell_type": "code",
   "execution_count": 7,
   "metadata": {
    "collapsed": true
   },
   "outputs": [],
   "source": [
    "def test_model(model, test_data):\n",
    "    result = model.test(test_data)\n",
    "    print('Precision@1:', result.precision)\n",
    "    print('Recall@1:', result.recall)\n",
    "    print('Number of examples:', result.nexamples)"
   ]
  },
  {
   "cell_type": "code",
   "execution_count": 8,
   "metadata": {
    "collapsed": true
   },
   "outputs": [],
   "source": [
    "def fastText_split(df, split, directory):\n",
    "    train, dev, test = split_dataframe(df, split)\n",
    "    fasttext_formatter(train, \"temp_train.txt\")\n",
    "    pipeline(\"temp_train.txt\", directory+\"train.txt\")\n",
    "    fasttext_formatter(dev, \"temp_dev.txt\")\n",
    "    pipeline(\"temp_dev.txt\", directory+\"dev.txt\")\n",
    "    fasttext_formatter(test, \"temp_test.txt\")\n",
    "    pipeline(\"temp_test.txt\", directory+\"test.txt\")\n",
    "    "
   ]
  },
  {
   "cell_type": "code",
   "execution_count": 49,
   "metadata": {},
   "outputs": [],
   "source": [
    "sender_df = preprocess(\"sender_data.csv\")\n",
    "sender_df[\"text\"] = sender_df[\"content\"].apply(preprocess_)\n",
    "sender_splits = get_splits(sender_df)\n",
    "fastText_split(sender_df, sender_splits, \"fastText_data/sender/\")\n",
    "recipient_df = preprocess(\"recipient_data.csv\")\n",
    "recipient_df[\"text\"] = recipient_df[\"content\"].apply(preprocess_)\n",
    "recipient_splits = get_splits(recipient_df)\n",
    "fastText_split(recipient_df, recipient_splits, \"fastText_data/recipient/\")\n",
    "pipeline(\"fastText_data/recipient_FairFrame.txt\", \"fastText_data/recipient/fairframe.txt\")\n",
    "pipeline(\"fastText_data/author_FairFrame.txt\", \"fastText_data/sender/fairframe.txt\")"
   ]
  },
  {
   "cell_type": "code",
   "execution_count": 10,
   "metadata": {},
   "outputs": [
    {
     "data": {
      "text/plain": [
       "(1720, 0.5447674418604651, 0.5447674418604651)"
      ]
     },
     "execution_count": 10,
     "metadata": {},
     "output_type": "execute_result"
    }
   ],
   "source": [
    "model = train_supervised(\"fastText_data/recipient/train.txt\")\n",
    "model.test(\"fastText_data/recipient/dev.txt\")"
   ]
  },
  {
   "cell_type": "code",
   "execution_count": 11,
   "metadata": {
    "collapsed": true
   },
   "outputs": [],
   "source": [
    "\n",
    "\n",
    "data_dir = path.join(path.dirname(\"__file__\"), 'data')\n",
    "enron_input = path.join(data_dir, 'recipient_data.txt')\n",
    "fairframe_test = path.join(data_dir, 'fairframe.train') \n"
   ]
  },
  {
   "cell_type": "code",
   "execution_count": 12,
   "metadata": {
    "collapsed": true
   },
   "outputs": [],
   "source": [
    "#pipeline(cooking_input, cooking_input_norm)"
   ]
  },
  {
   "cell_type": "markdown",
   "metadata": {},
   "source": [
    "### Using fasttext"
   ]
  },
  {
   "cell_type": "code",
   "execution_count": 12,
   "metadata": {
    "collapsed": true
   },
   "outputs": [],
   "source": [
    "def print_results(N, p, r):\n",
    "    print(\"N\\t\" + str(N))\n",
    "    print(\"P@{}\\t{:.3f}\".format(1, p))\n",
    "    print(\"R@{}\\t{:.3f}\".format(1, r))"
   ]
  },
  {
   "cell_type": "code",
   "execution_count": 13,
   "metadata": {
    "collapsed": true
   },
   "outputs": [],
   "source": [
    "def results(N, p, r):\n",
    "    return N, p, r\n",
    "    "
   ]
  },
  {
   "cell_type": "code",
   "execution_count": 50,
   "metadata": {
    "collapsed": true
   },
   "outputs": [],
   "source": [
    "sender = {\"train\":\"fastText_data/sender/train.txt\",\n",
    "          \"dev\":\"fastText_data/sender/dev.txt\",\n",
    "          \"test\":\"fastText_data/sender/test.txt\",\n",
    "          \"fairframe\":\"fastText_data/sender/fairframe.txt\"}\n",
    "recipient = {\"train\":\"fastText_data/recipient/train.txt\", \n",
    "             \"dev\":\"fastText_data/recipient/dev.txt\",\n",
    "             \"test\":\"fastText_data/recipient/test.txt\",\n",
    "             \"fairframe\":\"fastText_data/recipient/fairframe.txt\"}"
   ]
  },
  {
   "cell_type": "code",
   "execution_count": 15,
   "metadata": {
    "collapsed": true
   },
   "outputs": [],
   "source": [
    "\n",
    "# Info to save the model\n",
    "model_dir = path.join(path.dirname(\"__file__\"), 'models')\n",
    "gender_output = path.join(model_dir, 'gender_classification')"
   ]
  },
  {
   "cell_type": "code",
   "execution_count": 16,
   "metadata": {
    "collapsed": true
   },
   "outputs": [],
   "source": [
    "def get_F1(p, r):\n",
    "    return(2.0/((p**-1)+(r**-1)))"
   ]
  },
  {
   "cell_type": "code",
   "execution_count": 17,
   "metadata": {},
   "outputs": [
    {
     "name": "stdout",
     "output_type": "stream",
     "text": [
      "CPU times: user 44.2 ms, sys: 2.1 ms, total: 46.3 ms\n",
      "Wall time: 47.4 ms\n"
     ]
    },
    {
     "data": {
      "text/plain": [
       "0.58074935400516792"
      ]
     },
     "execution_count": 17,
     "metadata": {},
     "output_type": "execute_result"
    }
   ],
   "source": [
    "def get_acc(model, df):\n",
    "    \n",
    "    pred = df.text.apply(lambda x: model.predict(x)[0][0][9].capitalize())\n",
    "    return sum(pred==df.gender)/len(df)\n",
    "%time get_acc(model, sender_df.iloc[sender_splits[1]])"
   ]
  },
  {
   "cell_type": "markdown",
   "metadata": {},
   "source": [
    "# Senders"
   ]
  },
  {
   "cell_type": "code",
   "execution_count": 78,
   "metadata": {},
   "outputs": [
    {
     "data": {
      "text/plain": [
       "(4, 4)"
      ]
     },
     "execution_count": 78,
     "metadata": {},
     "output_type": "execute_result"
    },
    {
     "data": {
      "image/png": "[encoded data removed]",
      "text/plain": [
       "<matplotlib.figure.Figure at 0x1a2f8edf98>"
      ]
     },
     "metadata": {},
     "output_type": "display_data"
    }
   ],
   "source": [
    "N_val = []\n",
    "precision = []\n",
    "recall = []\n",
    "f1 = []\n",
    "accs = []\n",
    "param_range = list(range(1,30, 3))\n",
    "sender_val = sender_df.iloc[sender_splits[1]]\n",
    "for count in param_range:\n",
    "    model = train_supervised(input=sender[\"train\"], \n",
    "                             epoch=50, #tuned \n",
    "                             lr=10.0**-1, #tuned minimal improvements\n",
    "                             ws = 7, #tuned \n",
    "                             wordNgrams=count, #tuned \n",
    "                             verbose=1, #tuned minimal improvements\n",
    "                             minCount=4, \n",
    "                             dim=200)\n",
    "    N,p,r =  results(*model.test(sender[\"dev\"]))\n",
    "    f1.append(get_F1(p,r))\n",
    "    N_val.append(N)\n",
    "    precision.append(p)\n",
    "    recall.append(r)\n",
    "    accs.append(get_acc(model, sender_val))\n",
    "\n",
    "\n",
    "\n",
    "\n",
    "plt.plot(param_range,f1)\n",
    "plt.plot(param_range, accs)\n",
    "param_range[np.argmax(f1)], param_range[np.argmax(accs)]"
   ]
  },
  {
   "cell_type": "code",
   "execution_count": 79,
   "metadata": {},
   "outputs": [
    {
     "data": {
      "text/plain": [
       "(-1, -1)"
      ]
     },
     "execution_count": 79,
     "metadata": {},
     "output_type": "execute_result"
    },
    {
     "data": {
      "image/png": "[encoded data removed]",
      "text/plain": [
       "<matplotlib.figure.Figure at 0x1a2fc2c240>"
      ]
     },
     "metadata": {},
     "output_type": "display_data"
    }
   ],
   "source": [
    "N_val = []\n",
    "precision = []\n",
    "recall = []\n",
    "f1 = []\n",
    "accs = []\n",
    "param_range = np.arange(-6,1)\n",
    "sender_val = sender_df.iloc[sender_splits[1]]\n",
    "for rate in 10.0**param_range:\n",
    "    model = train_supervised(input=sender[\"train\"], \n",
    "                             epoch=50, #tuned \n",
    "                             lr=rate, #tuned minimal improvements\n",
    "                             ws = 7, #tuned \n",
    "                             wordNgrams=4, #tuned \n",
    "                             verbose=1, #tuned minimal improvements\n",
    "                             minCount=4, \n",
    "                             dim=200)\n",
    "    N,p,r =  results(*model.test(sender[\"dev\"]))\n",
    "    f1.append(get_F1(p,r))\n",
    "    N_val.append(N)\n",
    "    precision.append(p)\n",
    "    recall.append(r)\n",
    "    accs.append(get_acc(model, sender_val))\n",
    "\n",
    "\n",
    "plt.plot(param_range,f1)\n",
    "plt.plot(param_range, accs)\n",
    "param_range[np.argmax(f1)], param_range[np.argmax(accs)]"
   ]
  },
  {
   "cell_type": "code",
   "execution_count": 51,
   "metadata": {},
   "outputs": [
    {
     "name": "stdout",
     "output_type": "stream",
     "text": [
      "0.69163706813 0.691860465116\n"
     ]
    }
   ],
   "source": [
    "#best model for sender\n",
    "sender_test = sender_df.iloc[sender_splits[2]]\n",
    "sender_val = sender_df.iloc[sender_splits[1]]\n",
    "sender_model = train_supervised(input=sender[\"train\"], \n",
    "                             epoch=50, #tuned \n",
    "                             lr=10.0**-1, #tuned minimal improvements\n",
    "                             ws = 7, #tuned \n",
    "                             wordNgrams=4, #tuned \n",
    "                             verbose=1, #tuned minimal improvements\n",
    "                             minCount=4, \n",
    "                             dim=200)\n",
    "N,p,r =  results(*model.test(sender[\"test\"]))\n",
    "print(get_acc(sender_model, sender_test), get_acc(sender_model, sender_val))\n",
    "#insert model tested on fair frame here"
   ]
  },
  {
   "cell_type": "markdown",
   "metadata": {},
   "source": [
    "# Recipients"
   ]
  },
  {
   "cell_type": "code",
   "execution_count": 81,
   "metadata": {},
   "outputs": [
    {
     "data": {
      "text/plain": [
       "3"
      ]
     },
     "execution_count": 81,
     "metadata": {},
     "output_type": "execute_result"
    },
    {
     "data": {
      "image/png": "[encoded data removed]",
      "text/plain": [
       "<matplotlib.figure.Figure at 0x1a1f2d0198>"
      ]
     },
     "metadata": {},
     "output_type": "display_data"
    }
   ],
   "source": [
    "N_val = []\n",
    "precision = []\n",
    "recall = []\n",
    "f1 = []\n",
    "accs = []\n",
    "param_range = list(range(1,20, 2))\n",
    "recipient_val = recipient_df.iloc[sender_splits[1]]\n",
    "for count in param_range:\n",
    "    model = train_supervised(input=recipient[\"train\"], \n",
    "                             epoch=50, #tuned \n",
    "                             lr=10.0**-2, #tuned minimal improvements\n",
    "                             ws = count, #tuned \n",
    "                             wordNgrams=15, #tuned \n",
    "                             verbose=3, #tuned minimal improvements\n",
    "                             minCount=1, \n",
    "                             dim=200)\n",
    "    N,p,r =  results(*model.test(recipient[\"dev\"]))\n",
    "    f1.append(get_F1(p,r))\n",
    "    N_val.append(N)\n",
    "    precision.append(p)\n",
    "    recall.append(r)\n",
    "    accs.append(get_acc(model, recipient_val))\n",
    "\n",
    "\n",
    "\n",
    "\n",
    "plt.plot(param_range,f1)\n",
    "param_range[np.argmax(f1)]"
   ]
  },
  {
   "cell_type": "code",
   "execution_count": 82,
   "metadata": {},
   "outputs": [
    {
     "data": {
      "text/plain": [
       "-2"
      ]
     },
     "execution_count": 82,
     "metadata": {},
     "output_type": "execute_result"
    },
    {
     "data": {
      "image/png": "[encoded data removed]",
      "text/plain": [
       "<matplotlib.figure.Figure at 0x1a2fa98be0>"
      ]
     },
     "metadata": {},
     "output_type": "display_data"
    }
   ],
   "source": [
    "N_val = []\n",
    "precision = []\n",
    "recall = []\n",
    "f1 = []\n",
    "accs = []\n",
    "param_range = np.arange(-10,0)\n",
    "recipient_val = recipient_df.iloc[sender_splits[1]]\n",
    "for rate in 10.0**param_range:\n",
    "    model = train_supervised(input=recipient[\"train\"], \n",
    "                             epoch=50, #tuned \n",
    "                             lr=rate, #tuned minimal improvements\n",
    "                             ws = 2, #tuned \n",
    "                             wordNgrams=3, #tuned \n",
    "                             verbose=5, #tuned minimal improvements\n",
    "                             minCount=1, \n",
    "                             dim=200)\n",
    "    N,p,r =  results(*model.test(recipient[\"dev\"]))\n",
    "    f1.append(get_F1(p,r))\n",
    "    N_val.append(N)\n",
    "    precision.append(p)\n",
    "    recall.append(r)\n",
    "    accs.append(get_acc(model, recipient_val))\n",
    "\n",
    "plt.plot(param_range,f1)\n",
    "param_range[np.argmax(f1)]"
   ]
  },
  {
   "cell_type": "code",
   "execution_count": 52,
   "metadata": {},
   "outputs": [
    {
     "name": "stdout",
     "output_type": "stream",
     "text": [
      "0.585082337746 0.571705426357\n"
     ]
    }
   ],
   "source": [
    "#Best model for recipient\n",
    "recipient_test = recipient_df.iloc[sender_splits[2]]\n",
    "recipient_val = recipient_df.iloc[sender_splits[1]]\n",
    "recipient_model = train_supervised(input=recipient[\"train\"], \n",
    "                             epoch=50, #tuned \n",
    "                             lr=10.0**-2, #tuned minimal improvements\n",
    "                             ws = 3, #tuned \n",
    "                             wordNgrams=15, #tuned \n",
    "                             verbose=3, #tuned minimal improvements\n",
    "                             minCount=1, \n",
    "                             dim=200)\n",
    "\n",
    "print(get_acc(recipient_model, recipient_test), get_acc(recipient_model, recipient_val))\n",
    "#insert model tested on fair frame here"
   ]
  },
  {
   "cell_type": "markdown",
   "metadata": {},
   "source": [
    "# Vizulations and Examples"
   ]
  },
  {
   "cell_type": "code",
   "execution_count": 21,
   "metadata": {
    "collapsed": true
   },
   "outputs": [],
   "source": [
    "\n",
    "\n",
    "def get_prob_df(df, model):\n",
    "    label = df.gender\n",
    "    label.name = \"true_label\"\n",
    "    pred_label = df.text.apply(lambda x: model.predict(x)[0][0][9].capitalize())\n",
    "    pred_label.name = \"predicted_label\"\n",
    "    prob_label = df.text.apply(lambda x: model.predict(x)[1][0])\n",
    "    prob_label.name = \"prob_of_predicted_label\"\n",
    "    prob_label = prob_label.apply(lambda x: x**(x<1))\n",
    "    prob_F = abs(1*(pred_label == \"M\")-prob_label)\n",
    "    prob_F.name = \"prob of F\"\n",
    "    prob_M = abs(1*(pred_label == \"F\")-prob_label)\n",
    "    prob_M.name = \"prob of M\"\n",
    "    data = [label, pred_label, prob_label, prob_F, prob_M]\n",
    "    return pd.concat(data, axis=1, keys=[s.name for s in data])"
   ]
  },
  {
   "cell_type": "code",
   "execution_count": 22,
   "metadata": {
    "collapsed": true
   },
   "outputs": [],
   "source": [
    "sender_test_pred = get_prob_df(sender_test, sender_model)\n",
    "recipient_test_pred = get_prob_df(recipient_test, recipient_model)"
   ]
  },
  {
   "cell_type": "code",
   "execution_count": 58,
   "metadata": {},
   "outputs": [],
   "source": [
    "def get_prob_df_from_txt(filename, model):\n",
    "    f = open(filename, \"r\")\n",
    "    lines =  f.read().split(\"\\n\")[:-1]\n",
    "    f.close()\n",
    "    labels = [line[9].capitalize() for line in lines]\n",
    "    labels = pd.Series(labels, name=\"true_label\")\n",
    "    pred_label = [model.predict(x)[0][0][9].capitalize() for x in lines]\n",
    "    pred_label = pd.Series(pred_label, name=\"predicted_label\")\n",
    "    prob_label = [model.predict(x)[1][0]  for x in lines]\n",
    "    prob_label = pd.Series(prob_label, name=\"prob_of_predicted_label\")\n",
    "    prob_label = prob_label.apply(lambda x: x**(x<1))\n",
    "    prob_F = abs(1*(pred_label == \"M\")-prob_label)\n",
    "    prob_F.name = \"prob of F\"\n",
    "    prob_M = abs(1*(pred_label == \"F\")-prob_label)\n",
    "    prob_M.name = \"prob of M\"\n",
    "    data = [labels, pred_label, prob_label, prob_F, prob_M]\n",
    "    return pd.concat(data, axis=1, keys=[s.name for s in data])\n"
   ]
  },
  {
   "cell_type": "code",
   "execution_count": 60,
   "metadata": {},
   "outputs": [],
   "source": [
    "sender_fairframe_df = get_prob_df_from_txt(sender[\"fairframe\"], sender_model)\n",
    "recipient_fairframe_df = get_prob_df_from_txt(recipient[\"fairframe\"], recipient_model)"
   ]
  },
  {
   "cell_type": "code",
   "execution_count": 23,
   "metadata": {
    "collapsed": true
   },
   "outputs": [],
   "source": [
    "from sklearn import linear_model, svm, metrics\n",
    "def rocplot(truth, pred, name):\n",
    "    \n",
    "    fpr, tpr, thresholds = metrics.roc_curve(truth, pred)\n",
    "    roc_auc = metrics.auc(fpr, tpr)\n",
    "    \n",
    "    if roc_auc < 0.5:\n",
    "        fpr, tpr, thresholds = metrics.roc_curve(truth, -1 * pred)\n",
    "        roc_auc = metrics.auc(fpr, tpr)\n",
    "        \n",
    "    c = (np.random.rand(), np.random.rand(), np.random.rand())\n",
    "    plt.plot(fpr, tpr, color = c, label = name + ' (AUC = %0.3f)' % roc_auc)\n",
    "    \n",
    "\n",
    "    plt.plot([0, 1], [0, 1], 'k--')\n",
    "    plt.xlim([0.0, 1.0])\n",
    "    plt.ylim([0.0, 1.0])\n",
    "    plt.xlabel('FPR')\n",
    "    plt.ylabel('TPR')\n",
    "    plt.legend(loc=\"lower right\")"
   ]
  },
  {
   "cell_type": "code",
   "execution_count": 65,
   "metadata": {},
   "outputs": [
    {
     "data": {
      "image/png": "[encoded data removed]",
      "text/plain": [
       "<matplotlib.figure.Figure at 0x1a173e3588>"
      ]
     },
     "metadata": {},
     "output_type": "display_data"
    }
   ],
   "source": [
    "fig = plt.figure(figsize = (12, 6))\n",
    "ax = plt.subplot(111)\n",
    "rocplot(1*(sender_test_pred.true_label == \"F\"),\n",
    "        sender_test_pred[\"prob of F\"],\n",
    "        \"fastText on Enron Sender Gender\")\n",
    "rocplot(1*(recipient_test_pred.true_label == \"F\"),\n",
    "        recipient_test_pred[\"prob of F\"],\n",
    "        \"fastText on Enron Recipient Gender\")\n",
    "rocplot(1*(sender_fairframe_df.true_label == \"F\"),\n",
    "        sender_fairframe_df[\"prob of F\"],\n",
    "        \"fastText on FairFrame Author Gender\")\n",
    "rocplot(1*(recipient_fairframe_df.true_label == \"F\"),\n",
    "        recipient_fairframe_df[\"prob of F\"],\n",
    "        \"fastText on FairFrame Recipient Gender\")\n",
    "plt.title(\"fastText on Enron emails and Fairframe Reviews\")\n",
    "box = ax.get_position()\n",
    "ax.set_position([box.x0, box.y0 + box.height * 0.0 , box.width, box.height * 1])\n",
    "lgd = ax.legend(loc = 'upper center', bbox_to_anchor = (0.5, -0.15), fancybox = True,\n",
    "                shadow = True, ncol = 2, prop = {'size':10})\n",
    "plt.savefig(\"ROC.png\")"
   ]
  },
  {
   "cell_type": "code",
   "execution_count": 25,
   "metadata": {},
   "outputs": [
    {
     "data": {
      "image/png": "[encoded data removed]",
      "text/plain": [
       "<matplotlib.figure.Figure at 0x1a18f34198>"
      ]
     },
     "metadata": {},
     "output_type": "display_data"
    }
   ],
   "source": [
    "#based off of matplotlib demo\n",
    "#https://matplotlib.org/examples/api/barchart_demo.html\n",
    "\n",
    "N = 2\n",
    "fastText_accs = (get_acc(sender_model, sender_test), get_acc(recipient_model, recipient_test))\n",
    "CNN_accs =(0.6551501453019051, 0.4963673350770125) # these values were taken from the bowCNN notebook\n",
    "ind = np.arange(N)  # the x locations for the groups\n",
    "width = 0.35       # the width of the bars\n",
    "\n",
    "fig, ax = plt.subplots()\n",
    "rects1 = ax.bar(ind, fastText_accs, width, color='r')\n",
    "\n",
    "\n",
    "rects2 = ax.bar(ind + width, CNN_accs, width, color='y')\n",
    "plt.ylim([0.0, 1.0])\n",
    "# add some text for labels, title and axes ticks\n",
    "ax.set_ylabel('Accuracy')\n",
    "ax.set_title('fastText vs. bow-CNN')\n",
    "ax.set_xticks(ind + width / 2)\n",
    "ax.set_xticklabels(('Sender', 'Recipient'))\n",
    "\n",
    "ax.legend((rects1[0], rects2[0]), ('fastText', 'bow-CNN'))\n",
    "\n",
    "\n",
    "def autolabel(rects):\n",
    "    \"\"\"\n",
    "    Attach a text label above each bar displaying its height\n",
    "    \"\"\"\n",
    "    for rect in rects:\n",
    "        height = rect.get_height()\n",
    "        ax.text(rect.get_x() + rect.get_width()/2., 1.05*height,\n",
    "                '%s' % round(height,2),\n",
    "                ha='center', va='bottom')\n",
    "\n",
    "autolabel(rects1)\n",
    "autolabel(rects2)\n",
    "#uncomment to save figure\n",
    "#plt.savefig(\"bars_comparison.png\")"
   ]
  },
  {
   "cell_type": "markdown",
   "metadata": {},
   "source": [
    "# Example Sentences"
   ]
  },
  {
   "cell_type": "code",
   "execution_count": 26,
   "metadata": {
    "collapsed": true
   },
   "outputs": [],
   "source": [
    "import random\n",
    "def worst_example_finder(df, pred_df, num_examples = 10, p =0.7):\n",
    "    choose_from = pred_df[:][pred_df.true_label != pred_df.predicted_label]\n",
    "    emails = df.content[pred_df.true_label != pred_df.predicted_label]\n",
    "    chosen = emails[choose_from[\"prob_of_predicted_label\"] >= p]\n",
    "    probs = choose_from[\"prob_of_predicted_label\"][choose_from[\"prob_of_predicted_label\"] >= p]\n",
    "    labels = choose_from[\"predicted_label\"][choose_from[\"prob_of_predicted_label\"] >= p]\n",
    "    for i in range(num_examples):\n",
    "        rando = int(random.randint(0,len(chosen)))\n",
    "        print(chosen.iloc[rando]+\" \\n (With probability %s as %s) \\n\" %(probs.iloc[rando], labels.iloc[rando]) )\n",
    "    "
   ]
  },
  {
   "cell_type": "code",
   "execution_count": 27,
   "metadata": {},
   "outputs": [
    {
     "name": "stdout",
     "output_type": "stream",
     "text": [
      "Shirley,  Voucher # dummynumber  for  $359.78   Vince \n",
      " (With probability 0.994631409645 as M) \n",
      "\n",
      "you're a goddess.  thank you. \n",
      " (With probability 0.997220814228 as M) \n",
      "\n",
      "Should we wait on this, given the possibilities we discussed earlier today.  Michelle \n",
      " (With probability 0.927020311356 as F) \n",
      "\n",
      "I will be out dummydate on a customer trip (San Antonio with Aquila).  I will be on vacation in dummydate from dummydate  D \n",
      " (With probability 0.991761863232 as M) \n",
      "\n",
      "Grant,   Did Li Xiao refer Alex  to us?  Vince \n",
      " (With probability 0.976870417595 as M) \n",
      "\n"
     ]
    }
   ],
   "source": [
    "worst_example_finder(sender_test, sender_test_pred, 5, .9)"
   ]
  },
  {
   "cell_type": "code",
   "execution_count": null,
   "metadata": {
    "collapsed": true
   },
   "outputs": [],
   "source": [
    "def best_example_finder(df, pred_df, num_examples = 10, p = 0.7):\n",
    "    choose_from = pred_df[:][pred_df.true_label == pred_df.predicted_label]\n",
    "    emails = df.content[pred_df.true_label == pred_df.predicted_label]\n",
    "    chosen = emails[choose_from[\"prob_of_predicted_label\"] >= p]\n",
    "    probs = choose_from[\"prob_of_predicted_label\"][choose_from[\"prob_of_predicted_label\"] >= p]\n",
    "    labels = choose_from[\"predicted_label\"][choose_from[\"prob_of_predicted_label\"] >= p]\n",
    "    for i in range(num_examples):\n",
    "        rando = int(random.randint(0,len(chosen)))\n",
    "        print(chosen.iloc[rando]+\" \\n (With probability %s as %s) \\n\" %(probs.iloc[rando], labels.iloc[rando]) )"
   ]
  },
  {
   "cell_type": "code",
   "execution_count": null,
   "metadata": {},
   "outputs": [],
   "source": [
    "best_example_finder(sender_test, sender_test_pred, 5, 1)"
   ]
  },
  {
   "cell_type": "markdown",
   "metadata": {},
   "source": [
    "### Not normalized input"
   ]
  },
  {
   "cell_type": "markdown",
   "metadata": {},
   "source": [
    "### Normalized input"
   ]
  },
  {
   "cell_type": "markdown",
   "metadata": {},
   "source": [
    "### Load existing test"
   ]
  },
  {
   "cell_type": "markdown",
   "metadata": {},
   "source": [
    "### Predictions"
   ]
  }
 ],
 "metadata": {
  "kernelspec": {
   "display_name": "Python 3",
   "language": "python",
   "name": "python3"
  },
  "language_info": {
   "codemirror_mode": {
    "name": "ipython",
    "version": 3
   },
   "file_extension": ".py",
   "mimetype": "text/x-python",
   "name": "python",
   "nbconvert_exporter": "python",
   "pygments_lexer": "ipython3",
   "version": "3.6.3"
  }
 },
 "nbformat": 4,
 "nbformat_minor": 2
}
