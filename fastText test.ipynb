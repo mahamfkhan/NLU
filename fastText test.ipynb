{
 "cells": [
  {
   "cell_type": "markdown",
   "metadata": {
    "collapsed": true
   },
   "source": [
    "# Fasttext Supervised learning example \n",
    "\n",
    "This notebook is inspired by the [Supervised Learning fastText tutorial](https://github.com/facebookresearch/fastText/blob/master/tutorials/supervised-learning.md)"
   ]
  },
  {
   "cell_type": "code",
   "execution_count": 3,
   "metadata": {
    "collapsed": true
   },
   "outputs": [],
   "source": [
    "import fastText as ft\n",
    "from fastText import train_supervised\n",
    "from string import punctuation\n",
    "from nltk.corpus import stopwords\n",
    "from itertools import islice\n",
    "from os import path\n",
    "import numpy as np\n",
    "import matplotlib.pyplot as plt\n",
    "from models import *\n",
    "%matplotlib inline"
   ]
  },
  {
   "cell_type": "code",
   "execution_count": 4,
   "metadata": {
    "collapsed": true
   },
   "outputs": [],
   "source": [
    "def read_data(filename):\n",
    "    \"\"\"\n",
    "    Read data 'line by line', using generators.\n",
    "    Generators make it easier to process BIG text files.\n",
    "    \"\"\"\n",
    "    with open(filename, 'r') as input:\n",
    "        for line in input:\n",
    "            yield line"
   ]
  },
  {
   "cell_type": "code",
   "execution_count": 5,
   "metadata": {
    "collapsed": true
   },
   "outputs": [],
   "source": [
    "def write_data(filename, data):\n",
    "    \"\"\"\n",
    "    Write result to a file.\n",
    "    \n",
    "    :param result: the list to be written to the file\n",
    "    \"\"\"\n",
    "    with open(filename, \"a\") as output:\n",
    "        output.write('{}\\n'.format(data))"
   ]
  },
  {
   "cell_type": "code",
   "execution_count": 6,
   "metadata": {
    "collapsed": true
   },
   "outputs": [],
   "source": [
    "def preprocess_(data):\n",
    "    \"\"\"\n",
    "    Preprocess data, filtering out stopwords, punctuation and lowering \n",
    "    all splitted tokens.\n",
    "    \n",
    "    :param data: the string data to be processed\n",
    "    \"\"\"    \n",
    "    # Pad punctuation with spaces on both sides\n",
    "    for char in ['.', '\"', ',', '(', ')', '!', '?', ';', ':']:\n",
    "        data = data.replace(char, ' ' + char + ' ')\n",
    "    sw = stopwords.words('english')\n",
    "    splitted_chunks = data.split()\n",
    "    lowered_chunks = (item.lower() for item in splitted_chunks)\n",
    "    chunks_without_punctuation = (chunk for chunk in lowered_chunks if chunk not in punctuation)\n",
    "    chunks_without_stopwords = (chunk for chunk in chunks_without_punctuation if chunk not in sw)\n",
    "    return \" \".join(list(chunks_without_stopwords))"
   ]
  },
  {
   "cell_type": "code",
   "execution_count": 7,
   "metadata": {
    "collapsed": true
   },
   "outputs": [],
   "source": [
    "def pipeline(input_filename, output_filename, limit=None):\n",
    "    \"\"\"\n",
    "    Iterate over the rows and apply the text preprocessing.\n",
    "\n",
    "    :param input_filename: name of the input filename\n",
    "    :param output_filename: name of the output filename\n",
    "    :param limit: get the first N rows\n",
    "    \"\"\"    \n",
    "    open(output_filename, 'w').close()  # Hack to \"reset\" the output file\n",
    "    for row in islice(read_data(input_filename), 0, limit):\n",
    "        data = preprocess_(row)\n",
    "        if data:\n",
    "            write_data(output_filename, data)"
   ]
  },
  {
   "cell_type": "code",
   "execution_count": 8,
   "metadata": {
    "collapsed": true
   },
   "outputs": [],
   "source": [
    "def test_model(model, test_data):\n",
    "    result = model.test(test_data)\n",
    "    print('Precision@1:', result.precision)\n",
    "    print('Recall@1:', result.recall)\n",
    "    print('Number of examples:', result.nexamples)"
   ]
  },
  {
   "cell_type": "code",
   "execution_count": 9,
   "metadata": {
    "collapsed": true
   },
   "outputs": [],
   "source": [
    "def fastText_split(df, split, directory):\n",
    "    train, dev, test = split_dataframe(df, split)\n",
    "    fasttext_formatter(train, \"temp_train.txt\")\n",
    "    pipeline(\"temp_train.txt\", directory+\"train.txt\")\n",
    "    fasttext_formatter(dev, \"temp_dev.txt\")\n",
    "    pipeline(\"temp_dev.txt\", directory+\"dev.txt\")\n",
    "    fasttext_formatter(test, \"temp_test.txt\")\n",
    "    pipeline(\"temp_test.txt\", directory+\"test.txt\")\n",
    "    "
   ]
  },
  {
   "cell_type": "code",
   "execution_count": 10,
   "metadata": {},
   "outputs": [],
   "source": [
    "def get_sent_df(df):\n",
    "    contents = []\n",
    "    texts = []\n",
    "    labels = []\n",
    "    sentences = df.content.str.split(\".\")\n",
    "    for i in range(len(df)):\n",
    "        label = df.gender.iloc[i]\n",
    "        email = sentences.iloc[i]\n",
    "        for j in range(len(email)):\n",
    "            sentence = email[j]\n",
    "            text = preprocess_(email[j])\n",
    "            if text == \"\":\n",
    "                pass\n",
    "            else:\n",
    "                contents.append(sentence)\n",
    "                texts.append(text)\n",
    "                labels.append(label)\n",
    "    \n",
    "    return pd.DataFrame(np.array([texts, texts, labels]).T, columns = [\"content\", \"text\", \"gender\"])\n",
    "\n",
    "\n",
    "def get_word_df(df):\n",
    "    contents = []\n",
    "    texts = []\n",
    "    labels = []\n",
    "    sentences = df.content.str.split(\" \")\n",
    "    for i in range(len(df)):\n",
    "        label = df.gender.iloc[i]\n",
    "        email = sentences.iloc[i]\n",
    "        for j in range(len(email)):\n",
    "            sentence = email[j]\n",
    "            text = preprocess_(email[j])\n",
    "            if text == \"\":\n",
    "                pass\n",
    "            else:\n",
    "                contents.append(sentence)\n",
    "                texts.append(text)\n",
    "                labels.append(label)\n",
    "    \n",
    "    return pd.DataFrame(np.array([contents, texts, labels]).T, columns = [\"content\", \"text\", \"gender\"])\n",
    "\n",
    "\n",
    "def get_df_dict(filename, prime_dir):\n",
    "    mail_df = preprocess(filename)\n",
    "    mail_df[\"text\"] = mail_df.content.apply(preprocess_)\n",
    "    mail_splits = get_splits(mail_df)\n",
    "    fastText_split(mail_df, mail_splits, prime_dir+\"email/\")\n",
    "    sent_df = get_sent_df(mail_df)\n",
    "    sent_splits =  get_splits(sent_df)\n",
    "    fastText_split(sent_df, sent_splits, prime_dir+\"sentence/\")\n",
    "    word_df = get_word_df(sent_df)\n",
    "    word_splits =  get_splits(word_df)\n",
    "    fastText_split(word_df, word_splits, prime_dir+\"word/\")\n",
    "    df_dict = {\"email\":{\"df\":{\"train\":mail_df.iloc[mail_splits[0]],\n",
    "                              \"dev\":mail_df.iloc[mail_splits[1]],\n",
    "                              \"test\":mail_df.iloc[mail_splits[2]]},\n",
    "                        \"train\":prime_dir+\"email/train.txt\",\n",
    "                        \"dev\":prime_dir+\"email/dev.txt\",\n",
    "                        \"test\":prime_dir+\"email/test.txt\"},\n",
    "               \"sentence\": {\"df\":{\"train\":sent_df.iloc[sent_splits[0]],\n",
    "                                  \"dev\":sent_df.iloc[sent_splits[1]],\n",
    "                                  \"test\":sent_df.iloc[sent_splits[2]]},\n",
    "                            \"train\":prime_dir+\"sentence/train.txt\",\n",
    "                            \"dev\":prime_dir+\"sentence/dev.txt\",\n",
    "                            \"test\":prime_dir+\"sentence/test.txt\"},\n",
    "               \"word\": {\"df\":{\"train\":word_df.iloc[word_splits[0]],\n",
    "                              \"dev\":word_df.iloc[word_splits[1]],\n",
    "                              \"test\":word_df.iloc[word_splits[2]]},\n",
    "                        \"train\":prime_dir+\"word/train.txt\",\n",
    "                        \"dev\":prime_dir+\"word/dev.txt\",\n",
    "                        \"test\":prime_dir+\"word/test.txt\"}}\n",
    "    return df_dict\n",
    "\n",
    "def update_df_dict(filename, df_dict):\n",
    "    f = open(filename)\n",
    "    lines = [line.strip() for line in f.readlines()]\n",
    "    f.close()\n",
    "    genders = [line.split(\" \")[0][9] for line in lines]\n",
    "    content = [\" \".join(line.split(\" \")[1:]) for line in lines]\n",
    "    data = np.array([content, genders]).T\n",
    "    mail_df = pd.DataFrame(data, columns = [\"content\", \"gender\"])\n",
    "    mail_df[\"text\"] = mail_df.content.apply(preprocess_)\n",
    "    #mail.to_csv(\"temp.csv\")\n",
    "    #mail_df = preprocess(\"temp.csv\")\n",
    "    sent_df = get_sent_df(mail_df)\n",
    "    word_df = get_word_df(sent_df)\n",
    "    df_dict[\"email\"][\"df\"][\"fairframe\"] = mail_df\n",
    "    df_dict[\"sentence\"][\"df\"][\"fairframe\"] = sent_df\n",
    "    df_dict[\"word\"][\"df\"][\"fairframe\"] = word_df\n",
    "    return df_dict"
   ]
  },
  {
   "cell_type": "code",
   "execution_count": 11,
   "metadata": {},
   "outputs": [],
   "source": [
    "senders = get_df_dict(\"sender_data.csv\", \"fastText_data/sender/\")\n",
    "recipients = get_df_dict(\"recipient_data.csv\", \"fastText_data/recipient/\")"
   ]
  },
  {
   "cell_type": "code",
   "execution_count": 12,
   "metadata": {},
   "outputs": [],
   "source": [
    "senders = update_df_dict(\"fastText_data/author_FairFrame.txt\",senders)\n",
    "recipients = update_df_dict(\"fastText_data/recipient_FairFrame.txt\" ,recipients)"
   ]
  },
  {
   "cell_type": "code",
   "execution_count": 11,
   "metadata": {
    "collapsed": true
   },
   "outputs": [],
   "source": [
    "\n",
    "\n",
    "data_dir = path.join(path.dirname(\"__file__\"), 'data')\n",
    "enron_input = path.join(data_dir, 'recipient_data.txt')\n",
    "fairframe_test = path.join(data_dir, 'fairframe.train') \n"
   ]
  },
  {
   "cell_type": "code",
   "execution_count": 12,
   "metadata": {
    "collapsed": true
   },
   "outputs": [],
   "source": [
    "#pipeline(cooking_input, cooking_input_norm)"
   ]
  },
  {
   "cell_type": "markdown",
   "metadata": {},
   "source": [
    "### Using fasttext"
   ]
  },
  {
   "cell_type": "code",
   "execution_count": 13,
   "metadata": {
    "collapsed": true
   },
   "outputs": [],
   "source": [
    "def print_results(N, p, r):\n",
    "    print(\"N\\t\" + str(N))\n",
    "    print(\"P@{}\\t{:.3f}\".format(1, p))\n",
    "    print(\"R@{}\\t{:.3f}\".format(1, r))"
   ]
  },
  {
   "cell_type": "code",
   "execution_count": 14,
   "metadata": {
    "collapsed": true
   },
   "outputs": [],
   "source": [
    "def results(N, p, r):\n",
    "    return N, p, r\n",
    "    "
   ]
  },
  {
   "cell_type": "code",
   "execution_count": 15,
   "metadata": {
    "collapsed": true
   },
   "outputs": [],
   "source": [
    "\n",
    "# Info to save the model\n",
    "model_dir = path.join(path.dirname(\"__file__\"), 'models')\n",
    "gender_output = path.join(model_dir, 'gender_classification')"
   ]
  },
  {
   "cell_type": "code",
   "execution_count": 18,
   "metadata": {
    "collapsed": true
   },
   "outputs": [],
   "source": [
    "def get_F1(p, r):\n",
    "    return(2.0/((p**-1)+(r**-1)))\n",
    "def get_acc(model, df):\n",
    "    \n",
    "    pred = df.text.apply(lambda x: model.predict(x)[0][0][9].capitalize())\n",
    "    return sum(pred==df.gender)/len(df)"
   ]
  },
  {
   "cell_type": "markdown",
   "metadata": {},
   "source": [
    "# Senders: Email Level"
   ]
  },
  {
   "cell_type": "code",
   "execution_count": 19,
   "metadata": {
    "scrolled": true
   },
   "outputs": [
    {
     "data": {
      "text/plain": [
       "(3, 3)"
      ]
     },
     "execution_count": 19,
     "metadata": {},
     "output_type": "execute_result"
    },
    {
     "data": {
      "image/png": "[encoded data removed]",
      "text/plain": [
       "<matplotlib.figure.Figure at 0x1a2297d668>"
      ]
     },
     "metadata": {},
     "output_type": "display_data"
    }
   ],
   "source": [
    "N_val = []\n",
    "precision = []\n",
    "recall = []\n",
    "f1 = []\n",
    "accs = []\n",
    "param_range = list(range(1,11))\n",
    "sender_val = senders[\"email\"][\"df\"][\"dev\"]\n",
    "for count in param_range:\n",
    "    model = train_supervised(input=senders[\"email\"][\"train\"], \n",
    "                             epoch=50, #tuned \n",
    "                             lr=10.0**-1, #tuned minimal improvements\n",
    "                             ws = 5, #default 5\n",
    "                             wordNgrams=count, #tuned 5\n",
    "                             verbose=2, #default 2\n",
    "                             minCount=1, #default 1 \n",
    "                             dim=200)\n",
    "    N,p,r =  results(*model.test(senders[\"email\"][\"dev\"]))\n",
    "    f1.append(get_F1(p,r))\n",
    "    N_val.append(N)\n",
    "    precision.append(p)\n",
    "    recall.append(r)\n",
    "    accs.append(get_acc(model, sender_val))\n",
    "\n",
    "\n",
    "\n",
    "\n",
    "plt.plot(param_range,f1)\n",
    "plt.plot(param_range, accs)\n",
    "param_range[np.argmax(f1)], param_range[np.argmax(accs)]\n"
   ]
  },
  {
   "cell_type": "code",
   "execution_count": 20,
   "metadata": {},
   "outputs": [
    {
     "data": {
      "text/plain": [
       "(-2, -2)"
      ]
     },
     "execution_count": 20,
     "metadata": {},
     "output_type": "execute_result"
    },
    {
     "data": {
      "image/png": "[encoded data removed]",
      "text/plain": [
       "<matplotlib.figure.Figure at 0x1a272c6780>"
      ]
     },
     "metadata": {},
     "output_type": "display_data"
    }
   ],
   "source": [
    "N_val = []\n",
    "precision = []\n",
    "recall = []\n",
    "f1 = []\n",
    "accs = []\n",
    "param_range = np.arange(-6,1)\n",
    "sender_val = senders[\"email\"][\"df\"][\"dev\"]\n",
    "for rate in 10.0**param_range:\n",
    "    model = train_supervised(input=senders[\"email\"][\"train\"], \n",
    "                             epoch=50, #tuned \n",
    "                             lr=rate, #tuned minimal improvements\n",
    "                             ws = 5, #default 5\n",
    "                             wordNgrams=2, #tuned \n",
    "                             verbose=2, #default 2\n",
    "                             minCount=1, #default 1 \n",
    "                             dim=200)\n",
    "    N,p,r =  results(*model.test(senders[\"email\"][\"dev\"]))\n",
    "    f1.append(get_F1(p,r))\n",
    "    N_val.append(N)\n",
    "    precision.append(p)\n",
    "    recall.append(r)\n",
    "    accs.append(get_acc(model, sender_val))\n",
    "\n",
    "\n",
    "plt.plot(param_range,f1)\n",
    "plt.plot(param_range, accs)\n",
    "param_range[np.argmax(f1)], param_range[np.argmax(accs)]"
   ]
  },
  {
   "cell_type": "code",
   "execution_count": 21,
   "metadata": {},
   "outputs": [
    {
     "name": "stdout",
     "output_type": "stream",
     "text": [
      "0.6658056183403294 0.6556847545219638\n"
     ]
    }
   ],
   "source": [
    "#best model for sender\n",
    "sender_test = senders[\"email\"][\"df\"][\"test\"]\n",
    "sender_val = senders[\"email\"][\"df\"][\"dev\"]\n",
    "senders[\"email\"][\"model\"] = train_supervised(input=senders[\"email\"][\"train\"], \n",
    "                             epoch=50, #tuned \n",
    "                             lr=10.0**-1, #tuned minimal improvements\n",
    "                             ws = 5, #tuned \n",
    "                             wordNgrams=1, #tuned \n",
    "                             verbose=2, #tuned minimal improvements\n",
    "                             minCount=1, \n",
    "                             dim=200)\n",
    "print(get_acc(senders[\"email\"][\"model\"], sender_test), get_acc(senders[\"email\"][\"model\"], sender_val))\n",
    "#insert model tested on fair frame here"
   ]
  },
  {
   "cell_type": "markdown",
   "metadata": {},
   "source": [
    "# Sender: Sentence Level"
   ]
  },
  {
   "cell_type": "code",
   "execution_count": 22,
   "metadata": {},
   "outputs": [
    {
     "data": {
      "text/plain": [
       "(1, 1)"
      ]
     },
     "execution_count": 22,
     "metadata": {},
     "output_type": "execute_result"
    },
    {
     "data": {
      "image/png": "[encoded data removed]",
      "text/plain": [
       "<matplotlib.figure.Figure at 0x1a28abccf8>"
      ]
     },
     "metadata": {},
     "output_type": "display_data"
    }
   ],
   "source": [
    "N_val = []\n",
    "precision = []\n",
    "recall = []\n",
    "f1 = []\n",
    "accs = []\n",
    "param_range = list(range(1,11))\n",
    "sender_val = senders[\"sentence\"][\"df\"][\"dev\"]\n",
    "for count in param_range:\n",
    "    model = train_supervised(input=senders[\"sentence\"][\"train\"], \n",
    "                             epoch=50, #tuned \n",
    "                             lr=10.0**-2, #tuned minimal improvements\n",
    "                             ws = 5, #default 5\n",
    "                             wordNgrams=count, #tuned 5\n",
    "                             verbose=2, #default 2\n",
    "                             minCount=1, #default 1 \n",
    "                             dim=200)\n",
    "    N,p,r =  results(*model.test(senders[\"sentence\"][\"dev\"]))\n",
    "    f1.append(get_F1(p,r))\n",
    "    N_val.append(N)\n",
    "    precision.append(p)\n",
    "    recall.append(r)\n",
    "    accs.append(get_acc(model, sender_val))\n",
    "\n",
    "\n",
    "\n",
    "\n",
    "plt.plot(param_range,f1)\n",
    "plt.plot(param_range, accs)\n",
    "param_range[np.argmax(f1)], param_range[np.argmax(accs)]"
   ]
  },
  {
   "cell_type": "code",
   "execution_count": 23,
   "metadata": {},
   "outputs": [
    {
     "data": {
      "text/plain": [
       "(-3, -3)"
      ]
     },
     "execution_count": 23,
     "metadata": {},
     "output_type": "execute_result"
    },
    {
     "data": {
      "image/png": "[encoded data removed]",
      "text/plain": [
       "<matplotlib.figure.Figure at 0x1a25e2b0b8>"
      ]
     },
     "metadata": {},
     "output_type": "display_data"
    }
   ],
   "source": [
    "N_val = []\n",
    "precision = []\n",
    "recall = []\n",
    "f1 = []\n",
    "accs = []\n",
    "param_range = np.arange(-6,1)\n",
    "sender_val = senders[\"sentence\"][\"df\"][\"dev\"]\n",
    "for rate in 10.0**param_range:\n",
    "    model = train_supervised(input=senders[\"sentence\"][\"train\"],\n",
    "                             epoch=50, #tuned \n",
    "                             lr=rate, #tuned minimal improvements\n",
    "                             ws = 5, #default 5\n",
    "                             wordNgrams=1, #tuned \n",
    "                             verbose=2, #default 2\n",
    "                             minCount=1, #default 1\n",
    "                             dim=200)\n",
    "    N,p,r =  results(*model.test(senders[\"sentence\"][\"dev\"]))\n",
    "    f1.append(get_F1(p,r))\n",
    "    N_val.append(N)\n",
    "    precision.append(p)\n",
    "    recall.append(r)\n",
    "    accs.append(get_acc(model, sender_val))\n",
    "\n",
    "\n",
    "plt.plot(param_range,f1)\n",
    "plt.plot(param_range, accs)\n",
    "param_range[np.argmax(f1)], param_range[np.argmax(accs)]"
   ]
  },
  {
   "cell_type": "code",
   "execution_count": 24,
   "metadata": {},
   "outputs": [
    {
     "name": "stdout",
     "output_type": "stream",
     "text": [
      "0.6834514788560254 0.6850085595500123\n"
     ]
    }
   ],
   "source": [
    "#best model for sender\n",
    "sender_test = senders[\"sentence\"][\"df\"][\"test\"]\n",
    "sender_val = senders[\"sentence\"][\"df\"][\"dev\"]\n",
    "senders[\"sentence\"][\"model\"] = train_supervised(input=senders[\"sentence\"][\"train\"], \n",
    "                             epoch=50, #tuned \n",
    "                             lr=10.0**-2, #tuned minimal improvements\n",
    "                             ws = 5, #tuned \n",
    "                             wordNgrams=1, #tuned \n",
    "                             verbose=2, #tuned minimal improvements\n",
    "                             minCount=1, \n",
    "                             dim=200)\n",
    "print(get_acc(senders[\"sentence\"][\"model\"], sender_test), get_acc(senders[\"sentence\"][\"model\"], sender_val))\n",
    "#insert model tested on fair frame here"
   ]
  },
  {
   "cell_type": "markdown",
   "metadata": {},
   "source": [
    "# Sender: Word Level"
   ]
  },
  {
   "cell_type": "code",
   "execution_count": 35,
   "metadata": {},
   "outputs": [
    {
     "data": {
      "text/plain": [
       "(8, 8)"
      ]
     },
     "execution_count": 35,
     "metadata": {},
     "output_type": "execute_result"
    },
    {
     "data": {
      "image/png": "[encoded data removed]",
      "text/plain": [
       "<matplotlib.figure.Figure at 0x1a27aa90f0>"
      ]
     },
     "metadata": {},
     "output_type": "display_data"
    }
   ],
   "source": [
    "N_val = []\n",
    "precision = []\n",
    "recall = []\n",
    "f1 = []\n",
    "accs = []\n",
    "param_range = list(range(1,11))\n",
    "sender_val = senders[\"word\"][\"df\"][\"dev\"]\n",
    "for count in param_range:\n",
    "    model = train_supervised(input=senders[\"word\"][\"train\"], \n",
    "                             epoch=50, #tuned \n",
    "                             lr=10.0**-2, #tuned minimal improvements\n",
    "                             ws = 5, #default 5\n",
    "                             wordNgrams=count, #tuned 6\n",
    "                             verbose=2, #default 2\n",
    "                             minCount=1, #default 1 \n",
    "                             dim=200)\n",
    "    N,p,r =  results(*model.test(senders[\"word\"][\"dev\"]))\n",
    "    f1.append(get_F1(p,r))\n",
    "    N_val.append(N)\n",
    "    precision.append(p)\n",
    "    recall.append(r)\n",
    "    accs.append(get_acc(model, sender_val))\n",
    "\n",
    "\n",
    "\n",
    "\n",
    "plt.plot(param_range,f1)\n",
    "plt.plot(param_range, accs)\n",
    "param_range[np.argmax(f1)], param_range[np.argmax(accs)]"
   ]
  },
  {
   "cell_type": "code",
   "execution_count": 26,
   "metadata": {},
   "outputs": [
    {
     "data": {
      "text/plain": [
       "(-2, -2)"
      ]
     },
     "execution_count": 26,
     "metadata": {},
     "output_type": "execute_result"
    },
    {
     "data": {
      "image/png": "[encoded data removed]",
      "text/plain": [
       "<matplotlib.figure.Figure at 0x1a2af48b00>"
      ]
     },
     "metadata": {},
     "output_type": "display_data"
    }
   ],
   "source": [
    "N_val = []\n",
    "precision = []\n",
    "recall = []\n",
    "f1 = []\n",
    "accs = []\n",
    "param_range = np.arange(-6,1)\n",
    "sender_val = senders[\"word\"][\"df\"][\"dev\"]\n",
    "for rate in 10.0**param_range:\n",
    "    model = train_supervised(input=senders[\"word\"][\"train\"], \n",
    "                             epoch=50, #tuned \n",
    "                             lr=rate, #tuned minimal improvements\n",
    "                             ws = 1, #tuned \n",
    "                             wordNgrams=1, #tuned \n",
    "                             verbose=1, #tuned minimal improvements\n",
    "                             minCount=1, \n",
    "                             dim=1)\n",
    "    N,p,r =  results(*model.test(senders[\"word\"][\"dev\"]))\n",
    "    f1.append(get_F1(p,r))\n",
    "    N_val.append(N)\n",
    "    precision.append(p)\n",
    "    recall.append(r)\n",
    "    accs.append(get_acc(model, sender_val))\n",
    "\n",
    "\n",
    "plt.plot(param_range,f1)\n",
    "plt.plot(param_range, accs)\n",
    "param_range[np.argmax(f1)], param_range[np.argmax(accs)]"
   ]
  },
  {
   "cell_type": "code",
   "execution_count": 27,
   "metadata": {},
   "outputs": [
    {
     "name": "stdout",
     "output_type": "stream",
     "text": [
      "0.6728977198453753 0.6766903249906612\n"
     ]
    }
   ],
   "source": [
    "#best model for sender\n",
    "sender_test = senders[\"word\"][\"df\"][\"test\"]\n",
    "sender_val = senders[\"word\"][\"df\"][\"dev\"]\n",
    "senders[\"word\"][\"model\"] = train_supervised(input=senders[\"word\"][\"train\"], \n",
    "                             epoch=50, #tuned \n",
    "                             lr=10.0**-2, #tuned minimal improvements\n",
    "                             ws = 5, #tuned \n",
    "                             wordNgrams=1, #tuned \n",
    "                             verbose=2, #tuned minimal improvements\n",
    "                             minCount=1, \n",
    "                             dim=200)\n",
    "print(get_acc(senders[\"word\"][\"model\"], sender_test), get_acc(senders[\"word\"][\"model\"], sender_val))\n",
    "#insert model tested on fair frame here"
   ]
  },
  {
   "cell_type": "markdown",
   "metadata": {},
   "source": [
    "# Recipients"
   ]
  },
  {
   "cell_type": "code",
   "execution_count": 28,
   "metadata": {},
   "outputs": [
    {
     "data": {
      "text/plain": [
       "5"
      ]
     },
     "execution_count": 28,
     "metadata": {},
     "output_type": "execute_result"
    },
    {
     "data": {
      "image/png": "[encoded data removed]",
      "text/plain": [
       "<matplotlib.figure.Figure at 0x1a25e07470>"
      ]
     },
     "metadata": {},
     "output_type": "display_data"
    }
   ],
   "source": [
    "N_val = []\n",
    "precision = []\n",
    "recall = []\n",
    "f1 = []\n",
    "accs = []\n",
    "param_range = list(range(1,11))\n",
    "recipient_val = recipients[\"email\"][\"df\"][\"dev\"]\n",
    "for count in param_range:\n",
    "    model = train_supervised(input=recipients[\"email\"][\"train\"], \n",
    "                             epoch=50, #tuned \n",
    "                             lr=10.0**-2, #tuned minimal improvements\n",
    "                             ws = 5, #default 5\n",
    "                             wordNgrams=count, #tuned 1\n",
    "                             verbose=2, #default 2\n",
    "                             minCount=1, #default 1\n",
    "                             dim=200)\n",
    "    N,p,r =  results(*model.test(recipients[\"email\"][\"dev\"]))\n",
    "    f1.append(get_F1(p,r))\n",
    "    N_val.append(N)\n",
    "    precision.append(p)\n",
    "    recall.append(r)\n",
    "    accs.append(get_acc(model, recipient_val))\n",
    "\n",
    "\n",
    "\n",
    "\n",
    "plt.plot(param_range,f1)\n",
    "param_range[np.argmax(f1)]"
   ]
  },
  {
   "cell_type": "code",
   "execution_count": 29,
   "metadata": {},
   "outputs": [
    {
     "data": {
      "text/plain": [
       "-2"
      ]
     },
     "execution_count": 29,
     "metadata": {},
     "output_type": "execute_result"
    },
    {
     "data": {
      "image/png": "[encoded data removed]",
      "text/plain": [
       "<matplotlib.figure.Figure at 0x1a2a8db1d0>"
      ]
     },
     "metadata": {},
     "output_type": "display_data"
    }
   ],
   "source": [
    "N_val = []\n",
    "precision = []\n",
    "recall = []\n",
    "f1 = []\n",
    "accs = []\n",
    "param_range = np.arange(-10,0)\n",
    "recipient_val = recipients[\"email\"][\"df\"][\"dev\"]\n",
    "for rate in 10.0**param_range:\n",
    "    model = train_supervised(input=recipients[\"email\"][\"train\"], \n",
    "                             epoch=50, #tuned \n",
    "                             lr=rate, #tuned minimal improvements\n",
    "                             ws = 5, #tuned \n",
    "                             wordNgrams=2, #tuned \n",
    "                             verbose=2, #tuned minimal improvements\n",
    "                             minCount=1, \n",
    "                             dim=200)\n",
    "    N,p,r =  results(*model.test(recipients[\"email\"][\"dev\"]))\n",
    "    f1.append(get_F1(p,r))\n",
    "    N_val.append(N)\n",
    "    precision.append(p)\n",
    "    recall.append(r)\n",
    "    accs.append(get_acc(model, recipient_val))\n",
    "\n",
    "plt.plot(param_range,f1)\n",
    "param_range[np.argmax(f1)]"
   ]
  },
  {
   "cell_type": "code",
   "execution_count": 30,
   "metadata": {},
   "outputs": [
    {
     "name": "stdout",
     "output_type": "stream",
     "text": [
      "0.5222319093286836 0.5284883720930232\n"
     ]
    }
   ],
   "source": [
    "#Best model for recipient\n",
    "recipient_test = recipients[\"email\"][\"df\"][\"test\"]\n",
    "recipient_val = recipients[\"email\"][\"df\"][\"dev\"]\n",
    "recipients[\"email\"][\"model\"] = train_supervised(input=recipients[\"email\"][\"train\"], \n",
    "                             epoch=50, #tuned \n",
    "                             lr=10.0**-2, #tuned minimal improvements\n",
    "                             ws = 5, #tuned \n",
    "                             wordNgrams=1, #tuned \n",
    "                             verbose=2, #tuned minimal improvements\n",
    "                             minCount=1, \n",
    "                             dim=200)\n",
    "\n",
    "print(get_acc(recipients[\"email\"][\"model\"], recipient_test), get_acc(recipients[\"email\"][\"model\"], recipient_val))\n",
    "#insert model tested on fair frame here"
   ]
  },
  {
   "cell_type": "markdown",
   "metadata": {},
   "source": [
    "# Recipient: Sentence Level"
   ]
  },
  {
   "cell_type": "code",
   "execution_count": 31,
   "metadata": {},
   "outputs": [
    {
     "data": {
      "text/plain": [
       "(2, 2)"
      ]
     },
     "execution_count": 31,
     "metadata": {},
     "output_type": "execute_result"
    },
    {
     "data": {
      "image/png": "[encoded data removed]",
      "text/plain": [
       "<matplotlib.figure.Figure at 0x1a27828518>"
      ]
     },
     "metadata": {},
     "output_type": "display_data"
    }
   ],
   "source": [
    "N_val = []\n",
    "precision = []\n",
    "recall = []\n",
    "f1 = []\n",
    "accs = []\n",
    "param_range = list(range(1,11))\n",
    "recipient_val = recipients[\"sentence\"][\"df\"][\"dev\"]\n",
    "for count in param_range:\n",
    "    model = train_supervised(input=recipients[\"sentence\"][\"train\"], \n",
    "                             epoch=50, #tuned \n",
    "                             lr=10.0**-2, #tuned minimal improvements\n",
    "                             ws = 5, #default 5\n",
    "                             wordNgrams=count, #tuned 1\n",
    "                             verbose=2, #default 2\n",
    "                             minCount=1, #default 1 \n",
    "                             dim=200)\n",
    "    N,p,r =  results(*model.test(recipients[\"sentence\"][\"dev\"]))\n",
    "    f1.append(get_F1(p,r))\n",
    "    N_val.append(N)\n",
    "    precision.append(p)\n",
    "    recall.append(r)\n",
    "    accs.append(get_acc(model, recipient_val))\n",
    "\n",
    "\n",
    "\n",
    "\n",
    "plt.plot(param_range,f1)\n",
    "plt.plot(param_range, accs)\n",
    "param_range[np.argmax(f1)], param_range[np.argmax(accs)]"
   ]
  },
  {
   "cell_type": "code",
   "execution_count": 32,
   "metadata": {},
   "outputs": [
    {
     "data": {
      "text/plain": [
       "(-2, -2)"
      ]
     },
     "execution_count": 32,
     "metadata": {},
     "output_type": "execute_result"
    },
    {
     "data": {
      "image/png": "[encoded data removed]",
      "text/plain": [
       "<matplotlib.figure.Figure at 0x1a2ae254e0>"
      ]
     },
     "metadata": {},
     "output_type": "display_data"
    }
   ],
   "source": [
    "N_val = []\n",
    "precision = []\n",
    "recall = []\n",
    "f1 = []\n",
    "accs = []\n",
    "param_range = np.arange(-6,1)\n",
    "recipient_val = recipients[\"sentence\"][\"df\"][\"dev\"]\n",
    "for rate in 10.0**param_range:\n",
    "    model = train_supervised(input=recipients[\"sentence\"][\"train\"],\n",
    "                             epoch=50, #tuned \n",
    "                             lr=rate, #tuned minimal improvements\n",
    "                             ws = 1, #tuned \n",
    "                             wordNgrams=1, #tuned \n",
    "                             verbose=1, #tuned minimal improvements\n",
    "                             minCount=1, \n",
    "                             dim=200)\n",
    "    N,p,r =  results(*model.test(recipients[\"sentence\"][\"dev\"]))\n",
    "    f1.append(get_F1(p,r))\n",
    "    N_val.append(N)\n",
    "    precision.append(p)\n",
    "    recall.append(r)\n",
    "    accs.append(get_acc(model, recipient_val))\n",
    "\n",
    "\n",
    "plt.plot(param_range,f1)\n",
    "plt.plot(param_range, accs)\n",
    "param_range[np.argmax(f1)], param_range[np.argmax(accs)]"
   ]
  },
  {
   "cell_type": "code",
   "execution_count": 33,
   "metadata": {},
   "outputs": [
    {
     "name": "stdout",
     "output_type": "stream",
     "text": [
      "0.5232468249585864 0.541095890410959\n"
     ]
    }
   ],
   "source": [
    "#best model for sender\n",
    "recipient_test = recipients[\"sentence\"][\"df\"][\"test\"]\n",
    "recipient_val = recipients[\"sentence\"][\"df\"][\"dev\"]\n",
    "recipients[\"sentence\"][\"model\"] = train_supervised(input=recipients[\"sentence\"][\"train\"], \n",
    "                             epoch=50, #tuned \n",
    "                             lr=10.0**-2, #tuned minimal improvements\n",
    "                             ws = 1, #tuned \n",
    "                             wordNgrams=1, #tuned \n",
    "                             verbose=1, #tuned minimal improvements\n",
    "                             minCount=1, \n",
    "                             dim=200)\n",
    "print(get_acc(recipients[\"sentence\"][\"model\"], recipient_test), get_acc(recipients[\"sentence\"][\"model\"], recipient_val))\n",
    "#insert model tested on fair frame here"
   ]
  },
  {
   "cell_type": "markdown",
   "metadata": {},
   "source": [
    "# Recipient: Word Level"
   ]
  },
  {
   "cell_type": "code",
   "execution_count": 34,
   "metadata": {},
   "outputs": [
    {
     "data": {
      "text/plain": [
       "(1, 1)"
      ]
     },
     "execution_count": 34,
     "metadata": {},
     "output_type": "execute_result"
    },
    {
     "data": {
      "image/png": "[encoded data removed]",
      "text/plain": [
       "<matplotlib.figure.Figure at 0x1a297bde10>"
      ]
     },
     "metadata": {},
     "output_type": "display_data"
    }
   ],
   "source": [
    "N_val = []\n",
    "precision = []\n",
    "recall = []\n",
    "f1 = []\n",
    "accs = []\n",
    "param_range = list(range(1,11))\n",
    "recipient_val = recipients[\"word\"][\"df\"][\"dev\"]\n",
    "for count in param_range:\n",
    "    model = train_supervised(input=recipients[\"word\"][\"train\"], \n",
    "                             epoch=50, #tuned \n",
    "                             lr=10.0**-1, #tuned minimal improvements\n",
    "                             ws = 5, #default 5\n",
    "                             wordNgrams=count, #tuned\n",
    "                             verbose=2, #default 2\n",
    "                             minCount=1, #default 1 \n",
    "                             dim=200)\n",
    "    N,p,r =  results(*model.test(recipients[\"word\"][\"dev\"]))\n",
    "    f1.append(get_F1(p,r))\n",
    "    N_val.append(N)\n",
    "    precision.append(p)\n",
    "    recall.append(r)\n",
    "    accs.append(get_acc(model, recipient_val))\n",
    "\n",
    "\n",
    "\n",
    "\n",
    "plt.plot(param_range,f1)\n",
    "plt.plot(param_range, accs)\n",
    "param_range[np.argmax(f1)], param_range[np.argmax(accs)]"
   ]
  },
  {
   "cell_type": "code",
   "execution_count": 38,
   "metadata": {},
   "outputs": [
    {
     "data": {
      "text/plain": [
       "(-9, -9)"
      ]
     },
     "execution_count": 38,
     "metadata": {},
     "output_type": "execute_result"
    },
    {
     "data": {
      "image/png": "[encoded data removed]",
      "text/plain": [
       "<matplotlib.figure.Figure at 0x1a268efdd8>"
      ]
     },
     "metadata": {},
     "output_type": "display_data"
    }
   ],
   "source": [
    "N_val = []\n",
    "precision = []\n",
    "recall = []\n",
    "f1 = []\n",
    "accs = []\n",
    "param_range = np.arange(-9,-3)\n",
    "recipient_val = recipients[\"word\"][\"df\"][\"dev\"]\n",
    "for rate in 10.0**param_range:\n",
    "    model = train_supervised(input=recipients[\"word\"][\"train\"], \n",
    "                             epoch=50, #tuned \n",
    "                             lr=rate, #tuned minimal improvements\n",
    "                             ws = 5, #default 5\n",
    "                             wordNgrams=2, #tuned \n",
    "                             verbose=2, #default 2\n",
    "                             minCount=1, #default 1 \n",
    "                             dim=200)\n",
    "    N,p,r =  results(*model.test(recipients[\"word\"][\"dev\"]))\n",
    "    f1.append(get_F1(p,r))\n",
    "    N_val.append(N)\n",
    "    precision.append(p)\n",
    "    recall.append(r)\n",
    "    accs.append(get_acc(model, recipient_val))\n",
    "\n",
    "\n",
    "plt.plot(param_range,f1)\n",
    "plt.plot(param_range, accs)\n",
    "param_range[np.argmax(f1)], param_range[np.argmax(accs)]"
   ]
  },
  {
   "cell_type": "code",
   "execution_count": 40,
   "metadata": {},
   "outputs": [
    {
     "name": "stdout",
     "output_type": "stream",
     "text": [
      "0.5282108708760445 0.5334459110176792\n"
     ]
    }
   ],
   "source": [
    "#best model for sender\n",
    "recipient_test = recipients[\"word\"][\"df\"][\"test\"]\n",
    "recipient_val = recipients[\"word\"][\"df\"][\"dev\"]\n",
    "recipients[\"word\"][\"model\"] = train_supervised(input=recipients[\"word\"][\"train\"], \n",
    "                             epoch=50, #tuned \n",
    "                             lr=10.0**-4, #tuned minimal improvements\n",
    "                             ws = 5, #tuned \n",
    "                             wordNgrams=1, #tuned \n",
    "                             verbose=2, #tuned minimal improvements\n",
    "                             minCount=1, \n",
    "                             dim=200)\n",
    "print(get_acc(recipients[\"word\"][\"model\"], recipient_test), get_acc(recipients[\"word\"][\"model\"], recipient_val))\n",
    "#insert model tested on fair frame here"
   ]
  },
  {
   "cell_type": "markdown",
   "metadata": {},
   "source": [
    "# Vizulations and Examples"
   ]
  },
  {
   "cell_type": "code",
   "execution_count": 44,
   "metadata": {
    "collapsed": true
   },
   "outputs": [],
   "source": [
    "\n",
    "\n",
    "def get_prob_df(df, model):\n",
    "    label = df.gender\n",
    "    label.name = \"true_label\"\n",
    "    pred_label = df.text.apply(lambda x: model.predict(x)[0][0][9].capitalize())\n",
    "    pred_label.name = \"predicted_label\"\n",
    "    prob_label = df.text.apply(lambda x: model.predict(x)[1][0])\n",
    "    prob_label.name = \"prob_of_predicted_label\"\n",
    "    prob_label = prob_label.apply(lambda x: x**(x<1))\n",
    "    prob_F = abs(1*(pred_label == \"M\")-prob_label)\n",
    "    prob_F.name = \"prob of F\"\n",
    "    prob_M = abs(1*(pred_label == \"F\")-prob_label)\n",
    "    prob_M.name = \"prob of M\"\n",
    "    data = [label, pred_label, prob_label, prob_F, prob_M, df.content, df.text]\n",
    "    return pd.concat(data, axis=1, keys=[s.name for s in data])\n",
    "\n",
    "def get_results(df_dict, prime_dir):\n",
    "    for key, level in df_dict.items():\n",
    "        model = level[\"model\"]\n",
    "        test = level[\"df\"][\"test\"]\n",
    "        fairframe = level[\"df\"][\"fairframe\"]\n",
    "        df_dict[key][\"results\"] ={\"test\":get_prob_df(test, model),\n",
    "                                  \"fairframe\":get_prob_df(fairframe, model)}\n",
    "        df_dict[key][\"results\"][\"test\"].to_csv(\"%s/%s/test.csv\"%(prime_dir, key))\n",
    "        df_dict[key][\"results\"][\"fairframe\"].to_csv(\"%s/%s/fairframe.csv\"%(prime_dir, key))\n",
    "    return df_dict\n",
    "senders = get_results(senders, \"results/sender\")\n",
    "recipients = get_results(recipients, \"results/recipient\")"
   ]
  },
  {
   "cell_type": "code",
   "execution_count": 42,
   "metadata": {
    "collapsed": true
   },
   "outputs": [],
   "source": [
    "sender_test_pred = get_prob_df(sender_test, sender_model)\n",
    "recipient_test_pred = get_prob_df(recipient_test, recipient_model)"
   ]
  },
  {
   "cell_type": "code",
   "execution_count": 43,
   "metadata": {
    "collapsed": true
   },
   "outputs": [],
   "source": [
    "def get_prob_df_from_txt(filename, model):\n",
    "    f = open(filename, \"r\")\n",
    "    lines =  f.read().split(\"\\n\")[:-1]\n",
    "    f.close()\n",
    "    labels = [line[9].capitalize() for line in lines]\n",
    "    labels = pd.Series(labels, name=\"true_label\")\n",
    "    pred_label = [model.predict(x)[0][0][9].capitalize() for x in lines]\n",
    "    pred_label = pd.Series(pred_label, name=\"predicted_label\")\n",
    "    prob_label = [model.predict(x)[1][0]  for x in lines]\n",
    "    prob_label = pd.Series(prob_label, name=\"prob_of_predicted_label\")\n",
    "    prob_label = prob_label.apply(lambda x: x**(x<1))\n",
    "    prob_F = abs(1*(pred_label == \"M\")-prob_label)\n",
    "    prob_F.name = \"prob of F\"\n",
    "    prob_M = abs(1*(pred_label == \"F\")-prob_label)\n",
    "    prob_M.name = \"prob of M\"\n",
    "    data = [labels, pred_label, prob_label, prob_F, prob_M]\n",
    "    return pd.concat(data, axis=1, keys=[s.name for s in data])\n"
   ]
  },
  {
   "cell_type": "code",
   "execution_count": 44,
   "metadata": {
    "collapsed": true
   },
   "outputs": [],
   "source": [
    "sender_fairframe_df = get_prob_df_from_txt(sender[\"fairframe\"], sender_model)\n",
    "recipient_fairframe_df = get_prob_df_from_txt(recipient[\"fairframe\"], recipient_model)"
   ]
  },
  {
   "cell_type": "code",
   "execution_count": 45,
   "metadata": {
    "collapsed": true
   },
   "outputs": [],
   "source": [
    "from sklearn import linear_model, svm, metrics\n",
    "t"
   ]
  },
  {
   "cell_type": "code",
   "execution_count": 46,
   "metadata": {},
   "outputs": [
    {
     "data": {
      "image/png": "[encoded data removed]",
      "text/plain": [
       "<matplotlib.figure.Figure at 0x1a29dc2ef0>"
      ]
     },
     "metadata": {},
     "output_type": "display_data"
    }
   ],
   "source": [
    "fig = plt.figure(figsize = (12, 6))\n",
    "ax = plt.subplot(111)\n",
    "rocplot(1*(sender_test_pred.true_label == \"F\"),\n",
    "        sender_test_pred[\"prob of F\"],\n",
    "        \"fastText on Enron Sender Gender\")\n",
    "rocplot(1*(recipient_test_pred.true_label == \"F\"),\n",
    "        recipient_test_pred[\"prob of F\"],\n",
    "        \"fastText on Enron Recipient Gender\")\n",
    "rocplot(1*(sender_fairframe_df.true_label == \"F\"),\n",
    "        sender_fairframe_df[\"prob of F\"],\n",
    "        \"fastText on FairFrame Author Gender\")\n",
    "rocplot(1*(recipient_fairframe_df.true_label == \"F\"),\n",
    "        recipient_fairframe_df[\"prob of F\"],\n",
    "        \"fastText on FairFrame Recipient Gender\")\n",
    "plt.title(\"fastText on Enron emails and Fairframe Reviews\")\n",
    "box = ax.get_position()\n",
    "ax.set_position([box.x0, box.y0 + box.height * 0.0 , box.width, box.height * 1])\n",
    "lgd = ax.legend(loc = 'upper center', bbox_to_anchor = (0.5, -0.15), fancybox = True,\n",
    "                shadow = True, ncol = 2, prop = {'size':10})\n",
    "plt.savefig(\"ROC.png\")"
   ]
  },
  {
   "cell_type": "code",
   "execution_count": 47,
   "metadata": {},
   "outputs": [
    {
     "data": {
      "image/png": "[encoded data removed]",
      "text/plain": [
       "<matplotlib.figure.Figure at 0x1a29dd2e80>"
      ]
     },
     "metadata": {},
     "output_type": "display_data"
    }
   ],
   "source": [
    "#based off of matplotlib demo\n",
    "#https://matplotlib.org/examples/api/barchart_demo.html\n",
    "\n",
    "N = 2\n",
    "fastText_accs = (get_acc(sender_model, sender_test), get_acc(recipient_model, recipient_test))\n",
    "CNN_accs =(0.6551501453019051, 0.4963673350770125) # these values were taken from the bowCNN notebook\n",
    "ind = np.arange(N)  # the x locations for the groups\n",
    "width = 0.35       # the width of the bars\n",
    "\n",
    "fig, ax = plt.subplots()\n",
    "rects1 = ax.bar(ind, fastText_accs, width, color='r')\n",
    "\n",
    "\n",
    "rects2 = ax.bar(ind + width, CNN_accs, width, color='y')\n",
    "plt.ylim([0.0, 1.0])\n",
    "# add some text for labels, title and axes ticks\n",
    "ax.set_ylabel('Accuracy')\n",
    "ax.set_title('fastText vs. bow-CNN')\n",
    "ax.set_xticks(ind + width / 2)\n",
    "ax.set_xticklabels(('Sender', 'Recipient'))\n",
    "\n",
    "ax.legend((rects1[0], rects2[0]), ('fastText', 'bow-CNN'))\n",
    "\n",
    "\n",
    "def autolabel(rects):\n",
    "    \"\"\"\n",
    "    Attach a text label above each bar displaying its height\n",
    "    \"\"\"\n",
    "    for rect in rects:\n",
    "        height = rect.get_height()\n",
    "        ax.text(rect.get_x() + rect.get_width()/2., 1.05*height,\n",
    "                '%s' % round(height,2),\n",
    "                ha='center', va='bottom')\n",
    "\n",
    "autolabel(rects1)\n",
    "autolabel(rects2)\n",
    "#uncomment to save figure\n",
    "#plt.savefig(\"bars_comparison.png\")"
   ]
  },
  {
   "cell_type": "markdown",
   "metadata": {},
   "source": [
    "# Example Sentences"
   ]
  },
  {
   "cell_type": "code",
   "execution_count": 48,
   "metadata": {
    "collapsed": true
   },
   "outputs": [],
   "source": [
    "import random\n",
    "def worst_example_finder(df, pred_df, num_examples = 10, p =0.7):\n",
    "    choose_from = pred_df[:][pred_df.true_label != pred_df.predicted_label]\n",
    "    emails = df.content[pred_df.true_label != pred_df.predicted_label]\n",
    "    chosen = emails[choose_from[\"prob_of_predicted_label\"] >= p]\n",
    "    probs = choose_from[\"prob_of_predicted_label\"][choose_from[\"prob_of_predicted_label\"] >= p]\n",
    "    labels = choose_from[\"predicted_label\"][choose_from[\"prob_of_predicted_label\"] >= p]\n",
    "    for i in range(num_examples):\n",
    "        rando = int(random.randint(0,len(chosen)))\n",
    "        print(chosen.iloc[rando]+\" \\n (With probability %s as %s) \\n\" %(probs.iloc[rando], labels.iloc[rando]) )\n",
    "    "
   ]
  },
  {
   "cell_type": "code",
   "execution_count": 49,
   "metadata": {},
   "outputs": [
    {
     "name": "stdout",
     "output_type": "stream",
     "text": [
      "it's an aquired taste \n",
      " (With probability 1.0 as M) \n",
      "\n",
      "Tom,  Thanks. If dummyname have an extra copy, please send dummyname one.  dummyname \n",
      " (With probability 0.9738147258758545 as M) \n",
      "\n",
      "Jeremy, I need to have dummyname to calc all books on a minibook level.  Please let dummyname  know if dummyname need dummyname further information.  Also, how my proposed index book  move coming along?  Thanks. DG    dummydate \n",
      " (With probability 0.9486370086669922 as F) \n",
      "\n",
      "Those look good, thanks.  dummyname \n",
      " (With probability 0.9544158577919006 as M) \n",
      "\n",
      "Shirley,  Pleae, invite Clayton.  dummyname \n",
      " (With probability 0.9985066652297974 as F) \n",
      "\n"
     ]
    }
   ],
   "source": [
    "worst_example_finder(sender_test, sender_test_pred, 5, .9)"
   ]
  },
  {
   "cell_type": "code",
   "execution_count": 37,
   "metadata": {
    "collapsed": true
   },
   "outputs": [],
   "source": [
    "def best_example_finder(df, pred_df, num_examples = 10, p = 0.7):\n",
    "    choose_from = pred_df[:][pred_df.true_label == pred_df.predicted_label]\n",
    "    emails = df.content[pred_df.true_label == pred_df.predicted_label]\n",
    "    chosen = emails[choose_from[\"prob_of_predicted_label\"] >= p]\n",
    "    probs = choose_from[\"prob_of_predicted_label\"][choose_from[\"prob_of_predicted_label\"] >= p]\n",
    "    labels = choose_from[\"predicted_label\"][choose_from[\"prob_of_predicted_label\"] >= p]\n",
    "    for i in range(num_examples):\n",
    "        rando = int(random.randint(0,len(chosen)))\n",
    "        print(chosen.iloc[rando]+\" \\n (With probability %s as %s) \\n\" %(probs.iloc[rando], labels.iloc[rando]) )"
   ]
  },
  {
   "cell_type": "code",
   "execution_count": 50,
   "metadata": {},
   "outputs": [
    {
     "name": "stdout",
     "output_type": "stream",
     "text": [
      "pls print.  thanks df \n",
      " (With probability 1.0 as M) \n",
      "\n",
      "I extended dummyname deal.  D \n",
      " (With probability 1.0 as M) \n",
      "\n",
      "Ava, have dummyname taken dummyname of this?  Thanks. Lynn \n",
      " (With probability 1.0 as M) \n",
      "\n",
      "Jerk       \t \t \n",
      " (With probability 1.0 as M) \n",
      "\n",
      "My details to dummyname and Sharron... \n",
      " (With probability 1.0 as M) \n",
      "\n"
     ]
    }
   ],
   "source": [
    "best_example_finder(sender_test, sender_test_pred, 5, 1)"
   ]
  },
  {
   "cell_type": "markdown",
   "metadata": {},
   "source": [
    "### Not normalized input"
   ]
  },
  {
   "cell_type": "markdown",
   "metadata": {},
   "source": [
    "### Normalized input"
   ]
  },
  {
   "cell_type": "markdown",
   "metadata": {},
   "source": [
    "### Load existing test"
   ]
  },
  {
   "cell_type": "markdown",
   "metadata": {},
   "source": [
    "### Predictions"
   ]
  }
 ],
 "metadata": {
  "kernelspec": {
   "display_name": "Python 3",
   "language": "python",
   "name": "python3"
  },
  "language_info": {
   "codemirror_mode": {
    "name": "ipython",
    "version": 3
   },
   "file_extension": ".py",
   "mimetype": "text/x-python",
   "name": "python",
   "nbconvert_exporter": "python",
   "pygments_lexer": "ipython3",
   "version": "3.6.3"
  }
 },
 "nbformat": 4,
 "nbformat_minor": 2
}
