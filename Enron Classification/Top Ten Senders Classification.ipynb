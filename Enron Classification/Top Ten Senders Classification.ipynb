{
 "cells": [
  {
   "cell_type": "code",
   "execution_count": 1,
   "metadata": {
    "collapsed": true
   },
   "outputs": [],
   "source": [
    "# https://www.kaggle.com/yaroshevskiy/enron-top-10-senders-classification"
   ]
  },
  {
   "cell_type": "code",
   "execution_count": 1,
   "metadata": {
    "_cell_guid": "5960fa3c-1c8c-89fa-7f8b-0f6b69c37620",
    "_uuid": "732eede7c00c646e4aee757fd40ad311805329e6"
   },
   "outputs": [
    {
     "name": "stderr",
     "output_type": "stream",
     "text": [
      "/anaconda3/lib/python3.6/site-packages/sklearn/cross_validation.py:41: DeprecationWarning: This module was deprecated in version 0.18 in favor of the model_selection module into which all the refactored classes and functions are moved. Also note that the interface of the new CV iterators are different from that of this module. This module will be removed in 0.20.\n",
      "  \"This module will be removed in 0.20.\", DeprecationWarning)\n",
      "/anaconda3/lib/python3.6/site-packages/sklearn/grid_search.py:42: DeprecationWarning: This module was deprecated in version 0.18 in favor of the model_selection module into which all the refactored classes and functions are moved. This module will be removed in 0.20.\n",
      "  DeprecationWarning)\n"
     ]
    }
   ],
   "source": [
    "import numpy as np\n",
    "import pandas as pd\n",
    "import re\n",
    "import random\n",
    "import email\n",
    "from nltk.corpus import stopwords\n",
    "from sklearn.feature_extraction.text import TfidfVectorizer, CountVectorizer\n",
    "from sklearn.linear_model import LogisticRegression, SGDClassifier\n",
    "from sklearn import metrics \n",
    "from sklearn.feature_selection import SelectFromModel\n",
    "from sklearn.svm import LinearSVC\n",
    "from sklearn.ensemble import RandomForestClassifier, GradientBoostingClassifier\n",
    "from sklearn.cross_validation import cross_val_score\n",
    "from sklearn.grid_search import GridSearchCV\n",
    "from sklearn.metrics import classification_report\n",
    "from sklearn.metrics import confusion_matrix\n",
    "\n",
    "from sklearn.cross_validation import train_test_split\n",
    "from sklearn.decomposition import TruncatedSVD\n",
    "\n",
    "from scipy.sparse import coo_matrix, hstack"
   ]
  },
  {
   "cell_type": "code",
   "execution_count": 2,
   "metadata": {
    "_cell_guid": "0ef0eef9-af39-1007-a899-e10d52447728",
    "_uuid": "2533b74b00dee36fbc0fd1b4d094939688df68fe",
    "collapsed": true
   },
   "outputs": [],
   "source": [
    "enron_data = pd.read_csv(\"emails.csv\", header=0, quoting=2)"
   ]
  },
  {
   "cell_type": "code",
   "execution_count": 4,
   "metadata": {
    "_cell_guid": "49ee202d-e8f6-4b46-53b2-c0626bd8470a",
    "_uuid": "c34ea1394208c0c016b8d4548b886691d51f68d1"
   },
   "outputs": [
    {
     "data": {
      "text/html": [
       "<div>\n",
       "<style>\n",
       "    .dataframe thead tr:only-child th {\n",
       "        text-align: right;\n",
       "    }\n",
       "\n",
       "    .dataframe thead th {\n",
       "        text-align: left;\n",
       "    }\n",
       "\n",
       "    .dataframe tbody tr th {\n",
       "        vertical-align: top;\n",
       "    }\n",
       "</style>\n",
       "<table border=\"1\" class=\"dataframe\">\n",
       "  <thead>\n",
       "    <tr style=\"text-align: right;\">\n",
       "      <th></th>\n",
       "      <th>file</th>\n",
       "      <th>message</th>\n",
       "    </tr>\n",
       "  </thead>\n",
       "  <tbody>\n",
       "    <tr>\n",
       "      <th>0</th>\n",
       "      <td>allen-p/_sent_mail/1.</td>\n",
       "      <td>Message-ID: &lt;18782981.1075855378110.JavaMail.e...</td>\n",
       "    </tr>\n",
       "    <tr>\n",
       "      <th>1</th>\n",
       "      <td>allen-p/_sent_mail/10.</td>\n",
       "      <td>Message-ID: &lt;15464986.1075855378456.JavaMail.e...</td>\n",
       "    </tr>\n",
       "    <tr>\n",
       "      <th>2</th>\n",
       "      <td>allen-p/_sent_mail/100.</td>\n",
       "      <td>Message-ID: &lt;24216240.1075855687451.JavaMail.e...</td>\n",
       "    </tr>\n",
       "    <tr>\n",
       "      <th>3</th>\n",
       "      <td>allen-p/_sent_mail/1000.</td>\n",
       "      <td>Message-ID: &lt;13505866.1075863688222.JavaMail.e...</td>\n",
       "    </tr>\n",
       "    <tr>\n",
       "      <th>4</th>\n",
       "      <td>allen-p/_sent_mail/1001.</td>\n",
       "      <td>Message-ID: &lt;30922949.1075863688243.JavaMail.e...</td>\n",
       "    </tr>\n",
       "  </tbody>\n",
       "</table>\n",
       "</div>"
      ],
      "text/plain": [
       "                       file                                            message\n",
       "0     allen-p/_sent_mail/1.  Message-ID: <18782981.1075855378110.JavaMail.e...\n",
       "1    allen-p/_sent_mail/10.  Message-ID: <15464986.1075855378456.JavaMail.e...\n",
       "2   allen-p/_sent_mail/100.  Message-ID: <24216240.1075855687451.JavaMail.e...\n",
       "3  allen-p/_sent_mail/1000.  Message-ID: <13505866.1075863688222.JavaMail.e...\n",
       "4  allen-p/_sent_mail/1001.  Message-ID: <30922949.1075863688243.JavaMail.e..."
      ]
     },
     "execution_count": 4,
     "metadata": {},
     "output_type": "execute_result"
    }
   ],
   "source": [
    "enron_data.head()"
   ]
  },
  {
   "cell_type": "code",
   "execution_count": 4,
   "metadata": {
    "collapsed": true
   },
   "outputs": [],
   "source": [
    "#list(enron_data.file.unique()) #Checking what types of emails exist, e.g. sent, etc."
   ]
  },
  {
   "cell_type": "code",
   "execution_count": 11,
   "metadata": {
    "_cell_guid": "0f319354-1d94-4dc0-1576-80089cd52b6a",
    "_uuid": "969ac5c4e9a38b34893840ebf1dc749ac169df50"
   },
   "outputs": [
    {
     "data": {
      "text/html": [
       "<div>\n",
       "<style>\n",
       "    .dataframe thead tr:only-child th {\n",
       "        text-align: right;\n",
       "    }\n",
       "\n",
       "    .dataframe thead th {\n",
       "        text-align: left;\n",
       "    }\n",
       "\n",
       "    .dataframe tbody tr th {\n",
       "        vertical-align: top;\n",
       "    }\n",
       "</style>\n",
       "<table border=\"1\" class=\"dataframe\">\n",
       "  <thead>\n",
       "    <tr style=\"text-align: right;\">\n",
       "      <th></th>\n",
       "      <th>file</th>\n",
       "      <th>message</th>\n",
       "    </tr>\n",
       "  </thead>\n",
       "  <tbody>\n",
       "    <tr>\n",
       "      <th>0</th>\n",
       "      <td>allen-p/_sent_mail/1.</td>\n",
       "      <td>Message-ID: &lt;18782981.1075855378110.JavaMail.e...</td>\n",
       "    </tr>\n",
       "    <tr>\n",
       "      <th>1</th>\n",
       "      <td>allen-p/_sent_mail/10.</td>\n",
       "      <td>Message-ID: &lt;15464986.1075855378456.JavaMail.e...</td>\n",
       "    </tr>\n",
       "    <tr>\n",
       "      <th>2</th>\n",
       "      <td>allen-p/_sent_mail/100.</td>\n",
       "      <td>Message-ID: &lt;24216240.1075855687451.JavaMail.e...</td>\n",
       "    </tr>\n",
       "    <tr>\n",
       "      <th>3</th>\n",
       "      <td>allen-p/_sent_mail/1000.</td>\n",
       "      <td>Message-ID: &lt;13505866.1075863688222.JavaMail.e...</td>\n",
       "    </tr>\n",
       "    <tr>\n",
       "      <th>4</th>\n",
       "      <td>allen-p/_sent_mail/1001.</td>\n",
       "      <td>Message-ID: &lt;30922949.1075863688243.JavaMail.e...</td>\n",
       "    </tr>\n",
       "    <tr>\n",
       "      <th>5</th>\n",
       "      <td>allen-p/_sent_mail/1002.</td>\n",
       "      <td>Message-ID: &lt;30965995.1075863688265.JavaMail.e...</td>\n",
       "    </tr>\n",
       "    <tr>\n",
       "      <th>6</th>\n",
       "      <td>allen-p/_sent_mail/1003.</td>\n",
       "      <td>Message-ID: &lt;16254169.1075863688286.JavaMail.e...</td>\n",
       "    </tr>\n",
       "    <tr>\n",
       "      <th>7</th>\n",
       "      <td>allen-p/_sent_mail/1004.</td>\n",
       "      <td>Message-ID: &lt;17189699.1075863688308.JavaMail.e...</td>\n",
       "    </tr>\n",
       "    <tr>\n",
       "      <th>8</th>\n",
       "      <td>allen-p/_sent_mail/101.</td>\n",
       "      <td>Message-ID: &lt;20641191.1075855687472.JavaMail.e...</td>\n",
       "    </tr>\n",
       "    <tr>\n",
       "      <th>9</th>\n",
       "      <td>allen-p/_sent_mail/102.</td>\n",
       "      <td>Message-ID: &lt;30795301.1075855687494.JavaMail.e...</td>\n",
       "    </tr>\n",
       "  </tbody>\n",
       "</table>\n",
       "</div>"
      ],
      "text/plain": [
       "                       file                                            message\n",
       "0     allen-p/_sent_mail/1.  Message-ID: <18782981.1075855378110.JavaMail.e...\n",
       "1    allen-p/_sent_mail/10.  Message-ID: <15464986.1075855378456.JavaMail.e...\n",
       "2   allen-p/_sent_mail/100.  Message-ID: <24216240.1075855687451.JavaMail.e...\n",
       "3  allen-p/_sent_mail/1000.  Message-ID: <13505866.1075863688222.JavaMail.e...\n",
       "4  allen-p/_sent_mail/1001.  Message-ID: <30922949.1075863688243.JavaMail.e...\n",
       "5  allen-p/_sent_mail/1002.  Message-ID: <30965995.1075863688265.JavaMail.e...\n",
       "6  allen-p/_sent_mail/1003.  Message-ID: <16254169.1075863688286.JavaMail.e...\n",
       "7  allen-p/_sent_mail/1004.  Message-ID: <17189699.1075863688308.JavaMail.e...\n",
       "8   allen-p/_sent_mail/101.  Message-ID: <20641191.1075855687472.JavaMail.e...\n",
       "9   allen-p/_sent_mail/102.  Message-ID: <30795301.1075855687494.JavaMail.e..."
      ]
     },
     "execution_count": 11,
     "metadata": {},
     "output_type": "execute_result"
    }
   ],
   "source": [
    "# filtering only those that contain 'sent' in file name (f.e _sent_mail, sent_mail, sent etc) \n",
    "\n",
    "enron_sent = enron_data[enron_data[\"file\"].str.contains('sent').tolist()]\n",
    "enron_sent.head(10)"
   ]
  },
  {
   "cell_type": "code",
   "execution_count": 12,
   "metadata": {},
   "outputs": [
    {
     "name": "stderr",
     "output_type": "stream",
     "text": [
      "/anaconda3/lib/python3.6/site-packages/ipykernel_launcher.py:1: SettingWithCopyWarning: \n",
      "A value is trying to be set on a copy of a slice from a DataFrame.\n",
      "Try using .loc[row_indexer,col_indexer] = value instead\n",
      "\n",
      "See the caveats in the documentation: http://pandas.pydata.org/pandas-docs/stable/indexing.html#indexing-view-versus-copy\n",
      "  \"\"\"Entry point for launching an IPython kernel.\n"
     ]
    },
    {
     "data": {
      "text/html": [
       "<div>\n",
       "<style>\n",
       "    .dataframe thead tr:only-child th {\n",
       "        text-align: right;\n",
       "    }\n",
       "\n",
       "    .dataframe thead th {\n",
       "        text-align: left;\n",
       "    }\n",
       "\n",
       "    .dataframe tbody tr th {\n",
       "        vertical-align: top;\n",
       "    }\n",
       "</style>\n",
       "<table border=\"1\" class=\"dataframe\">\n",
       "  <thead>\n",
       "    <tr style=\"text-align: right;\">\n",
       "      <th></th>\n",
       "      <th>file</th>\n",
       "      <th>message</th>\n",
       "      <th>start</th>\n",
       "      <th>end</th>\n",
       "      <th>fileno</th>\n",
       "    </tr>\n",
       "  </thead>\n",
       "  <tbody>\n",
       "    <tr>\n",
       "      <th>0</th>\n",
       "      <td>allen-p/_sent_mail/1.</td>\n",
       "      <td>Message-ID: &lt;18782981.1075855378110.JavaMail.e...</td>\n",
       "      <td>allen-p</td>\n",
       "      <td>_sent_mail</td>\n",
       "      <td>1.</td>\n",
       "    </tr>\n",
       "    <tr>\n",
       "      <th>1</th>\n",
       "      <td>allen-p/_sent_mail/10.</td>\n",
       "      <td>Message-ID: &lt;15464986.1075855378456.JavaMail.e...</td>\n",
       "      <td>allen-p</td>\n",
       "      <td>_sent_mail</td>\n",
       "      <td>10.</td>\n",
       "    </tr>\n",
       "    <tr>\n",
       "      <th>2</th>\n",
       "      <td>allen-p/_sent_mail/100.</td>\n",
       "      <td>Message-ID: &lt;24216240.1075855687451.JavaMail.e...</td>\n",
       "      <td>allen-p</td>\n",
       "      <td>_sent_mail</td>\n",
       "      <td>100.</td>\n",
       "    </tr>\n",
       "    <tr>\n",
       "      <th>3</th>\n",
       "      <td>allen-p/_sent_mail/1000.</td>\n",
       "      <td>Message-ID: &lt;13505866.1075863688222.JavaMail.e...</td>\n",
       "      <td>allen-p</td>\n",
       "      <td>_sent_mail</td>\n",
       "      <td>1000.</td>\n",
       "    </tr>\n",
       "    <tr>\n",
       "      <th>4</th>\n",
       "      <td>allen-p/_sent_mail/1001.</td>\n",
       "      <td>Message-ID: &lt;30922949.1075863688243.JavaMail.e...</td>\n",
       "      <td>allen-p</td>\n",
       "      <td>_sent_mail</td>\n",
       "      <td>1001.</td>\n",
       "    </tr>\n",
       "  </tbody>\n",
       "</table>\n",
       "</div>"
      ],
      "text/plain": [
       "                       file  \\\n",
       "0     allen-p/_sent_mail/1.   \n",
       "1    allen-p/_sent_mail/10.   \n",
       "2   allen-p/_sent_mail/100.   \n",
       "3  allen-p/_sent_mail/1000.   \n",
       "4  allen-p/_sent_mail/1001.   \n",
       "\n",
       "                                             message    start         end  \\\n",
       "0  Message-ID: <18782981.1075855378110.JavaMail.e...  allen-p  _sent_mail   \n",
       "1  Message-ID: <15464986.1075855378456.JavaMail.e...  allen-p  _sent_mail   \n",
       "2  Message-ID: <24216240.1075855687451.JavaMail.e...  allen-p  _sent_mail   \n",
       "3  Message-ID: <13505866.1075863688222.JavaMail.e...  allen-p  _sent_mail   \n",
       "4  Message-ID: <30922949.1075863688243.JavaMail.e...  allen-p  _sent_mail   \n",
       "\n",
       "  fileno  \n",
       "0     1.  \n",
       "1    10.  \n",
       "2   100.  \n",
       "3  1000.  \n",
       "4  1001.  "
      ]
     },
     "execution_count": 12,
     "metadata": {},
     "output_type": "execute_result"
    }
   ],
   "source": [
    "In [14]: enron_sent['start'], enron_sent['end'], enron_sent['fileno'] = zip(*enron_sent['file'].map(lambda x: x.split('/')))\n",
    "enron_sent.head()"
   ]
  },
  {
   "cell_type": "code",
   "execution_count": 13,
   "metadata": {
    "_cell_guid": "084b71b6-9561-1f14-3718-f791be51133d",
    "_uuid": "7a511b2b590af04e4f730ec128fcefc5f5f45394"
   },
   "outputs": [
    {
     "data": {
      "text/plain": [
       "mann-k          8926\n",
       "kaminski-v      8644\n",
       "dasovich-j      5366\n",
       "germany-c       5128\n",
       "shackleton-s    4407\n",
       "jones-t         4123\n",
       "bass-e          3030\n",
       "lenhart-m       2759\n",
       "beck-s          2674\n",
       "symes-k         2649\n",
       "Name: sender, dtype: int64"
      ]
     },
     "execution_count": 13,
     "metadata": {},
     "output_type": "execute_result"
    }
   ],
   "source": [
    "# extracting senders (there might me cases like \"orgname/sender\" but so far as we need only top 10 senders we are ok)\n",
    "\n",
    "enron_sent = enron_sent.assign(sender=enron_sent[\"file\"].map(lambda x: re.search(\"(.*)/.*sent\", x).group(1)).values)\n",
    "enron_sent.drop(\"file\", axis=1, inplace=True)\n",
    "enron_sent[\"sender\"].value_counts().head(10)"
   ]
  },
  {
   "cell_type": "code",
   "execution_count": 14,
   "metadata": {
    "_cell_guid": "e1c6a3be-0fa7-f2e5-3c2b-52087112595b",
    "_uuid": "05cf1762cfd0799c27aea158cab3904c0e416a84"
   },
   "outputs": [
    {
     "name": "stdout",
     "output_type": "stream",
     "text": [
      "{'mann-k': 0, 'kaminski-v': 1, 'dasovich-j': 2, 'germany-c': 3, 'shackleton-s': 4, 'jones-t': 5, 'bass-e': 6, 'lenhart-m': 7, 'beck-s': 8, 'symes-k': 9}\n"
     ]
    }
   ],
   "source": [
    "# mapping top senders' names to use later as label series\n",
    "# we work only with top 10 senders\n",
    "\n",
    "top_senders = enron_sent[\"sender\"].value_counts().head(10).index.values\n",
    "mapping = dict(zip(top_senders, range(10)))\n",
    "print(mapping)"
   ]
  },
  {
   "cell_type": "code",
   "execution_count": 15,
   "metadata": {
    "_cell_guid": "359f6dde-2c18-2fb8-5478-aa3e33ad394d",
    "_uuid": "6d9430a624e205b04f57e76e99c01ea87b71a8e2"
   },
   "outputs": [
    {
     "name": "stdout",
     "output_type": "stream",
     "text": [
      "(126846, 5)\n",
      "(47706, 5)\n"
     ]
    }
   ],
   "source": [
    "# info\n",
    "\n",
    "print(enron_sent.shape)\n",
    "print(enron_sent[enron_sent.sender.isin(top_senders)].shape)\n",
    "\n",
    "enron_sent = enron_sent[enron_sent.sender.isin(top_senders)]"
   ]
  },
  {
   "cell_type": "code",
   "execution_count": 28,
   "metadata": {},
   "outputs": [
    {
     "name": "stdout",
     "output_type": "stream",
     "text": [
      "Message-ID: <15772908.1075841901461.JavaMail.evans@thyme>\n",
      "Date: Fri, 23 Mar 2001 08:13:00 -0800 (PST)\n",
      "From: kate.symes@enron.com\n",
      "To: elliot.mainzer@enron.com\n",
      "Subject: Re: bananas and other things you can call me with\n",
      "Mime-Version: 1.0\n",
      "Content-Type: text/plain; charset=us-ascii\n",
      "Content-Transfer-Encoding: 7bit\n",
      "X-From: Kate Symes\n",
      "X-To: Elliot Mainzer\n",
      "X-cc: \n",
      "X-bcc: \n",
      "X-Folder: \\kate symes 6-27-02\\Notes Folders\\Sent\n",
      "X-Origin: SYMES-K\n",
      "X-FileName: kate symes 6-27-02.nsf\n",
      "\n",
      "---------------------- Forwarded by Kate Symes/PDX/ECT on 03/23/2001 04:17 PM \n",
      "---------------------------\n",
      "\n",
      "\n",
      "\"Winston Goodbody\" <wgoodbody@hotmail.com> on 03/23/2001 04:20:30 PM\n",
      "To: Kate.Symes@enron.com\n",
      "cc:  \n",
      "\n",
      "Subject: Re: bananas and other things you can call me with\n",
      "\n",
      "\n",
      "Hi Kate,\n",
      "\n",
      "Thanks for the email.  Sorry it's taken me a while to respond but it's chaos\n",
      "here as we prepare to head off for the next part of our trip today.  Glad to\n",
      "hear the glow of the screen still has you enthralled.  Keep hitting F9 and\n",
      "all will be well.  The bit when the screen flashes like a disco ball means\n",
      "your pay is being cut.  I hope all those hideous applications I built that\n",
      "you were using haven't blown sky high.  But you know I did put little bugs\n",
      "in all of those things so that they would stop working about 4 months after\n",
      "I left.  Sorry!  I neede to ensure there would be work for me to do when/if\n",
      "I come back.\n",
      "\n",
      "Your plans for a summer escape sound fun.  But what you should really do is\n",
      "come out to Jackson with Elliot at the beginning of May.  We're planning a\n",
      "debauched weekend here right after we finish a section of the trip.  Should\n",
      "be fun.  Just the thing for relieving stress from staring at the screen.  By\n",
      "the way, have you seen the movie Office Space?  I'd recommend it.\n",
      "\n",
      "Please check that Elliot is actually working from time to time.  He does\n",
      "this routine where he'll have a bunch of things up on his screen, but his\n",
      "eyes are actually closed.  Whenever you see that, just throw something at\n",
      "him.  Of call his phone and says it's Jeff Skilling.\n",
      "\n",
      "Hope all is well in sunny Portland.  Keep me posted on any unseemly office\n",
      "gossip.\n",
      "\n",
      "Talk to you soon.\n",
      "\n",
      "Winston\n",
      "\n",
      "\n",
      "\n",
      "\n",
      "\n",
      ">From: Kate.Symes@enron.com\n",
      ">To: wgoodbody@hotmail.com\n",
      ">Subject: bananas and other things you can call me with\n",
      ">Date: Thu, 22 Mar 2001 12:08:06 -0800\n",
      ">\n",
      ">Greetings from the land of watery-eyed, flat-assed office workers! How goes\n",
      ">the burly mountain man thing? I've been hearing second hand from Elliot\n",
      ">that you're faring extremely well mentally despite some poorly crafted\n",
      ">sleeping bags and a bad case of frostbite on your toes. (That second part I\n",
      ">made up, but it sounded appropriate given the sleeping bag situation.)\n",
      ">All's well here. As you could imagine, and probably often do, the sweeping\n",
      ">expanse of people staring at computers that is Enron has changed not at all\n",
      ">since you left. There are still many computers, many of them have changed\n",
      ">positions, some have gone away, most we are not sad to see go. That's just\n",
      ">the nature of this cutthroat business. Also on the stagnantly invariable\n",
      ">list is the status of my life in relation to Enron. I am still here. I\n",
      ">still stare at the computer. Every once in awhile I meander over to the\n",
      ">dark window-less corner that enshrouds the IT wizards and ask them silly\n",
      ">questions like, \"What does it mean when I hit this button and my screen\n",
      ">starts flashing at me like a disco ball, then makes this awkward shrieking\n",
      ">noise and finally goes black?\" They are incredibly helpful. I am still\n",
      ">pretty much clueless about most things, although I've learned to talk about\n",
      ">them with a semblance of authority, as in, \"No, you twit, the 25 megawatt\n",
      ">off peak deal should clearly be flowing across SP-15 to NP-15 because of\n",
      ">the illiquidity of SP's market right now. What kind of idiot wouldn't hedge\n",
      ">their position in California at a time like this?\" It all sounds very\n",
      ">exotic and important to me, which is why I'm still here. But I'm infinitely\n",
      ">jealous of your wild exploits in the great American outdoors. I suspect my\n",
      ">forbearance for sitting in an office will run out right around the middle\n",
      ">of the summer, so I'm planning a trip to coincide with that meltdown. I\n",
      ">haven't decided between a road trip through the western United States or\n",
      ">just a direct flight to Paris. Both sound good, and way beyond my budget,\n",
      ">therefore equally attractive. Well, I've managed to say practically nothing\n",
      ">for long enough now. I do hope you're having an amazing time, rambling on\n",
      ">toward the next crazy adventure on the horizon as I believe Jack Kerouac\n",
      ">once wrote. We're all very proud of you here and constantly refer to you as\n",
      ">\"my good friend Winston who's skiing across the state of Wyoming, which was\n",
      ">my idea.\" I'd love to hear about your trip direct from the source, although\n",
      ">I know you're extremely busy out there, skiing and killing wild animals for\n",
      ">sustenance and whatnot. But please do write back....if you can still move\n",
      ">your fingers.\n",
      ">\n",
      ">Sincerely,\n",
      ">Kate\n",
      ">(the slightly ditsy one who sits in the middle of the room and tries to\n",
      ">look constantly busy)\n",
      ">\n",
      "\n",
      "_________________________________________________________________\n",
      "Get your FREE download of MSN Explorer at http://explorer.msn.com\n",
      "\n",
      "\n"
     ]
    }
   ],
   "source": [
    "print(enron_sent.iloc[random.randint(0, enron_sent.shape[0]), 0])"
   ]
  },
  {
   "cell_type": "code",
   "execution_count": 16,
   "metadata": {
    "_cell_guid": "3657a5d5-96ad-4f18-67e2-56ed30ac2830",
    "_uuid": "fb59e27ec772bcacef6d8fe54470e8e2cf2cf3e8"
   },
   "outputs": [
    {
     "name": "stdout",
     "output_type": "stream",
     "text": [
      "Message-ID: <33331751.1075844927705.JavaMail.evans@thyme>\n",
      "Date: Wed, 23 May 2001 04:23:00 -0700 (PDT)\n",
      "From: sara.shackleton@enron.com\n",
      "To: david.wall@enron.com\n",
      "Subject: Adding authorized traders to the ENA Authorized Trader List\n",
      "Cc: marie.heard@enron.com\n",
      "Mime-Version: 1.0\n",
      "Content-Type: text/plain; charset=us-ascii\n",
      "Content-Transfer-Encoding: 7bit\n",
      "Bcc: marie.heard@enron.com\n",
      "X-From: Sara Shackleton\n",
      "X-To: David A Wall\n",
      "X-cc: Marie Heard\n",
      "X-bcc: \n",
      "X-Folder: \\Sara_Shackleton_Dec2000_June2001_2\\Notes Folders\\Sent\n",
      "X-Origin: SHACKLETON-S\n",
      "X-FileName: sshackle.nsf\n",
      "\n",
      "David:\n",
      "\n",
      "Please send an email request to Cassandra Schultz and Veronica Valdez \n",
      "requesting that the following Enron Credit Inc. traders be added to the ENA \n",
      "Authorized Trader List (for the purpose of using ENA executed ISDA Master \n",
      "Agreements in the credit trading area, such as Swiss Re and First Union \n",
      "National Bank):\n",
      "\n",
      "Jeff Kinneman\n",
      "Nicholas Stephan\n",
      "Paul Pizzolato\n",
      "\n",
      "Please copy me and Marie Heard.  Call if you have any questions.  Thanks.\n",
      "\n",
      "Sara Shackleton\n",
      "Enron North America Corp.\n",
      "1400 Smith Street, EB 3801a\n",
      "Houston, Texas  77002\n",
      "713-853-5620 (phone)\n",
      "713-646-3490 (fax)\n",
      "sara.shackleton@enron.com\n"
     ]
    }
   ],
   "source": [
    "# now let's take a look at random email\n",
    "\n",
    "print(enron_sent.iloc[random.randint(0, enron_sent.shape[0]), 0])"
   ]
  },
  {
   "cell_type": "code",
   "execution_count": 17,
   "metadata": {
    "_cell_guid": "4d6fca3f-24e5-73f7-8933-5a215201d672",
    "_uuid": "38f04cbcccd7d7c4ffa99c50c0e390141766f1b1",
    "collapsed": true
   },
   "outputs": [],
   "source": [
    "# I use default email library just for simplicity. For real product I would use more complicated parsing tools or write my own\n",
    "# We extract email artificials and content from raw text\n",
    "\n",
    "def email_from_string(raw_email):\n",
    "    msg = email.message_from_string(raw_email)\n",
    "    \n",
    "    content = []\n",
    "    for part in msg.walk():\n",
    "        if part.get_content_type() == 'text/plain':\n",
    "            content.append(part.get_payload())\n",
    "            \n",
    "    result = {}\n",
    "    for key in msg.keys(): \n",
    "        result[key] = msg[key]\n",
    "    result[\"content\"] = ''.join(content)\n",
    "    \n",
    "    return result"
   ]
  },
  {
   "cell_type": "code",
   "execution_count": 18,
   "metadata": {
    "_cell_guid": "45e5be7c-18d4-148a-78fb-6316fbd0507e",
    "_uuid": "26850206842ec115ffad19d40dcbf9495838db9d"
   },
   "outputs": [
    {
     "data": {
      "text/html": [
       "<div>\n",
       "<style>\n",
       "    .dataframe thead tr:only-child th {\n",
       "        text-align: right;\n",
       "    }\n",
       "\n",
       "    .dataframe thead th {\n",
       "        text-align: left;\n",
       "    }\n",
       "\n",
       "    .dataframe tbody tr th {\n",
       "        vertical-align: top;\n",
       "    }\n",
       "</style>\n",
       "<table border=\"1\" class=\"dataframe\">\n",
       "  <thead>\n",
       "    <tr style=\"text-align: right;\">\n",
       "      <th></th>\n",
       "      <th>Bcc</th>\n",
       "      <th>Cc</th>\n",
       "      <th>Content-Transfer-Encoding</th>\n",
       "      <th>Content-Type</th>\n",
       "      <th>Date</th>\n",
       "      <th>From</th>\n",
       "      <th>Message-ID</th>\n",
       "      <th>Mime-Version</th>\n",
       "      <th>Subject</th>\n",
       "      <th>To</th>\n",
       "      <th>X-FileName</th>\n",
       "      <th>X-Folder</th>\n",
       "      <th>X-From</th>\n",
       "      <th>X-Origin</th>\n",
       "      <th>X-To</th>\n",
       "      <th>X-bcc</th>\n",
       "      <th>X-cc</th>\n",
       "      <th>content</th>\n",
       "    </tr>\n",
       "  </thead>\n",
       "  <tbody>\n",
       "    <tr>\n",
       "      <th>0</th>\n",
       "      <td>NaN</td>\n",
       "      <td>NaN</td>\n",
       "      <td>7bit</td>\n",
       "      <td>text/plain; charset=us-ascii</td>\n",
       "      <td>Fri, 9 Mar 2001 11:24:00 -0800 (PST)</td>\n",
       "      <td>eric.bass@enron.com</td>\n",
       "      <td>&lt;17027752.1075840325838.JavaMail.evans@thyme&gt;</td>\n",
       "      <td>1.0</td>\n",
       "      <td>Rebook - QU0663 Mirant</td>\n",
       "      <td>chance.rabon@enron.com</td>\n",
       "      <td>eric bass 6-25-02.PST</td>\n",
       "      <td>\\ExMerge - Bass, Eric\\'Sent Mail</td>\n",
       "      <td>Eric Bass</td>\n",
       "      <td>BASS-E</td>\n",
       "      <td>Chance Rabon &lt;Chance Rabon/ENRON@enronXgate&gt;</td>\n",
       "      <td></td>\n",
       "      <td></td>\n",
       "      <td>\\n---------------------- Forwarded by Eric Bas...</td>\n",
       "    </tr>\n",
       "  </tbody>\n",
       "</table>\n",
       "</div>"
      ],
      "text/plain": [
       "   Bcc   Cc Content-Transfer-Encoding                  Content-Type  \\\n",
       "0  NaN  NaN                      7bit  text/plain; charset=us-ascii   \n",
       "\n",
       "                                   Date                 From  \\\n",
       "0  Fri, 9 Mar 2001 11:24:00 -0800 (PST)  eric.bass@enron.com   \n",
       "\n",
       "                                      Message-ID Mime-Version  \\\n",
       "0  <17027752.1075840325838.JavaMail.evans@thyme>          1.0   \n",
       "\n",
       "                  Subject                      To             X-FileName  \\\n",
       "0  Rebook - QU0663 Mirant  chance.rabon@enron.com  eric bass 6-25-02.PST   \n",
       "\n",
       "                           X-Folder     X-From X-Origin  \\\n",
       "0  \\ExMerge - Bass, Eric\\'Sent Mail  Eric Bass   BASS-E   \n",
       "\n",
       "                                           X-To X-bcc X-cc  \\\n",
       "0  Chance Rabon <Chance Rabon/ENRON@enronXgate>              \n",
       "\n",
       "                                             content  \n",
       "0  \\n---------------------- Forwarded by Eric Bas...  "
      ]
     },
     "execution_count": 18,
     "metadata": {},
     "output_type": "execute_result"
    }
   ],
   "source": [
    "enron_parsed = pd.DataFrame(list(map(email_from_string, enron_sent.message)))\n",
    "enron_parsed.head(1)"
   ]
  },
  {
   "cell_type": "code",
   "execution_count": 19,
   "metadata": {
    "_cell_guid": "887db78d-bcdf-7537-57f3-0bde53b474d8",
    "_uuid": "19e5561fd172e316274768643dd7286b5f03ac49"
   },
   "outputs": [
    {
     "name": "stdout",
     "output_type": "stream",
     "text": [
      "<class 'pandas.core.frame.DataFrame'>\n",
      "RangeIndex: 47706 entries, 0 to 47705\n",
      "Data columns (total 18 columns):\n",
      "Bcc                          9259 non-null object\n",
      "Cc                           9259 non-null object\n",
      "Content-Transfer-Encoding    47706 non-null object\n",
      "Content-Type                 47706 non-null object\n",
      "Date                         47706 non-null object\n",
      "From                         47706 non-null object\n",
      "Message-ID                   47706 non-null object\n",
      "Mime-Version                 47706 non-null object\n",
      "Subject                      47706 non-null object\n",
      "To                           47640 non-null object\n",
      "X-FileName                   47706 non-null object\n",
      "X-Folder                     47706 non-null object\n",
      "X-From                       47706 non-null object\n",
      "X-Origin                     47706 non-null object\n",
      "X-To                         47706 non-null object\n",
      "X-bcc                        47706 non-null object\n",
      "X-cc                         47706 non-null object\n",
      "content                      47706 non-null object\n",
      "dtypes: object(18)\n",
      "memory usage: 6.6+ MB\n"
     ]
    }
   ],
   "source": [
    "# cc and bcc stand for carbon copy and blind carbon copy and that may be useful for classification\n",
    "# Also we might use \"To\" or any other metadata but I believe the idea of this work is to use simply \"content\" + \"subject\" \n",
    "\n",
    "enron_parsed.info()"
   ]
  },
  {
   "cell_type": "code",
   "execution_count": 20,
   "metadata": {
    "_cell_guid": "48d54fa0-3b44-f5e4-1962-0bfdbd2be9ec",
    "_uuid": "ab4d1d23b036d8223298542cc8b4f9f167015d7c",
    "collapsed": true
   },
   "outputs": [],
   "source": [
    "#here we do simply two things: 1 remove numbers and 2 remove stowords using nltk stopwords corpus\n",
    "\n",
    "def content_to_wordlist( content, remove_stopwords=False ):\n",
    "    content = re.sub(\"[^a-zA-Z]\",\" \", content)\n",
    "    words = content.lower().split()\n",
    "    \n",
    "    if remove_stopwords:\n",
    "        stops = set(stopwords.words(\"english\"))\n",
    "        words = [w for w in words if not w in stops]\n",
    "\n",
    "    return ' '.join(words)"
   ]
  },
  {
   "cell_type": "code",
   "execution_count": 21,
   "metadata": {
    "_cell_guid": "23b30874-05b1-a433-ab7c-2fb9d9283157",
    "_uuid": "f8a558450871591dbf4736362f2306503c2fd463",
    "collapsed": true
   },
   "outputs": [],
   "source": [
    "# enron_parsed['To'] = enron_parsed['To'].astype(str) # in case we want to use 'To' as information\n",
    "data = pd.DataFrame(list(map(content_to_wordlist, \n",
    "                          enron_parsed[['Subject', 'content']].apply(lambda x: ' '.join(x), axis=1))), \n",
    "                          columns = [\"content\"])"
   ]
  },
  {
   "cell_type": "code",
   "execution_count": 26,
   "metadata": {
    "_cell_guid": "7789cd0b-4e2d-e120-c5ff-33543be6992d",
    "_uuid": "1f3aa8c3bed311bc987e1f15eeb9c7765954b4cb"
   },
   "outputs": [
    {
     "data": {
      "text/plain": [
       "0        rebook qu mirant forwarded by eric bass hou ec...\n",
       "1        for your viewing pleasure forwarded by eric ba...\n",
       "2        re fw christmas i think we are going to stay i...\n",
       "3        re i didn t go either today is legs and lower ...\n",
       "4        fwd the perils of limbo forwarded by eric bass...\n",
       "5        re fw winning the cultural war that s good new...\n",
       "6        fw winning the cultural war forwarded by eric ...\n",
       "7        re please effective date of your current rotat...\n",
       "8        re it only takes about minutes to get to highl...\n",
       "9        re airfare i m ready we could try to do it ove...\n",
       "10       airfare someone i know just put in a bid on pr...\n",
       "11       steamboat vacation information here is some in...\n",
       "12       re michael is a happily married man he would n...\n",
       "13       re new work number have you bought any new dvd...\n",
       "14                                  index here is the info\n",
       "15       re i hope you were only thinking good things i...\n",
       "16                    did you have a good birthday weekend\n",
       "17       social club initiates could you please add kyl...\n",
       "18       roster hey danny here is a prospective roster ...\n",
       "19       fw winning the cultural war forwarded by eric ...\n",
       "20       re whatever are you saying that my evite skill...\n",
       "21       re i had a really fun weekend we went to chuy ...\n",
       "22       re mapping imelda could you please re map hpl ...\n",
       "23       re ffl i live downtown so it would probably be...\n",
       "24       jan mar degree day swaps gary what is the mark...\n",
       "25       re rodeo tickets check out www hlsr com see wh...\n",
       "26       re rodeo tickets check the website and see who...\n",
       "27       re rodeo tickets no gravy ice wants to go to a...\n",
       "28       rodeo tickets do we want to go to any of the r...\n",
       "29       re entex jan no news on dec yet but nov s numb...\n",
       "                               ...                        \n",
       "47676    re a whole bunch of deal errors that i want yo...\n",
       "47677    re anna you re stoked on the song thing you ll...\n",
       "47678    re city of riverside it s been changed thanks ...\n",
       "47679    re pge dailies here s the latest i ve heard fr...\n",
       "47680    re city of riverside i just got your fax thank...\n",
       "47681    re an eol glitch that has to do with april dea...\n",
       "47682    dow jones index the attached document contains...\n",
       "47683    re dow jones index we don t have any regular o...\n",
       "47684    re deal mike confirmed with amerex that this d...\n",
       "47685    re more deals found by will smith i m unclear ...\n",
       "47686    re more deals found by will smith i think that...\n",
       "47687    deal changes no confirm just wanted to give yo...\n",
       "47688    re energy type both have been changed to caiso...\n",
       "47689    energy type these deals were entered today und...\n",
       "47690    re apb fees added fee per chris mallory i m wa...\n",
       "47691    firm v caiso firm energy sharen cason in the c...\n",
       "47692    re apb fees broker fee added per tom alonso ke...\n",
       "47693    re checkout i ve left a message for jeff but i...\n",
       "47694    re apb check out looks like mark already chang...\n",
       "47695    re mike confirmed with natsource this was a mw...\n",
       "47696    re grant county confirms i just spoke with hol...\n",
       "47697    re checkout i just heard back from jeff on the...\n",
       "47698    deal changes no confirm kim i ve finished chan...\n",
       "47699    re checkout i just entered these deals and bac...\n",
       "47700    epmi index prices following are epmi weighted ...\n",
       "47701    re deal i ve changed it to off peak only i was...\n",
       "47702    dj index prices i am so sorry i slacked on thi...\n",
       "47703    re deal we just found that the other two optio...\n",
       "47704    re checkout prebon matt motley jeff richter je...\n",
       "47705    re ice deal not in mike driscoll is entering t...\n",
       "Name: content, Length: 47706, dtype: object"
      ]
     },
     "execution_count": 26,
     "metadata": {},
     "output_type": "execute_result"
    }
   ],
   "source": [
    "data = data.assign(sender=enron_sent[\"sender\"].values)\n",
    "data = data.replace({'sender': mapping})\n",
    "(data.content)"
   ]
  },
  {
   "cell_type": "code",
   "execution_count": 20,
   "metadata": {
    "_cell_guid": "cf1fa36f-0826-67a2-d861-07b5d11d3c88",
    "_uuid": "03327e76d88683fcfe8aaf5f248eb931219dac5d",
    "collapsed": true
   },
   "outputs": [],
   "source": [
    "# now we split data for training and test sets\n",
    "\n",
    "X_train, X_test, y_train, y_test = train_test_split(data.content.values, data.sender.values, test_size=0.25)"
   ]
  },
  {
   "cell_type": "code",
   "execution_count": 21,
   "metadata": {
    "_cell_guid": "96143a0f-8a4b-ad2e-6e4b-e2074fc147dd",
    "_uuid": "b3e9ee6f55c3c383e95db7d3276ac826ddb31ccc"
   },
   "outputs": [
    {
     "data": {
      "text/plain": [
       "(35779,)"
      ]
     },
     "execution_count": 21,
     "metadata": {},
     "output_type": "execute_result"
    }
   ],
   "source": [
    "# 72k features!\n",
    "X_train.shape"
   ]
  },
  {
   "cell_type": "code",
   "execution_count": 22,
   "metadata": {
    "_cell_guid": "0727fd12-ce23-8757-4646-777e8930db81",
    "_uuid": "506a32fcee5e413c9355cc3f75ffb4735cff9257",
    "collapsed": true
   },
   "outputs": [],
   "source": [
    "# lets vectorize our content using default params\n",
    "\n",
    "vect = TfidfVectorizer(sublinear_tf=True, use_idf=True)\n",
    "X_train = vect.fit_transform(data_train)\n",
    "X_test = vect.transform(data_test)"
   ]
  },
  {
   "cell_type": "code",
   "execution_count": 23,
   "metadata": {
    "_cell_guid": "5787bba4-0ddb-62e0-cdcc-a946a860ccd2",
    "_uuid": "9135bf886b70e8ea532fbe87a957b1814b657ee3"
   },
   "outputs": [
    {
     "data": {
      "text/plain": [
       "(35779, 2217)"
      ]
     },
     "execution_count": 23,
     "metadata": {},
     "output_type": "execute_result"
    }
   ],
   "source": [
    "# let's try to use simple feature selection using l1 regularization and default threshold\n",
    "\n",
    "clf = LogisticRegression(penalty='l1')\n",
    "clf.fit(X_train, y_train)\n",
    "\n",
    "model = SelectFromModel(clf, prefit=True)\n",
    "X_train_new = model.transform(X_train)\n",
    "\n",
    "X_train_new.shape"
   ]
  },
  {
   "cell_type": "code",
   "execution_count": 24,
   "metadata": {
    "_cell_guid": "c38d6dbd-1ee5-65cf-38f2-b17147aea041",
    "_uuid": "079c4c943c6203351747784079d0f4c03a15e809"
   },
   "outputs": [
    {
     "name": "stdout",
     "output_type": "stream",
     "text": [
      "0.179909731344\n",
      "0.192514969425\n"
     ]
    },
    {
     "name": "stderr",
     "output_type": "stream",
     "text": [
      "/anaconda3/lib/python3.6/site-packages/sklearn/linear_model/stochastic_gradient.py:128: FutureWarning: max_iter and tol parameters have been added in <class 'sklearn.linear_model.stochastic_gradient.SGDClassifier'> in 0.19. If both are left unset, they default to max_iter=5 and tol=None. If tol is not None, max_iter defaults to max_iter=1000. From 0.21, default max_iter will be 1000, and default tol will be 1e-3.\n",
      "  \"and default tol will be 1e-3.\" % type(self), FutureWarning)\n",
      "/anaconda3/lib/python3.6/site-packages/sklearn/linear_model/stochastic_gradient.py:128: FutureWarning: max_iter and tol parameters have been added in <class 'sklearn.linear_model.stochastic_gradient.SGDClassifier'> in 0.19. If both are left unset, they default to max_iter=5 and tol=None. If tol is not None, max_iter defaults to max_iter=1000. From 0.21, default max_iter will be 1000, and default tol will be 1e-3.\n",
      "  \"and default tol will be 1e-3.\" % type(self), FutureWarning)\n",
      "/anaconda3/lib/python3.6/site-packages/sklearn/linear_model/stochastic_gradient.py:128: FutureWarning: max_iter and tol parameters have been added in <class 'sklearn.linear_model.stochastic_gradient.SGDClassifier'> in 0.19. If both are left unset, they default to max_iter=5 and tol=None. If tol is not None, max_iter defaults to max_iter=1000. From 0.21, default max_iter will be 1000, and default tol will be 1e-3.\n",
      "  \"and default tol will be 1e-3.\" % type(self), FutureWarning)\n"
     ]
    },
    {
     "name": "stdout",
     "output_type": "stream",
     "text": [
      "0.150143502004\n",
      "0.144945896619\n"
     ]
    }
   ],
   "source": [
    "# non linear methods? I skip GradientBoostingClassifier for now because of my laptop low productivity :(\n",
    "# we will use cross validation with 3 folds for estimation\n",
    "\n",
    "for classifier in [LinearSVC, LogisticRegression, SGDClassifier, RandomForestClassifier]:\n",
    "    print(cross_val_score(classifier(), X_train_new, y_train, cv=3).mean())"
   ]
  },
  {
   "cell_type": "code",
   "execution_count": 25,
   "metadata": {
    "_cell_guid": "5d037c74-e27a-0c6d-2c68-c3fcc1ae242f",
    "_uuid": "950fec542d150a641eaa6dc3c995da70fc7aceee"
   },
   "outputs": [
    {
     "name": "stdout",
     "output_type": "stream",
     "text": [
      "4\n",
      "0.187400405814\n",
      "0.187064966659\n"
     ]
    },
    {
     "name": "stderr",
     "output_type": "stream",
     "text": [
      "/anaconda3/lib/python3.6/site-packages/sklearn/linear_model/stochastic_gradient.py:128: FutureWarning: max_iter and tol parameters have been added in <class 'sklearn.linear_model.stochastic_gradient.SGDClassifier'> in 0.19. If both are left unset, they default to max_iter=5 and tol=None. If tol is not None, max_iter defaults to max_iter=1000. From 0.21, default max_iter will be 1000, and default tol will be 1e-3.\n",
      "  \"and default tol will be 1e-3.\" % type(self), FutureWarning)\n",
      "/anaconda3/lib/python3.6/site-packages/sklearn/linear_model/stochastic_gradient.py:128: FutureWarning: max_iter and tol parameters have been added in <class 'sklearn.linear_model.stochastic_gradient.SGDClassifier'> in 0.19. If both are left unset, they default to max_iter=5 and tol=None. If tol is not None, max_iter defaults to max_iter=1000. From 0.21, default max_iter will be 1000, and default tol will be 1e-3.\n",
      "  \"and default tol will be 1e-3.\" % type(self), FutureWarning)\n",
      "/anaconda3/lib/python3.6/site-packages/sklearn/linear_model/stochastic_gradient.py:128: FutureWarning: max_iter and tol parameters have been added in <class 'sklearn.linear_model.stochastic_gradient.SGDClassifier'> in 0.19. If both are left unset, they default to max_iter=5 and tol=None. If tol is not None, max_iter defaults to max_iter=1000. From 0.21, default max_iter will be 1000, and default tol will be 1e-3.\n",
      "  \"and default tol will be 1e-3.\" % type(self), FutureWarning)\n"
     ]
    },
    {
     "name": "stdout",
     "output_type": "stream",
     "text": [
      "0.115229276084\n",
      "0.138517322555\n"
     ]
    }
   ],
   "source": [
    "clf = LogisticRegression(C=0.15, penalty='l1')\n",
    "clf.fit(X_train, y_train)\n",
    "\n",
    "n_comp = np.sum(np.abs(clf.coef_) > 1e-4)\n",
    "print(n_comp)\n",
    "\n",
    "tsvd = TruncatedSVD(n_components = n_comp)\n",
    "X_train_pca = tsvd.fit_transform(X_train)\n",
    "\n",
    "for classifier in [LinearSVC, LogisticRegression, SGDClassifier, RandomForestClassifier]:\n",
    "    print(cross_val_score(classifier(), X_train_pca, y_train, cv=3).mean())"
   ]
  },
  {
   "cell_type": "code",
   "execution_count": 26,
   "metadata": {
    "_cell_guid": "904be996-3a43-c38f-c4ad-66bb07dc1bd2",
    "_uuid": "8548fa13822e9e6a395f03e5d2febd0a56b6662f"
   },
   "outputs": [
    {
     "name": "stdout",
     "output_type": "stream",
     "text": [
      "0.187651757819\n",
      "0.18661765664\n",
      "0.186701490645\n",
      "0.186478067638\n",
      "0.185751542192\n",
      "0.187623894364\n",
      "0.18594665647\n",
      "0.187260783975\n",
      "0.186841510834\n"
     ]
    }
   ],
   "source": [
    "# let's fit min number of components for previous model\n",
    "\n",
    "scores = []\n",
    "for n_components in range(10, 100, 10):\n",
    "    tsvd = TruncatedSVD(n_components = n_components)\n",
    "    X_train_pca = tsvd.fit_transform(X_train)\n",
    "\n",
    "    score = cross_val_score(LinearSVC(), X_train_pca, y_train, cv=3).mean()\n",
    "    scores.append(score)\n",
    "    print(score)"
   ]
  },
  {
   "cell_type": "code",
   "execution_count": null,
   "metadata": {
    "_cell_guid": "84b63285-4774-d60f-9247-226aed2bbf0c",
    "_uuid": "ef276ef30fa7a36b1bc07543626df619abe18e5e"
   },
   "outputs": [
    {
     "data": {
      "image/png": "[encoded data removed]",
      "text/plain": [
       "<matplotlib.figure.Figure at 0x1a157fea90>"
      ]
     },
     "metadata": {},
     "output_type": "display_data"
    }
   ],
   "source": [
    "import matplotlib.pyplot as plt\n",
    "plt.plot(range(10, 100, 10), scores)\n",
    "plt.show()"
   ]
  },
  {
   "cell_type": "code",
   "execution_count": null,
   "metadata": {
    "_cell_guid": "aada34d4-333e-1557-6e61-ad1584a6ed4f",
    "_uuid": "fa28aa47008929a86e475bee2c1da11074ffd5b1",
    "collapsed": true
   },
   "outputs": [],
   "source": [
    "#let's fit parameters for linear svm\n",
    "\n",
    "tsvd = TruncatedSVD(n_components = 120)\n",
    "X_train_pca = tsvd.fit_transform(X_train)\n",
    "\n",
    "parameters = {'C':[0.1, 0.3, 0.5, 1, 3, 5, 10, 30]}\n",
    "clf = GridSearchCV(LinearSVC(), parameters)\n",
    "clf.fit(X_train_pca, y_train)\n",
    "\n",
    "clf.grid_scores_"
   ]
  },
  {
   "cell_type": "code",
   "execution_count": null,
   "metadata": {
    "_cell_guid": "55f1b324-e668-d1fb-f62a-193cc39cd8ae",
    "_uuid": "1ebc4062da4709033a6e65962a9160f75ba2fb74",
    "collapsed": true
   },
   "outputs": [],
   "source": [
    "# finally let's train the model on the test data and do some model evaluation\n",
    "\n",
    "tsvd = TruncatedSVD(n_components = 120)\n",
    "X_train_pca = tsvd.fit_transform(X_train)\n",
    "X_test_pca = tsvd.transform(X_test)\n",
    "\n",
    "clf = LinearSVC()\n",
    "clf.fit(X_train_pca, y_train)\n",
    "\n",
    "print(metrics.accuracy_score(y_test, clf.predict(X_test_pca)))"
   ]
  },
  {
   "cell_type": "code",
   "execution_count": null,
   "metadata": {
    "_cell_guid": "5b963cfc-9127-114d-fbb9-d3240676b25e",
    "_uuid": "aacf9454266c211860c056d574ed762561a23aa5",
    "collapsed": true
   },
   "outputs": [],
   "source": [
    "confusion_matrix(y_test, clf.predict(X_test_pca))"
   ]
  },
  {
   "cell_type": "code",
   "execution_count": null,
   "metadata": {
    "_cell_guid": "f719f88b-7377-ad7e-1f10-70df4cf57bf6",
    "_uuid": "a2ac03a422ed07940397e27dcbd8650a3e5ffb40",
    "collapsed": true
   },
   "outputs": [],
   "source": [
    "print(classification_report(y_test, clf.predict(X_test_pca), target_names=top_senders))"
   ]
  },
  {
   "cell_type": "markdown",
   "metadata": {
    "_cell_guid": "c92528dd-68cc-e299-683f-15de37147b8a",
    "_uuid": "def13effac242e9eb0d9b1991c535bb61ec0bedf"
   },
   "source": [
    "I believe we get these high scores with that small amount of features because of names/email addresses encoded in email raw content. But there were no bans fot this:) Let's try to add some email metadata:"
   ]
  },
  {
   "cell_type": "code",
   "execution_count": null,
   "metadata": {
    "_cell_guid": "445a1147-f751-09f7-6a0d-315e1647ead8",
    "_uuid": "873bceca5230f4e3dadd509e954449e3fbf27968",
    "collapsed": true
   },
   "outputs": [],
   "source": [
    "# we add To and Bcc/cc features from mail metadata to see if it will increase our accuracy:\n",
    "\n",
    "enron_parsed['To'] = enron_parsed['To'].astype(str) \n",
    "data = pd.DataFrame(list(map(content_to_wordlist, enron_parsed[['Subject', 'content', 'To']]\n",
    "                             .apply(lambda x: ' '.join(x), axis=1))), \n",
    "                          columns = [\"content\"])"
   ]
  },
  {
   "cell_type": "code",
   "execution_count": null,
   "metadata": {
    "_cell_guid": "15648864-87ce-b9fb-7468-4864c6625b18",
    "_uuid": "2ee75b33b722e14b2b52811a0120ffe6a8cfa709",
    "collapsed": true
   },
   "outputs": [],
   "source": [
    "data['bcc'] = enron_parsed['Bcc'].isnull().astype(int)\n",
    "\n",
    "data = data.assign(sender=enron_sent[\"sender\"].values)\n",
    "data = data.replace({'sender': mapping})\n",
    "data.head()"
   ]
  },
  {
   "cell_type": "code",
   "execution_count": null,
   "metadata": {
    "_cell_guid": "3002e3bb-49d8-c765-b86a-dad1bd743058",
    "_uuid": "cb67b39e75acac43b90c6ae19e65446db3f82c5b",
    "collapsed": true
   },
   "outputs": [],
   "source": [
    "data_train, data_test, y_train, y_test = train_test_split(data[['content', 'bcc']], data['sender'], test_size=0.25)\n",
    "\n",
    "vect = TfidfVectorizer(sublinear_tf=True, use_idf=True)\n",
    "X_train = vect.fit_transform(data_train.content)\n",
    "X_test = vect.transform(data_test.content)\n",
    "\n",
    "X_train = hstack([coo_matrix(X_train), coo_matrix(data_train.bcc).transpose()])\n",
    "X_test = hstack([coo_matrix(X_test), coo_matrix(data_test.bcc).transpose()])"
   ]
  },
  {
   "cell_type": "code",
   "execution_count": null,
   "metadata": {
    "_cell_guid": "c2ffdc95-fdce-be17-2630-c27f9e037906",
    "_uuid": "137edf3798eb0b4adc30d6ae977248721452cf7a",
    "collapsed": true
   },
   "outputs": [],
   "source": [
    "print(X_train.shape )\n",
    "print(X_test.shape )"
   ]
  },
  {
   "cell_type": "code",
   "execution_count": null,
   "metadata": {
    "_cell_guid": "ff8c10a3-63ec-3398-8f92-c9221096040a",
    "_uuid": "d1d21d5575786c9511699ccebe08986237839e76",
    "collapsed": true
   },
   "outputs": [],
   "source": [
    "tsvd = TruncatedSVD(n_components = 120)\n",
    "X_train_pca = tsvd.fit_transform(X_train)\n",
    "X_test_pca = tsvd.transform(X_test)\n",
    "\n",
    "clf = LinearSVC()\n",
    "clf.fit(X_train_pca, y_train)\n",
    "\n",
    "print(metrics.accuracy_score(y_test, clf.predict(X_test_pca)))\n",
    "print(metrics.f1_score(y_test, clf.predict(X_test_pca), average=\"weighted\"))"
   ]
  },
  {
   "cell_type": "code",
   "execution_count": null,
   "metadata": {
    "_cell_guid": "3bdff551-7c51-dc41-882e-f5ef9facac73",
    "_uuid": "0fc382a1f541c9bc1f49ea008f287c1b6157fbe5",
    "collapsed": true
   },
   "outputs": [],
   "source": [
    "confusion_matrix(y_test, clf.predict(X_test_pca))"
   ]
  },
  {
   "cell_type": "code",
   "execution_count": null,
   "metadata": {
    "_cell_guid": "4273f1f6-f4ce-a6e8-7b91-f031753ac32e",
    "_uuid": "1e2c2a74cdb33184b40cf0021da5c6f40d7922f5",
    "collapsed": true
   },
   "outputs": [],
   "source": [
    "print(classification_report(y_test, clf.predict(X_test_pca), target_names=top_senders))"
   ]
  },
  {
   "cell_type": "markdown",
   "metadata": {
    "_cell_guid": "18e431b7-2433-b823-864e-6b87abaf0555",
    "_uuid": "843447b4e545decc6b7ba0fc212e3d3763d7a8f6"
   },
   "source": [
    "So adding 'To' and 'Bcc' leads to slightly better result in classification. Of course to increase accuracy we need to do better preprocessing of raw emails f.e. to extract information from content of the mail (email addresses, references, forwards, names etc) but still we score a good one here. Unfortunately I was on able to run GradientBoostingClassifier, XGBoost models on this machine"
   ]
  },
  {
   "cell_type": "code",
   "execution_count": null,
   "metadata": {
    "_cell_guid": "5af65c4b-ab43-a073-6ac8-c6f18942cabf",
    "_uuid": "b4a846ecaa12328b4da4709dcd3376031f370799",
    "collapsed": true
   },
   "outputs": [],
   "source": []
  }
 ],
 "metadata": {
  "_change_revision": 0,
  "_is_fork": false,
  "kernelspec": {
   "display_name": "Python 3",
   "language": "python",
   "name": "python3"
  },
  "language_info": {
   "codemirror_mode": {
    "name": "ipython",
    "version": 3
   },
   "file_extension": ".py",
   "mimetype": "text/x-python",
   "name": "python",
   "nbconvert_exporter": "python",
   "pygments_lexer": "ipython3",
   "version": "3.6.2"
  }
 },
 "nbformat": 4,
 "nbformat_minor": 1
}
