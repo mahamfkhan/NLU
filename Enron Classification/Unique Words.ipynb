{
 "cells": [
  {
   "cell_type": "code",
   "execution_count": null,
   "metadata": {
    "collapsed": true
   },
   "outputs": [],
   "source": [
    "#forked from bread \n",
    "#https://www.kaggle.com/mastershepherd/most-unique-words-in-enron-dataset/code"
   ]
  },
  {
   "cell_type": "markdown",
   "metadata": {
    "_cell_guid": "9005e0d5-64e9-ecd3-8c34-e8fefc1a2358"
   },
   "source": [
    "### Finding what words are most unique to the "
   ]
  },
  {
   "cell_type": "code",
   "execution_count": null,
   "metadata": {
    "_cell_guid": "a9e3c535-024a-a340-281d-0e0613228b5d",
    "collapsed": true
   },
   "outputs": [],
   "source": [
    "%matplotlib inline\n",
    "import pandas as pd\n",
    "import numpy as np\n",
    "import matplotlib.pyplot as plt\n",
    "import seaborn as sns\n",
    "from math import *\n",
    "\n",
    "import nltk\n",
    "from nltk.tokenize import word_tokenize\n",
    "from nltk.probability import FreqDist\n",
    "from nltk.corpus import brown\n",
    "from nltk.corpus import stopwords\n"
   ]
  },
  {
   "cell_type": "code",
   "execution_count": null,
   "metadata": {
    "_cell_guid": "12ac681d-b21e-df17-54ff-909b951804e1",
    "collapsed": true
   },
   "outputs": [],
   "source": [
    "#This needs to be changed to whatever your directory i\n",
    "masterDF = pd.read_csv(\"../input/emails.csv\")"
   ]
  },
  {
   "cell_type": "markdown",
   "metadata": {
    "_cell_guid": "bb54349e-223f-255c-4b61-7a498ecbd767"
   },
   "source": []
  },
  {
   "cell_type": "code",
   "execution_count": null,
   "metadata": {
    "_cell_guid": "1e9bda6d-8c5d-2a36-7bfe-fd5d85073644",
    "collapsed": true
   },
   "outputs": [],
   "source": [
    "messageList = masterDF['message'].tolist()\n",
    "#print messageList[11]\n",
    "\n",
    "bodyList = []\n",
    "\n",
    "#Janky first attempt at a split!\n",
    "for message in messageList:\n",
    "    #Split at the filename\n",
    "    firstSplit = message.split(\"X-FileName: \", 1)[1]\n",
    "    #Get everything after the file extension\n",
    "    secondSplit = firstSplit.split(\".\")\n",
    "    #Some error checking if the file type isn't included\n",
    "    if len(secondSplit) > 1:\n",
    "        secondSplit = secondSplit[1]\n",
    "    body =  ''.join(secondSplit)[4:]\n",
    "    bodyList.append(body)"
   ]
  },
  {
   "cell_type": "code",
   "execution_count": null,
   "metadata": {
    "_cell_guid": "0e648a72-b304-c3bb-f62e-3e85dac8be94",
    "collapsed": true
   },
   "outputs": [],
   "source": [
    "#Join all of this text together\n",
    "textBlob = ''.join(bodyList)\n",
    "\n",
    "textTokenized = word_tokenize(textBlob)\n",
    "textFreqDist = FreqDist(textTokenized)"
   ]
  },
  {
   "cell_type": "code",
   "execution_count": null,
   "metadata": {
    "_cell_guid": "041917ec-7075-4c01-f88e-7385ec849506",
    "collapsed": true
   },
   "outputs": [],
   "source": [
    "#Get a frequency distribution from Brown\n",
    "brownFreqDist = FreqDist(i.lower() for i in brown.words())"
   ]
  },
  {
   "cell_type": "markdown",
   "metadata": {
    "_cell_guid": "9a8fb120-9005-93c0-0870-1071683a308f"
   },
   "source": []
  },
  {
   "cell_type": "code",
   "execution_count": null,
   "metadata": {
    "_cell_guid": "7706a203-3539-ec33-45bf-1b5111aab10d",
    "collapsed": true
   },
   "outputs": [],
   "source": [
    "uniquenessList = []\n",
    "\n",
    "#Compare the occurance of a word to its occurance in the Brown Dataset\n",
    "for word in textFreqDist:\n",
    "    brownOccurances = brownFreqDist[word]\n",
    "    textOccurances = textFreqDist[word]\n",
    "    if brownOccurances > 5 and textOccurances > 5 and word.isalpha():\n",
    "        uniquenessList.append((word, log10(float(textOccurances) / float(brownOccurances))))"
   ]
  },
  {
   "cell_type": "code",
   "execution_count": null,
   "metadata": {
    "_cell_guid": "6fc85aa3-e33e-3115-ee57-b1bfea1282ec",
    "collapsed": true
   },
   "outputs": [],
   "source": [
    "uniquenessList.sort(key=lambda tup: -tup[1])\n",
    "\n",
    "for i in range(10):\n",
    "    print(\"(%s, %f)\" % (uniquenessList[i][0], uniquenessList[i][1]))"
   ]
  }
 ],
 "metadata": {
  "_change_revision": 0,
  "_is_fork": false,
  "kernelspec": {
   "display_name": "Python 3",
   "language": "python",
   "name": "python3"
  },
  "language_info": {
   "codemirror_mode": {
    "name": "ipython",
    "version": 3
   },
   "file_extension": ".py",
   "mimetype": "text/x-python",
   "name": "python",
   "nbconvert_exporter": "python",
   "pygments_lexer": "ipython3",
   "version": "3.6.2"
  }
 },
 "nbformat": 4,
 "nbformat_minor": 1
}
