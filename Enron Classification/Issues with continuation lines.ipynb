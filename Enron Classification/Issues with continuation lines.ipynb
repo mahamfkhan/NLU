{
 "cells": [
  {
   "cell_type": "code",
   "execution_count": 1,
   "metadata": {
    "collapsed": true
   },
   "outputs": [],
   "source": [
    "#forked from https://www.kaggle.com/tiwocode/issues-with-continuation-lines/code"
   ]
  },
  {
   "cell_type": "markdown",
   "metadata": {
    "_cell_guid": "86bce1a0-e3ac-d0cc-4722-2880750320b4"
   },
   "source": [
    "# Some emails header continuation lines lack necessary indentation\n",
    "\n",
    "E-mail headers can span multiple lines following this format:\n",
    "\n",
    "    Subject: This is a\n",
    "     very long email\n",
    "\n",
    "in the dataset, multiple messages lack the required indentation by space or tab. Sometimes, a completely blank line terminates the message head too early."
   ]
  },
  {
   "cell_type": "code",
   "execution_count": null,
   "metadata": {
    "_cell_guid": "487371c7-bc9f-54db-1204-3186c47ec2fe",
    "collapsed": true
   },
   "outputs": [],
   "source": [
    "import numpy as np\n",
    "import pandas as pd\n",
    "import collections"
   ]
  },
  {
   "cell_type": "code",
   "execution_count": null,
   "metadata": {
    "_cell_guid": "a9579472-cc10-678b-a779-4c14ec239d86",
    "collapsed": true
   },
   "outputs": [],
   "source": [
    "emails = pd.read_csv(\"../input/emails.csv\")"
   ]
  },
  {
   "cell_type": "code",
   "execution_count": null,
   "metadata": {
    "_cell_guid": "439837bf-9d09-5da2-583c-1ce5c652ce70",
    "collapsed": true
   },
   "outputs": [],
   "source": [
    "class IgnorantMessageParser:\n",
    "    \n",
    "    checks = ['head terminated by blank line']\n",
    "    \n",
    "    def __init__(self, data, *ID):\n",
    "        self.ID=ID\n",
    "        self.errors = collections.defaultdict(list)\n",
    "        \n",
    "        self._process_data(data)\n",
    "        \n",
    "    def _log_error(self, error, *description):\n",
    "        self.errors[error].append(description)\n",
    "        \n",
    "    def _process_data(self, data):\n",
    "        try:\n",
    "            head, body = data.split('\\n\\n', 1)\n",
    "        except ValueError:\n",
    "            self._log_error('unterminated head')\n",
    "            head, body = data, ''\n",
    "        \n",
    "        self.process_head(head)\n",
    "        self.process_body(body)\n",
    "        \n",
    "    def process_head(self, head):\n",
    "        ...\n",
    "\n",
    "    def process_body(self, body):\n",
    "        ..."
   ]
  },
  {
   "cell_type": "code",
   "execution_count": null,
   "metadata": {
    "_cell_guid": "66f5d44c-fa5a-67bd-0ec3-0760db81cbfa",
    "collapsed": true
   },
   "outputs": [],
   "source": [
    "class Checker:\n",
    "    def __init__(self, parserclass):\n",
    "        self.parse = parserclass\n",
    "        self.errorneous_messages = []\n",
    "        self.issues = collections.Counter()\n",
    "        self.examples = {}\n",
    "        self.n = 0\n",
    "        \n",
    "    def __call__(self, dataframe):\n",
    "        for n, (index, file_, message) in enumerate(emails.itertuples()):\n",
    "            parsed = self.parse(message, index)\n",
    "            if parsed.errors:\n",
    "                self.errorneous_messages.append(parsed)\n",
    "                #self.errorneous_messages.append(index)\n",
    "                for error in parsed.errors:\n",
    "                    self.issues[error] += 1\n",
    "                    self.examples[error] = parsed\n",
    "            yield parsed\n",
    "        self.n += n\n",
    "    \n",
    "    def _repr_html_(self):\n",
    "        checks = '<span>(checks: ' + ', '.join(self.parse.checks) + ')</span>'\n",
    "        if self.n:\n",
    "            if self.errorneous_messages:\n",
    "                issues = '<span>Issues found: ' + ', '.join(sorted(self.issues)) + '</span>'\n",
    "                return ('<span class=\"Checker Checker_warning\">⚠️ {}/{} messages with issues. {}.'\n",
    "                        ' {}</span>'\n",
    "                        ).format(len(self.errorneous_messages), self.n, checks, issues)\n",
    "            else:\n",
    "                return ('<span class=\"Checker Checker_ok\">✔️ no issues found, {} messages checked. {}'\n",
    "                        .format(self.n, checks))\n",
    "        else:\n",
    "            return ('<span class=\"Checker Checker_fresh\">❗ no messages checked yet. {}</span>'\n",
    "                        .format(checks))\n",
    "            \n",
    "            "
   ]
  },
  {
   "cell_type": "code",
   "execution_count": null,
   "metadata": {
    "_cell_guid": "9f9891c3-c1e3-a3ef-64af-81dc814fc842",
    "collapsed": true
   },
   "outputs": [],
   "source": [
    "def consume(iterator):\n",
    "    collections.deque(iterator, maxlen=0)\n",
    "\n",
    "checker = Checker(IgnorantMessageParser)\n",
    "consume(checker(emails))\n",
    "checker"
   ]
  },
  {
   "cell_type": "code",
   "execution_count": null,
   "metadata": {
    "_cell_guid": "3ebaed59-453b-4b88-e7fa-72ed8346d1f7",
    "collapsed": true
   },
   "outputs": [],
   "source": [
    "class HeaderParser(IgnorantMessageParser):\n",
    "    \n",
    "    checks = ['head terminated by blank line', 'continuation lines']\n",
    "    \n",
    "    def __init__(self, data, *ID):\n",
    "        self.data = data\n",
    "        self.headers = collections.defaultdict(list)\n",
    "        super().__init__(data, *ID)\n",
    "    \n",
    "    def process_head(self, head):\n",
    "    \n",
    "        currentname, currentvalue = None, None\n",
    "        for line in head.splitlines():\n",
    "            if line.startswith('\\t') or line.startswith(' '):\n",
    "                if currentname is None:\n",
    "                    self._log_error('continuation in first line', line)\n",
    "                else:\n",
    "                    currentvalue.append(line.strip())\n",
    "            elif ':' in line:\n",
    "                if currentname is not None:\n",
    "                    self.process_header(currentname.lower(), ' '.join(currentvalue))\n",
    "                currentname, currentvalue = line.split(':', 1)\n",
    "                currentvalue = [currentvalue]\n",
    "            elif line == '':\n",
    "                break\n",
    "            else:\n",
    "                self._log_error('unindented continuation', line)\n",
    "                if currentname is None:\n",
    "                    self._log_error('continuation in first line', line)\n",
    "                else:\n",
    "                    currentvalue.append(line.strip())     \n",
    "    \n",
    "    def process_header(self, name, value):\n",
    "        self.headers[name].append(value)"
   ]
  },
  {
   "cell_type": "code",
   "execution_count": null,
   "metadata": {
    "_cell_guid": "5ebe9285-8787-9d46-5163-abf08a164c77",
    "collapsed": true
   },
   "outputs": [],
   "source": [
    "checker = Checker(HeaderParser)\n",
    "headers_seen = set()\n",
    "for msg in checker(emails):\n",
    "    headers_seen.update(msg.headers)\n",
    "checker"
   ]
  },
  {
   "cell_type": "code",
   "execution_count": null,
   "metadata": {
    "_cell_guid": "ce4dac79-9654-49c4-8f16-f686e785cc41",
    "collapsed": true
   },
   "outputs": [],
   "source": [
    "sorted(headers_seen)"
   ]
  },
  {
   "cell_type": "markdown",
   "metadata": {
    "_cell_guid": "a9ff2255-52ca-1581-d94f-fd74377fb702"
   },
   "source": [
    "**TODO** Still, these are no headers:\n",
    "\n",
    "- ''\n",
    "- '3 - 3'\n",
    "- '9'\n",
    "- 'attendees'\n",
    "- 'conference room'\n",
    "- 're'\n",
    "- 'time'\n",
    "\n",
    "I'll need to come back and have a look at these. Probably everything that were followed by a colon."
   ]
  },
  {
   "cell_type": "markdown",
   "metadata": {
    "_cell_guid": "72605c85-53b6-e208-bbbd-65e0194ccdbf"
   },
   "source": [
    "**TODO** my next parser gets a list of legitimate headers, and just checks like `line.lower().startswith('subject:')`. Anything else will be treated as continuation (?), and/or signalled as an error."
   ]
  },
  {
   "cell_type": "markdown",
   "metadata": {
    "_cell_guid": "3559d129-ff90-9a40-3b3d-5b2cabdea331"
   },
   "source": [
    "**TODO** search the presumed email bodies for stray headers. For example, flag emails containing `^Mime-Version:` but not (or not preceeded by) `^Message-ID` in the same paragraph."
   ]
  },
  {
   "cell_type": "code",
   "execution_count": null,
   "metadata": {
    "_cell_guid": "778f8d44-98f5-434f-33a0-68a0c4560214",
    "collapsed": true
   },
   "outputs": [],
   "source": []
  }
 ],
 "metadata": {
  "_change_revision": 0,
  "_is_fork": false,
  "kernelspec": {
   "display_name": "Python 3",
   "language": "python",
   "name": "python3"
  },
  "language_info": {
   "codemirror_mode": {
    "name": "ipython",
    "version": 3
   },
   "file_extension": ".py",
   "mimetype": "text/x-python",
   "name": "python",
   "nbconvert_exporter": "python",
   "pygments_lexer": "ipython3",
   "version": "3.6.2"
  }
 },
 "nbformat": 4,
 "nbformat_minor": 1
}
