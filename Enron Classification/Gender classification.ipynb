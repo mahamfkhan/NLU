{
 "cells": [
  {
   "cell_type": "code",
   "execution_count": 1,
   "metadata": {
    "collapsed": true
   },
   "outputs": [],
   "source": [
    "#https://www.kaggle.com/evilport/classify-gender-with-description-and-text/code"
   ]
  },
  {
   "cell_type": "code",
   "execution_count": null,
   "metadata": {
    "_cell_guid": "30ea31f8-49c6-46f0-b840-8a6d82d787d8",
    "_uuid": "a7e82fde975b0a8fb34271d9b4781ec0f4828fee",
    "collapsed": true
   },
   "outputs": [],
   "source": [
    "import nltk\n",
    "from nltk.corpus import stopwords\n",
    "import random\n",
    "from nltk.classify.scikitlearn import SklearnClassifier\n",
    "from sklearn.naive_bayes import MultinomialNB,BernoulliNB\n",
    "from sklearn.linear_model import LogisticRegression,SGDClassifier\n",
    "from sklearn.utils import shuffle\n",
    "import string\n",
    "import pandas as pd"
   ]
  },
  {
   "cell_type": "code",
   "execution_count": null,
   "metadata": {
    "_cell_guid": "a441c91c-b55c-4417-a065-a99c22c4b6d6",
    "_uuid": "469fac0898a974bb7d1db955d7a2d26a7640300c",
    "collapsed": true
   },
   "outputs": [],
   "source": [
    "def find_features(top_words, text):\n",
    "    feature = {}\n",
    "    for word in top_words:\n",
    "        feature[word] = word in text.lower()\n",
    "    return feature"
   ]
  },
  {
   "cell_type": "code",
   "execution_count": null,
   "metadata": {
    "_cell_guid": "683f1cee-88e8-45de-96e0-2bf0af2c74fd",
    "_uuid": "488a609abf492711660aa47c777f7a62c0e1c64f",
    "collapsed": true
   },
   "outputs": [],
   "source": [
    "df = pd.read_csv('../input/gender-classifier-DFE-791531.csv', encoding = 'latin1')\n",
    "#df = shuffle(shuffle(shuffle(df)))\n",
    "df.head(10)"
   ]
  },
  {
   "cell_type": "code",
   "execution_count": null,
   "metadata": {
    "_cell_guid": "6bcfea7e-fa3b-44e8-b59b-e54a7f61fac5",
    "_uuid": "070b5ec775db654ab4f61f4bde3347665ed045f0",
    "collapsed": true
   },
   "outputs": [],
   "source": [
    "all_descriptions = df['description']\n",
    "all_tweets = df['text']\n",
    "all_genders = df['gender']\n",
    "all_gender_confidence = df['gender:confidence']\n",
    "description_tweet_gender = []"
   ]
  },
  {
   "cell_type": "code",
   "execution_count": null,
   "metadata": {
    "_cell_guid": "3b4d2f16-49fd-4bc2-bba3-26834064c868",
    "_uuid": "2e2a78d49e30b7c15bd84c4f692d8d9b5e7d8026",
    "collapsed": true
   },
   "outputs": [],
   "source": [
    "# Creation of bag of words for the description\n",
    "bag_of_words = []\n",
    "c = 0  # for the index of the row\n",
    "stop = stopwords.words('english')\n",
    "for tweet in all_tweets:\n",
    "    description = all_descriptions[c]\n",
    "    gender = all_genders[c]\n",
    "    gender_confidence = all_gender_confidence[c]\n",
    "    \n",
    "    # remove the rows which has an empty tweet and description\n",
    "    # remove the rows with unknown or empty gender\n",
    "    # remove the rows which have gender:confidence < 80%\n",
    "    if (str(tweet) == 'nan' and str(description) == 'nan') or str(gender) == 'nan' or str(gender) == 'unknown' or float(gender_confidence) < 0.8:\n",
    "        c+=1\n",
    "        continue\n",
    "    \n",
    "    if str(tweet) == 'nan':\n",
    "        tweet = ''\n",
    "    if str(description) == 'nan':\n",
    "        description = ''\n",
    "    \n",
    "    # removal of punctuations\n",
    "    for punct in string.punctuation:\n",
    "        if punct in tweet:\n",
    "            tweet = tweet.replace(punct, \" \")\n",
    "        if punct in description:\n",
    "            description = description.replace(punct, \" \")\n",
    "            \n",
    "    # adding the word to the bag except stopwords\n",
    "    for word in tweet.split():\n",
    "        if word.isalpha() and word.lower() not in stop:\n",
    "            bag_of_words.append(word.lower())\n",
    "    for word in description.split():\n",
    "        if word.isalpha() and word.lower() not in stop:\n",
    "            bag_of_words.append(word.lower())\n",
    "    \n",
    "    # using tweet and description for classification\n",
    "    description_tweet_gender.append((tweet+\" \"+description , gender))\n",
    "    c += 1\n",
    "\n",
    "print(len(bag_of_words))\n",
    "print(len(description_tweet_gender))"
   ]
  },
  {
   "cell_type": "code",
   "execution_count": null,
   "metadata": {
    "_cell_guid": "d7fe1813-4577-4d36-8af5-2e1565a51c3e",
    "_uuid": "8360541b2094a8828d5451c497c4ab0bc5922f06",
    "collapsed": true
   },
   "outputs": [],
   "source": [
    "# get top 4000 words which will act as our features of each sentence\n",
    "bag_of_words = nltk.FreqDist(bag_of_words)\n",
    "top_words = []\n",
    "for word in bag_of_words.most_common(4000):\n",
    "    top_words.append(word[0])\n",
    "\n",
    "top_words[:10]"
   ]
  },
  {
   "cell_type": "code",
   "execution_count": null,
   "metadata": {
    "_cell_guid": "1d235199-b29c-41a9-9024-7334020508fd",
    "_uuid": "efd15395f02bace71f38d38f37dba96f5732ea25",
    "collapsed": true
   },
   "outputs": [],
   "source": [
    "# creating the feature set, training set and the testing set\n",
    "feature_set = [(find_features(top_words, text), gender) for (text, gender) in description_tweet_gender]\n",
    "training_set = feature_set[:int(len(feature_set)*4/5)]\n",
    "testing_set = feature_set[int(len(feature_set)*4/5):]\n",
    "\n",
    "print(\"Length of feature set\", len(feature_set))\n",
    "print(\"Length of training set\", len(training_set))\n",
    "print(\"Length of testing set\", len(testing_set))"
   ]
  },
  {
   "cell_type": "code",
   "execution_count": null,
   "metadata": {
    "_cell_guid": "153ed6ca-9839-4d67-b437-2189dec4d519",
    "_uuid": "c70e7a7964c104265cf671c55bdb5e4f611834c0",
    "collapsed": true
   },
   "outputs": [],
   "source": [
    "# creating a naive bayes classifier\n",
    "NB_classifier = nltk.NaiveBayesClassifier.train(training_set)\n",
    "accuracy = nltk.classify.accuracy(NB_classifier, testing_set)*100\n",
    "print(\"Naive Bayes Classifier accuracy =\", accuracy)\n",
    "NB_classifier.show_most_informative_features(20)"
   ]
  },
  {
   "cell_type": "code",
   "execution_count": null,
   "metadata": {
    "_cell_guid": "31f6d6a0-7f07-4f68-a30f-e41a28fdf976",
    "_uuid": "05f87247fe52d5ab2bbcf47655c614ff9de4c02c",
    "collapsed": true
   },
   "outputs": [],
   "source": [
    "# creating a multinomial naive bayes classifier\n",
    "MNB_classifier = SklearnClassifier(MultinomialNB())\n",
    "MNB_classifier.train(training_set)\n",
    "accuracy = nltk.classify.accuracy(MNB_classifier, testing_set)*100\n",
    "print(\"Multinomial Naive Bayes Classifier accuracy =\", (accuracy))"
   ]
  },
  {
   "cell_type": "code",
   "execution_count": null,
   "metadata": {
    "_cell_guid": "5bb59d76-f301-4a97-a2c4-da34f2b06d85",
    "_uuid": "9889fe0e348fb72868e5671aeef1c150b27f23a4",
    "collapsed": true
   },
   "outputs": [],
   "source": [
    "# creating a logistic regression classifier\n",
    "LogisticRegression_classifier = SklearnClassifier(LogisticRegression())\n",
    "LogisticRegression_classifier.train(training_set)\n",
    "accuracy = nltk.classify.accuracy(LogisticRegression_classifier, testing_set)*100\n",
    "print(\"Logistic Regression classifier accuracy =\", accuracy)"
   ]
  },
  {
   "cell_type": "code",
   "execution_count": null,
   "metadata": {
    "collapsed": true
   },
   "outputs": [],
   "source": [
    "# testing with my own account\n",
    "description = \"C, Java and Android Programmer with a very small knowledge in web development. Amateur Hacker. Engineering student for now. Huge fan of Batman.\"\n",
    "text = \"Java on being platform independent is like \\\" You can't C me\\\".\"\n",
    "features = find_features(top_words, description+\" \"+text)\n",
    "print(NB_classifier.classify(features))\n",
    "print(MNB_classifier.classify(features))\n",
    "print(LogisticRegression_classifier.classify(features))"
   ]
  }
 ],
 "metadata": {
  "kernelspec": {
   "display_name": "Python 3",
   "language": "python",
   "name": "python3"
  },
  "language_info": {
   "codemirror_mode": {
    "name": "ipython",
    "version": 3
   },
   "file_extension": ".py",
   "mimetype": "text/x-python",
   "name": "python",
   "nbconvert_exporter": "python",
   "pygments_lexer": "ipython3",
   "version": "3.6.2"
  }
 },
 "nbformat": 4,
 "nbformat_minor": 1
}
