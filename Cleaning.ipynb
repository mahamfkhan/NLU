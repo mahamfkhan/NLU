{
 "cells": [
  {
   "cell_type": "code",
   "execution_count": 1,
   "metadata": {},
   "outputs": [
    {
     "name": "stderr",
     "output_type": "stream",
     "text": [
      "/anaconda3/lib/python3.6/site-packages/sklearn/cross_validation.py:41: DeprecationWarning: This module was deprecated in version 0.18 in favor of the model_selection module into which all the refactored classes and functions are moved. Also note that the interface of the new CV iterators are different from that of this module. This module will be removed in 0.20.\n",
      "  \"This module will be removed in 0.20.\", DeprecationWarning)\n",
      "/anaconda3/lib/python3.6/site-packages/sklearn/grid_search.py:42: DeprecationWarning: This module was deprecated in version 0.18 in favor of the model_selection module into which all the refactored classes and functions are moved. This module will be removed in 0.20.\n",
      "  DeprecationWarning)\n"
     ]
    }
   ],
   "source": [
    "import numpy as np\n",
    "import pandas as pd\n",
    "import re\n",
    "import random\n",
    "import email\n",
    "from nltk.corpus import stopwords\n",
    "from sklearn.feature_extraction.text import TfidfVectorizer, CountVectorizer\n",
    "from sklearn.linear_model import LogisticRegression, SGDClassifier\n",
    "from sklearn import metrics \n",
    "from sklearn.feature_selection import SelectFromModel\n",
    "from sklearn.svm import LinearSVC\n",
    "from sklearn.ensemble import RandomForestClassifier, GradientBoostingClassifier\n",
    "from sklearn.cross_validation import cross_val_score\n",
    "from sklearn.grid_search import GridSearchCV\n",
    "from sklearn.metrics import classification_report\n",
    "from sklearn.metrics import confusion_matrix\n",
    "\n",
    "from sklearn.cross_validation import train_test_split\n",
    "from sklearn.decomposition import TruncatedSVD\n",
    "\n",
    "from scipy.sparse import coo_matrix, hstack"
   ]
  },
  {
   "cell_type": "code",
   "execution_count": 2,
   "metadata": {
    "collapsed": true
   },
   "outputs": [],
   "source": [
    "enron_data = pd.read_csv(\"emails.csv\", header=0, quoting=2)"
   ]
  },
  {
   "cell_type": "code",
   "execution_count": 3,
   "metadata": {
    "collapsed": true
   },
   "outputs": [],
   "source": [
    "enron_sent = enron_data[enron_data[\"file\"].str.contains('sent').tolist()]"
   ]
  },
  {
   "cell_type": "code",
   "execution_count": 4,
   "metadata": {},
   "outputs": [
    {
     "name": "stderr",
     "output_type": "stream",
     "text": [
      "/anaconda3/lib/python3.6/site-packages/ipykernel_launcher.py:1: SettingWithCopyWarning: \n",
      "A value is trying to be set on a copy of a slice from a DataFrame.\n",
      "Try using .loc[row_indexer,col_indexer] = value instead\n",
      "\n",
      "See the caveats in the documentation: http://pandas.pydata.org/pandas-docs/stable/indexing.html#indexing-view-versus-copy\n",
      "  \"\"\"Entry point for launching an IPython kernel.\n"
     ]
    },
    {
     "data": {
      "text/html": [
       "<div>\n",
       "<style>\n",
       "    .dataframe thead tr:only-child th {\n",
       "        text-align: right;\n",
       "    }\n",
       "\n",
       "    .dataframe thead th {\n",
       "        text-align: left;\n",
       "    }\n",
       "\n",
       "    .dataframe tbody tr th {\n",
       "        vertical-align: top;\n",
       "    }\n",
       "</style>\n",
       "<table border=\"1\" class=\"dataframe\">\n",
       "  <thead>\n",
       "    <tr style=\"text-align: right;\">\n",
       "      <th></th>\n",
       "      <th>file</th>\n",
       "      <th>message</th>\n",
       "      <th>start</th>\n",
       "      <th>end</th>\n",
       "      <th>fileno</th>\n",
       "    </tr>\n",
       "  </thead>\n",
       "  <tbody>\n",
       "    <tr>\n",
       "      <th>0</th>\n",
       "      <td>allen-p/_sent_mail/1.</td>\n",
       "      <td>Message-ID: &lt;18782981.1075855378110.JavaMail.e...</td>\n",
       "      <td>allen-p</td>\n",
       "      <td>_sent_mail</td>\n",
       "      <td>1.</td>\n",
       "    </tr>\n",
       "    <tr>\n",
       "      <th>1</th>\n",
       "      <td>allen-p/_sent_mail/10.</td>\n",
       "      <td>Message-ID: &lt;15464986.1075855378456.JavaMail.e...</td>\n",
       "      <td>allen-p</td>\n",
       "      <td>_sent_mail</td>\n",
       "      <td>10.</td>\n",
       "    </tr>\n",
       "    <tr>\n",
       "      <th>2</th>\n",
       "      <td>allen-p/_sent_mail/100.</td>\n",
       "      <td>Message-ID: &lt;24216240.1075855687451.JavaMail.e...</td>\n",
       "      <td>allen-p</td>\n",
       "      <td>_sent_mail</td>\n",
       "      <td>100.</td>\n",
       "    </tr>\n",
       "    <tr>\n",
       "      <th>3</th>\n",
       "      <td>allen-p/_sent_mail/1000.</td>\n",
       "      <td>Message-ID: &lt;13505866.1075863688222.JavaMail.e...</td>\n",
       "      <td>allen-p</td>\n",
       "      <td>_sent_mail</td>\n",
       "      <td>1000.</td>\n",
       "    </tr>\n",
       "    <tr>\n",
       "      <th>4</th>\n",
       "      <td>allen-p/_sent_mail/1001.</td>\n",
       "      <td>Message-ID: &lt;30922949.1075863688243.JavaMail.e...</td>\n",
       "      <td>allen-p</td>\n",
       "      <td>_sent_mail</td>\n",
       "      <td>1001.</td>\n",
       "    </tr>\n",
       "  </tbody>\n",
       "</table>\n",
       "</div>"
      ],
      "text/plain": [
       "                       file  \\\n",
       "0     allen-p/_sent_mail/1.   \n",
       "1    allen-p/_sent_mail/10.   \n",
       "2   allen-p/_sent_mail/100.   \n",
       "3  allen-p/_sent_mail/1000.   \n",
       "4  allen-p/_sent_mail/1001.   \n",
       "\n",
       "                                             message    start         end  \\\n",
       "0  Message-ID: <18782981.1075855378110.JavaMail.e...  allen-p  _sent_mail   \n",
       "1  Message-ID: <15464986.1075855378456.JavaMail.e...  allen-p  _sent_mail   \n",
       "2  Message-ID: <24216240.1075855687451.JavaMail.e...  allen-p  _sent_mail   \n",
       "3  Message-ID: <13505866.1075863688222.JavaMail.e...  allen-p  _sent_mail   \n",
       "4  Message-ID: <30922949.1075863688243.JavaMail.e...  allen-p  _sent_mail   \n",
       "\n",
       "  fileno  \n",
       "0     1.  \n",
       "1    10.  \n",
       "2   100.  \n",
       "3  1000.  \n",
       "4  1001.  "
      ]
     },
     "execution_count": 4,
     "metadata": {},
     "output_type": "execute_result"
    }
   ],
   "source": [
    "In [14]: enron_sent['start'], enron_sent['end'], enron_sent['fileno'] = zip(*enron_sent['file'].map(lambda x: x.split('/')))\n",
    "enron_sent.head()"
   ]
  },
  {
   "cell_type": "code",
   "execution_count": 5,
   "metadata": {},
   "outputs": [
    {
     "data": {
      "text/plain": [
       "mann-k          8926\n",
       "kaminski-v      8644\n",
       "dasovich-j      5366\n",
       "germany-c       5128\n",
       "shackleton-s    4407\n",
       "jones-t         4123\n",
       "bass-e          3030\n",
       "lenhart-m       2759\n",
       "beck-s          2674\n",
       "symes-k         2649\n",
       "Name: sender, dtype: int64"
      ]
     },
     "execution_count": 5,
     "metadata": {},
     "output_type": "execute_result"
    }
   ],
   "source": [
    "enron_sent = enron_sent.assign(sender=enron_sent[\"file\"].map(lambda x: re.search(\"(.*)/.*sent\", x).group(1)).values)\n",
    "enron_sent.drop(\"file\", axis=1, inplace=True)\n",
    "enron_sent[\"sender\"].value_counts().head(10)"
   ]
  },
  {
   "cell_type": "code",
   "execution_count": 6,
   "metadata": {},
   "outputs": [
    {
     "data": {
      "text/html": [
       "<div>\n",
       "<style>\n",
       "    .dataframe thead tr:only-child th {\n",
       "        text-align: right;\n",
       "    }\n",
       "\n",
       "    .dataframe thead th {\n",
       "        text-align: left;\n",
       "    }\n",
       "\n",
       "    .dataframe tbody tr th {\n",
       "        vertical-align: top;\n",
       "    }\n",
       "</style>\n",
       "<table border=\"1\" class=\"dataframe\">\n",
       "  <thead>\n",
       "    <tr style=\"text-align: right;\">\n",
       "      <th></th>\n",
       "      <th>Bcc</th>\n",
       "      <th>Cc</th>\n",
       "      <th>Content-Transfer-Encoding</th>\n",
       "      <th>Content-Type</th>\n",
       "      <th>Date</th>\n",
       "      <th>From</th>\n",
       "      <th>Message-ID</th>\n",
       "      <th>Mime-Version</th>\n",
       "      <th>Subject</th>\n",
       "      <th>To</th>\n",
       "      <th>X-FileName</th>\n",
       "      <th>X-Folder</th>\n",
       "      <th>X-From</th>\n",
       "      <th>X-Origin</th>\n",
       "      <th>X-To</th>\n",
       "      <th>X-bcc</th>\n",
       "      <th>X-cc</th>\n",
       "      <th>content</th>\n",
       "    </tr>\n",
       "  </thead>\n",
       "  <tbody>\n",
       "    <tr>\n",
       "      <th>0</th>\n",
       "      <td>NaN</td>\n",
       "      <td>NaN</td>\n",
       "      <td>7bit</td>\n",
       "      <td>text/plain; charset=us-ascii</td>\n",
       "      <td>Mon, 14 May 2001 16:39:00 -0700 (PDT)</td>\n",
       "      <td>phillip.allen@enron.com</td>\n",
       "      <td>&lt;18782981.1075855378110.JavaMail.evans@thyme&gt;</td>\n",
       "      <td>1.0</td>\n",
       "      <td></td>\n",
       "      <td>tim.belden@enron.com</td>\n",
       "      <td>pallen (Non-Privileged).pst</td>\n",
       "      <td>\\Phillip_Allen_Jan2002_1\\Allen, Phillip K.\\'Se...</td>\n",
       "      <td>Phillip K Allen</td>\n",
       "      <td>Allen-P</td>\n",
       "      <td>Tim Belden &lt;Tim Belden/Enron@EnronXGate&gt;</td>\n",
       "      <td></td>\n",
       "      <td></td>\n",
       "      <td>Here is our forecast\\n\\n</td>\n",
       "    </tr>\n",
       "  </tbody>\n",
       "</table>\n",
       "</div>"
      ],
      "text/plain": [
       "   Bcc   Cc Content-Transfer-Encoding                  Content-Type  \\\n",
       "0  NaN  NaN                      7bit  text/plain; charset=us-ascii   \n",
       "\n",
       "                                    Date                     From  \\\n",
       "0  Mon, 14 May 2001 16:39:00 -0700 (PDT)  phillip.allen@enron.com   \n",
       "\n",
       "                                      Message-ID Mime-Version Subject  \\\n",
       "0  <18782981.1075855378110.JavaMail.evans@thyme>          1.0           \n",
       "\n",
       "                     To                   X-FileName  \\\n",
       "0  tim.belden@enron.com  pallen (Non-Privileged).pst   \n",
       "\n",
       "                                            X-Folder           X-From  \\\n",
       "0  \\Phillip_Allen_Jan2002_1\\Allen, Phillip K.\\'Se...  Phillip K Allen   \n",
       "\n",
       "  X-Origin                                      X-To X-bcc X-cc  \\\n",
       "0  Allen-P  Tim Belden <Tim Belden/Enron@EnronXGate>              \n",
       "\n",
       "                     content  \n",
       "0  Here is our forecast\\n\\n   "
      ]
     },
     "execution_count": 6,
     "metadata": {},
     "output_type": "execute_result"
    }
   ],
   "source": [
    "def email_from_string(raw_email):\n",
    "    msg = email.message_from_string(raw_email)\n",
    "    \n",
    "    content = []\n",
    "    for part in msg.walk():\n",
    "        if part.get_content_type() == 'text/plain':\n",
    "            content.append(part.get_payload())\n",
    "            \n",
    "    result = {}\n",
    "    for key in msg.keys(): \n",
    "        result[key] = msg[key]\n",
    "    result[\"content\"] = ''.join(content)\n",
    "    \n",
    "    return result\n",
    "enron_parsed = pd.DataFrame(list(map(email_from_string, enron_sent.message)))\n",
    "enron_parsed.head(1)"
   ]
  },
  {
   "cell_type": "code",
   "execution_count": 7,
   "metadata": {
    "collapsed": true
   },
   "outputs": [],
   "source": [
    "def remove_fwd_org(test_email):\n",
    "    lines  = test_email.split(\"\\n\")\n",
    "    i = 0\n",
    "    Fowarded = \"-- Forwarded\"\n",
    "    Original = \"-----Original Message-----\"\n",
    "    N = len(lines)\n",
    "    while i < N:\n",
    "        line  = lines[i]\n",
    "        if Fowarded in line:\n",
    "            lines = lines[:i]\n",
    "            i = N\n",
    "        if Original in line:\n",
    "            lines = lines[:i]\n",
    "            i = N\n",
    "        if \"Sent by:\" in line:\n",
    "            lines = lines[:i]\n",
    "            i = N\n",
    "        if \"From:\" in line:\n",
    "            lines = lines[:i]\n",
    "            i = N\n",
    "        if \"Subject:\" in line:\n",
    "            lines = lines[:i-7]\n",
    "            i = N\n",
    "        if \"To:\" in line:\n",
    "            lines = lines[:i-3]\n",
    "            i = N\n",
    "        i+=1\n",
    "\n",
    "    lines  = [line+\"\\n\" for line in lines]\n",
    "\n",
    "    new_email = \"\".join(lines).strip(\"\\n\")\n",
    "    return new_email"
   ]
  },
  {
   "cell_type": "code",
   "execution_count": 8,
   "metadata": {
    "collapsed": true
   },
   "outputs": [],
   "source": [
    "df = enron_parsed[enron_parsed.From.str.contains(\"enron\")]\n",
    "df = df[:][~pd.isnull(df.To)]\n",
    "df = df[df.To.str.contains(\"enron\")]\n",
    "df = df[:][pd.isnull(df.Bcc)]\n",
    "df = df[:][pd.isnull(df.Cc)]\n",
    "df = df[:][df.To.apply(lambda x: len(str(x).split(\",\"))) == 1]\n",
    "df.content = df.content.str.strip(\"\\n\")\n",
    "df = df[:][~df.content.str.split(\"\\n\").apply(lambda x : \"-- Forwarded\" in x[0])]\n",
    "df = df[:][~df.content.str.split(\"\\n\").apply(lambda x : \"-- Inline\" in x[0])]\n",
    "df[\"content\"] = df.content.apply(remove_fwd_org)\n",
    "df = df[:][~(df.content == \"\")]\n",
    "df[\"Date\"] =  pd.to_datetime(df[\"Date\"], infer_datetime_format=True)\n",
    "df[\"Time\"] = df[\"Date\"].dt.hour\n",
    "#df[\"Sender\"]=df.From.str.strip(\"enron.com\").str.strip(\"@\")\n",
    "#df[\"Recipient\"]=df.To.str.strip(\"enron.com\").str.strip(\"@\")\n",
    "#df = df[:][~(df.Sender.apply(lambda x: \"..\" in x))]\n",
    "#df = df[:][~(df.Recipient.apply(lambda x: \"..\" in x))]\n",
    "#df = df[:][df.Sender.apply(lambda x: \".\" in x)]\n",
    "#df = df[:][df.Recipient.apply(lambda x: \".\" in x)]\n",
    "#df = df[:][df.Sender.apply(lambda x: \"legal\" not in x)]\n",
    "#df = df[:][df.Recipient.apply(lambda x: \"legal\" not in x)]\n",
    "#df = df[:][df.Sender.apply(lambda x: \"trading\" not in x)]\n",
    "#df = df[:][df.Recipient.apply(lambda x: \"trading\" not in x)]\n",
    "#df = df[:][df.Sender.apply(lambda x: \"houston\" not in x)]\n",
    "#df = df[:][df.Recipient.apply(lambda x: \"houston\" not in x)]"
   ]
  },
  {
   "cell_type": "code",
   "execution_count": 9,
   "metadata": {
    "collapsed": true
   },
   "outputs": [],
   "source": [
    "def before(value, a):\n",
    "    # Find first part and return slice before it.\n",
    "    pos_a = value.find(a)\n",
    "    if pos_a == -1: return \"\"\n",
    "    return value[0:pos_a]"
   ]
  },
  {
   "cell_type": "markdown",
   "metadata": {},
   "source": [
    "### Sender gender assignment"
   ]
  },
  {
   "cell_type": "code",
   "execution_count": 10,
   "metadata": {
    "collapsed": true
   },
   "outputs": [],
   "source": [
    "names = []\n",
    "for i in df.From:\n",
    "    names.append(before(i,'@'))\n",
    "\n",
    "names = pd.DataFrame(names)    "
   ]
  },
  {
   "cell_type": "code",
   "execution_count": 11,
   "metadata": {
    "scrolled": false
   },
   "outputs": [
    {
     "name": "stdout",
     "output_type": "stream",
     "text": [
      "14\n"
     ]
    }
   ],
   "source": [
    "rando = random.randint(0, df.shape[0])\n",
    "print(df.iloc[rando, -1])"
   ]
  },
  {
   "cell_type": "code",
   "execution_count": 12,
   "metadata": {
    "collapsed": true
   },
   "outputs": [],
   "source": [
    "names.columns = [\"fullname\"]"
   ]
  },
  {
   "cell_type": "code",
   "execution_count": 13,
   "metadata": {
    "collapsed": true
   },
   "outputs": [],
   "source": [
    "first_names = []\n",
    "for i in names.fullname:\n",
    "    first_names.append(before(i,'.'))  "
   ]
  },
  {
   "cell_type": "code",
   "execution_count": 14,
   "metadata": {
    "collapsed": true
   },
   "outputs": [],
   "source": [
    "first_names = pd.DataFrame(first_names)\n",
    "first_names['gender']=np.zeros(len(first_names))\n",
    "first_names.columns = ['name','gender']"
   ]
  },
  {
   "cell_type": "code",
   "execution_count": 15,
   "metadata": {
    "collapsed": true
   },
   "outputs": [],
   "source": [
    "male_list = [\n",
    "    '','a','alhamd','andrea', 'b', 'c',\n",
    "    'casey', 'click',  'd', 'dana',\n",
    "    'dutch','e', 'enron','f',  'gaby', 'geir', 'gretel', 'h','houston <', 'hunter', 'j', \n",
    "    'joe','k', 'kam',  'kay', 'kaye', 'kim',  \n",
    "    'l', 'larry', 'legal <', 'lindy', \n",
    "    'lynn', 'lysa', 'm', 'madhup','no','pinnamaneni',  'robin', 's','stacy', 't', \n",
    "    'teb', 'terry','tori','tracy', 'trading <', 'twanda',  'v', 'vasant','vladi',\n",
    "    \n",
    "]"
   ]
  },
  {
   "cell_type": "code",
   "execution_count": 16,
   "metadata": {},
   "outputs": [
    {
     "name": "stderr",
     "output_type": "stream",
     "text": [
      "/anaconda3/lib/python3.6/site-packages/ipykernel_launcher.py:1: SettingWithCopyWarning: \n",
      "A value is trying to be set on a copy of a slice from a DataFrame\n",
      "\n",
      "See the caveats in the documentation: http://pandas.pydata.org/pandas-docs/stable/indexing.html#indexing-view-versus-copy\n",
      "  \"\"\"Entry point for launching an IPython kernel.\n"
     ]
    }
   ],
   "source": [
    "first_names.gender[first_names.name.isin(male_list)]='I'\n",
    "\n",
    "first_names.gender[first_names.name.isin([\n",
    "    'phillip','albert','andrew','benjamin','bert','bill','brad','daren','darrell',\n",
    "    'darron', 'david','tom','thomas','vince','paul','peter','larry','kevin','kenneth',\n",
    "    'keith','juan','mike','louise','mike','monika',\n",
    "    'joseph','jonathan','john','joe','jim','jeffrey','jeff','jason','james','hunter',\n",
    "    'harry','cooper','stinson','stanley','robert','rogers','scott', 'scotty', 'sean',\n",
    "    'rod','chris','eric','mark','martin','matt', 'matthew',  'michael','carl','clint',  \n",
    "    'craig','charles','geoff','vince','paul','randall','peter','phillip','torrey','rob',\n",
    "    'holden','jay','doug','don','harry','greg','grant','gerald','frank',\n",
    "    'fletcher','danny','darren','barry','andy','errol','dan'\n",
    "    \n",
    "])]='M'\n",
    "\n",
    "first_names.gender[first_names.name.isin([\n",
    "    'amelia','angela', 'brenda','carol','ursula','theresa','susan', 'suzanne', 'sylvia', \n",
    "    'stephanie','steven','sonia','sara','rosalee', 'ryan','richard', 'rick', \n",
    "    'sheila', 'shelley','kimberly','margaret', 'marie','sandra','maureen',\n",
    "    'melissa','cindy', 'jenny', 'martha','mary','michelle','lisa', 'liz','shirley',\n",
    "    'monique','tori','sally', 'tamara','tana','sherri','patrice','patti',\n",
    "    'paige','pam','judy','diana','kate','katherine', 'katrina','gwyn',\n",
    "    'elizabeth','debra','cheryl','cathy','cara','jane','janette','ina','drew'\n",
    "    \n",
    "])]='F'"
   ]
  },
  {
   "cell_type": "code",
   "execution_count": 20,
   "metadata": {},
   "outputs": [
    {
     "data": {
      "text/html": [
       "<div>\n",
       "<style>\n",
       "    .dataframe thead tr:only-child th {\n",
       "        text-align: right;\n",
       "    }\n",
       "\n",
       "    .dataframe thead th {\n",
       "        text-align: left;\n",
       "    }\n",
       "\n",
       "    .dataframe tbody tr th {\n",
       "        vertical-align: top;\n",
       "    }\n",
       "</style>\n",
       "<table border=\"1\" class=\"dataframe\">\n",
       "  <thead>\n",
       "    <tr style=\"text-align: right;\">\n",
       "      <th></th>\n",
       "      <th>name</th>\n",
       "      <th>gender</th>\n",
       "      <th>content</th>\n",
       "      <th>Time</th>\n",
       "    </tr>\n",
       "  </thead>\n",
       "  <tbody>\n",
       "    <tr>\n",
       "      <th>0</th>\n",
       "      <td>phillip</td>\n",
       "      <td>M</td>\n",
       "      <td>Here is our forecast\\n\\n</td>\n",
       "      <td>23.0</td>\n",
       "    </tr>\n",
       "    <tr>\n",
       "      <th>1</th>\n",
       "      <td>phillip</td>\n",
       "      <td>M</td>\n",
       "      <td>Traveling to have a business meeting takes the...</td>\n",
       "      <td>20.0</td>\n",
       "    </tr>\n",
       "    <tr>\n",
       "      <th>2</th>\n",
       "      <td>phillip</td>\n",
       "      <td>M</td>\n",
       "      <td>test successful.  way to go!!!</td>\n",
       "      <td>10.0</td>\n",
       "    </tr>\n",
       "    <tr>\n",
       "      <th>3</th>\n",
       "      <td>phillip</td>\n",
       "      <td>M</td>\n",
       "      <td>Randy,\\n\\n Can you send me a schedule of the s...</td>\n",
       "      <td>13.0</td>\n",
       "    </tr>\n",
       "    <tr>\n",
       "      <th>4</th>\n",
       "      <td>phillip</td>\n",
       "      <td>M</td>\n",
       "      <td>Let's shoot for Tuesday at 11:45.</td>\n",
       "      <td>12.0</td>\n",
       "    </tr>\n",
       "  </tbody>\n",
       "</table>\n",
       "</div>"
      ],
      "text/plain": [
       "      name gender                                            content  Time\n",
       "0  phillip      M                          Here is our forecast\\n\\n   23.0\n",
       "1  phillip      M  Traveling to have a business meeting takes the...  20.0\n",
       "2  phillip      M                     test successful.  way to go!!!  10.0\n",
       "3  phillip      M  Randy,\\n\\n Can you send me a schedule of the s...  13.0\n",
       "4  phillip      M                Let's shoot for Tuesday at 11:45.    12.0"
      ]
     },
     "execution_count": 20,
     "metadata": {},
     "output_type": "execute_result"
    }
   ],
   "source": [
    "sender_data = pd.concat([first_names,df.content,df.Time],axis=1)\n",
    "sender_data.head(5)"
   ]
  },
  {
   "cell_type": "code",
   "execution_count": 22,
   "metadata": {
    "collapsed": true
   },
   "outputs": [],
   "source": [
    "sender_data.to_csv('sender_data.csv')"
   ]
  },
  {
   "cell_type": "markdown",
   "metadata": {},
   "source": [
    "### Recipient gender assignment"
   ]
  },
  {
   "cell_type": "code",
   "execution_count": 79,
   "metadata": {
    "collapsed": true
   },
   "outputs": [],
   "source": [
    "names = []\n",
    "for i in df.To:\n",
    "    names.append(before(i,'@'))\n",
    "\n",
    "names = pd.DataFrame(names)    "
   ]
  },
  {
   "cell_type": "code",
   "execution_count": 80,
   "metadata": {
    "scrolled": false
   },
   "outputs": [
    {
     "name": "stdout",
     "output_type": "stream",
     "text": [
      "12\n"
     ]
    }
   ],
   "source": [
    "rando = random.randint(0, df.shape[0])\n",
    "print(df.iloc[rando, -1])"
   ]
  },
  {
   "cell_type": "code",
   "execution_count": 81,
   "metadata": {
    "collapsed": true
   },
   "outputs": [],
   "source": [
    "names.columns = [\"fullname\"]"
   ]
  },
  {
   "cell_type": "code",
   "execution_count": 82,
   "metadata": {
    "collapsed": true
   },
   "outputs": [],
   "source": [
    "first_names = []\n",
    "for i in names.fullname:\n",
    "    first_names.append(before(i,'.'))  "
   ]
  },
  {
   "cell_type": "code",
   "execution_count": 83,
   "metadata": {
    "collapsed": true
   },
   "outputs": [],
   "source": [
    "first_names = pd.DataFrame(first_names)\n",
    "first_names['gender']=np.zeros(len(first_names))\n",
    "first_names.columns = ['name','gender']"
   ]
  },
  {
   "cell_type": "code",
   "execution_count": 106,
   "metadata": {
    "collapsed": true
   },
   "outputs": [],
   "source": [
    "names_database = pd.read_csv('name_gender.csv')\n",
    "names_database = names_database[names_database.probability > .95]"
   ]
  },
  {
   "cell_type": "code",
   "execution_count": 108,
   "metadata": {},
   "outputs": [
    {
     "name": "stderr",
     "output_type": "stream",
     "text": [
      "/anaconda3/lib/python3.6/site-packages/pandas/core/generic.py:3110: SettingWithCopyWarning: \n",
      "A value is trying to be set on a copy of a slice from a DataFrame.\n",
      "Try using .loc[row_indexer,col_indexer] = value instead\n",
      "\n",
      "See the caveats in the documentation: http://pandas.pydata.org/pandas-docs/stable/indexing.html#indexing-view-versus-copy\n",
      "  self[name] = value\n"
     ]
    }
   ],
   "source": [
    "F_labels = names_database[names_database.gender=='F']\n",
    "M_labels = names_database[names_database.gender=='M']\n",
    "F_labels.name = F_labels.name.str.lower()\n",
    "M_labels.name = M_labels.name.str.lower()"
   ]
  },
  {
   "cell_type": "code",
   "execution_count": 117,
   "metadata": {
    "collapsed": true
   },
   "outputs": [],
   "source": [
    "first_names.gender[first_names.name.isin(F_labels.name)]='F'\n",
    "first_names.gender[first_names.name.isin(M_labels.name)]='M'\n",
    "first_names.gender[first_names.gender==0]='I'"
   ]
  },
  {
   "cell_type": "code",
   "execution_count": 118,
   "metadata": {
    "collapsed": true
   },
   "outputs": [],
   "source": [
    "recipient_data = pd.concat([first_names,df.content,df.Time],axis=1)\n",
    "recipient_data.to_csv('recipient_data.csv')"
   ]
  },
  {
   "cell_type": "code",
   "execution_count": null,
   "metadata": {
    "collapsed": true,
    "scrolled": true
   },
   "outputs": [],
   "source": []
  }
 ],
 "metadata": {
  "kernelspec": {
   "display_name": "Python 3",
   "language": "python",
   "name": "python3"
  },
  "language_info": {
   "codemirror_mode": {
    "name": "ipython",
    "version": 3
   },
   "file_extension": ".py",
   "mimetype": "text/x-python",
   "name": "python",
   "nbconvert_exporter": "python",
   "pygments_lexer": "ipython3",
   "version": "3.6.2"
  }
 },
 "nbformat": 4,
 "nbformat_minor": 2
}
