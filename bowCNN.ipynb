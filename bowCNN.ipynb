{
  "nbformat": 4,
  "nbformat_minor": 0,
  "metadata": {
    "colab": {
      "name": "bowCNN.ipynb",
      "version": "0.3.2",
      "views": {},
      "default_view": {},
      "provenance": [],
      "collapsed_sections": [],
      "toc_visible": true
    },
    "kernelspec": {
      "name": "python3",
      "display_name": "Python 3"
    },
    "accelerator": "GPU"
  },
  "cells": [
    {
      "metadata": {
        "id": "SuNeC1JU_fZ_",
        "colab_type": "code",
        "colab": {
          "autoexec": {
            "startup": false,
            "wait_interval": 0
          },
          "resources": {
            "http://localhost:8080/nbextensions/google.colab/files.js": {
              "data": "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",
              "ok": true,
              "headers": [
                [
                  "content-type",
                  "application/javascript"
                ]
              ],
              "status": 200,
              "status_text": ""
            }
          },
          "base_uri": "https://localhost:8080/",
          "height": 86
        },
        "outputId": "84ead24f-e91d-4e6e-93d4-6b7748a1b33e",
        "executionInfo": {
          "status": "ok",
          "timestamp": 1525207771298,
          "user_tz": 240,
          "elapsed": 9760,
          "user": {
            "displayName": "Storm Ross",
            "photoUrl": "https://lh3.googleusercontent.com/a/default-user=s128",
            "userId": "113347566869145966582"
          }
        }
      },
      "cell_type": "code",
      "source": [
        "#run this cell to upload files from local machine, ran 3 times to upload sender_data.csv, recipient_data.csv, and models.py\n",
        "from google.colab import files\n",
        "\n",
        "uploaded = files.upload()\n",
        "\n",
        "for fn in uploaded.keys():\n",
        "  print('User uploaded file \"{name}\" with length {length} bytes'.format(\n",
        "      name=fn, length=len(uploaded[fn])))"
      ],
      "execution_count": 9,
      "outputs": [
        {
          "output_type": "display_data",
          "data": {
            "text/html": [
              "\n",
              "     <input type=\"file\" id=\"files-ac396531-5084-486d-b2ae-82fecac40035\" name=\"files[]\" multiple disabled />\n",
              "     <output id=\"result-ac396531-5084-486d-b2ae-82fecac40035\">\n",
              "      Upload widget is only available when the cell has been executed in the\n",
              "      current browser session. Please rerun this cell to enable.\n",
              "      </output>\n",
              "      <script src=\"/nbextensions/google.colab/files.js\"></script> "
            ],
            "text/plain": [
              "<IPython.core.display.HTML object>"
            ]
          },
          "metadata": {
            "tags": []
          }
        },
        {
          "output_type": "stream",
          "text": [
            "Saving models.py to models.py\n",
            "User uploaded file \"models.py\" with length 13802 bytes\n"
          ],
          "name": "stdout"
        }
      ]
    },
    {
      "metadata": {
        "id": "bIBzXDwfmN7g",
        "colab_type": "text"
      },
      "cell_type": "markdown",
      "source": [
        "Run the two following cells to install pytorch on the VM"
      ]
    },
    {
      "metadata": {
        "id": "XtYdYV4VAgmm",
        "colab_type": "code",
        "colab": {
          "autoexec": {
            "startup": false,
            "wait_interval": 0
          },
          "base_uri": "https://localhost:8080/",
          "height": 156
        },
        "outputId": "75f68503-f0b9-4411-df09-2c2b2825d2e0",
        "executionInfo": {
          "status": "ok",
          "timestamp": 1525207389182,
          "user_tz": 240,
          "elapsed": 39525,
          "user": {
            "displayName": "Storm Ross",
            "photoUrl": "https://lh3.googleusercontent.com/a/default-user=s128",
            "userId": "113347566869145966582"
          }
        }
      },
      "cell_type": "code",
      "source": [
        "!pip3 install http://download.pytorch.org/whl/cu80/torch-0.3.0.post4-cp36-cp36m-linux_x86_64.whl"
      ],
      "execution_count": 5,
      "outputs": [
        {
          "output_type": "stream",
          "text": [
            "Collecting torch==0.3.0.post4 from http://download.pytorch.org/whl/cu80/torch-0.3.0.post4-cp36-cp36m-linux_x86_64.whl\n",
            "\u001b[?25l  Downloading http://download.pytorch.org/whl/cu80/torch-0.3.0.post4-cp36-cp36m-linux_x86_64.whl (592.3MB)\n",
            "\u001b[K    100% |████████████████████████████████| 592.3MB 55.0MB/s \n",
            "\u001b[?25hRequirement already satisfied: numpy in /usr/local/lib/python3.6/dist-packages (from torch==0.3.0.post4) (1.14.3)\n",
            "Requirement already satisfied: pyyaml in /usr/local/lib/python3.6/dist-packages (from torch==0.3.0.post4) (3.12)\n",
            "Installing collected packages: torch\n",
            "Successfully installed torch-0.3.0.post4\n"
          ],
          "name": "stdout"
        }
      ]
    },
    {
      "metadata": {
        "id": "o06mixSCBMlm",
        "colab_type": "code",
        "colab": {
          "autoexec": {
            "startup": false,
            "wait_interval": 0
          },
          "base_uri": "https://localhost:8080/",
          "height": 292
        },
        "outputId": "ae90b115-5b82-4352-95ee-0245fd5a86ce",
        "executionInfo": {
          "status": "ok",
          "timestamp": 1525207394132,
          "user_tz": 240,
          "elapsed": 4904,
          "user": {
            "displayName": "Storm Ross",
            "photoUrl": "https://lh3.googleusercontent.com/a/default-user=s128",
            "userId": "113347566869145966582"
          }
        }
      },
      "cell_type": "code",
      "source": [
        "!pip3 install torchvision"
      ],
      "execution_count": 6,
      "outputs": [
        {
          "output_type": "stream",
          "text": [
            "Collecting torchvision\n",
            "\u001b[?25l  Downloading https://files.pythonhosted.org/packages/ca/0d/f00b2885711e08bd71242ebe7b96561e6f6d01fdb4b9dcf4d37e2e13c5e1/torchvision-0.2.1-py2.py3-none-any.whl (54kB)\n",
            "\u001b[K    100% |████████████████████████████████| 61kB 2.2MB/s \n",
            "\u001b[?25hRequirement already satisfied: numpy in /usr/local/lib/python3.6/dist-packages (from torchvision) (1.14.3)\n",
            "Requirement already satisfied: six in /usr/local/lib/python3.6/dist-packages (from torchvision) (1.11.0)\n",
            "Collecting pillow>=4.1.1 (from torchvision)\n",
            "\u001b[?25l  Downloading https://files.pythonhosted.org/packages/5f/4b/8b54ab9d37b93998c81b364557dff9f61972c0f650efa0ceaf470b392740/Pillow-5.1.0-cp36-cp36m-manylinux1_x86_64.whl (2.0MB)\n",
            "\u001b[K    100% |████████████████████████████████| 2.0MB 5.4MB/s \n",
            "\u001b[?25hRequirement already satisfied: torch in /usr/local/lib/python3.6/dist-packages (from torchvision) (0.3.0.post4)\n",
            "Requirement already satisfied: pyyaml in /usr/local/lib/python3.6/dist-packages (from torch->torchvision) (3.12)\n",
            "Installing collected packages: pillow, torchvision\n",
            "  Found existing installation: Pillow 4.0.0\n",
            "    Uninstalling Pillow-4.0.0:\n",
            "      Successfully uninstalled Pillow-4.0.0\n",
            "Successfully installed pillow-5.1.0 torchvision-0.2.1\n"
          ],
          "name": "stdout"
        }
      ]
    },
    {
      "metadata": {
        "id": "-hbWHMl4CP3A",
        "colab_type": "code",
        "colab": {
          "autoexec": {
            "startup": false,
            "wait_interval": 0
          },
          "base_uri": "https://localhost:8080/",
          "height": 34
        },
        "outputId": "16891dba-19dd-4786-91d8-0b1d8a179b32",
        "executionInfo": {
          "status": "ok",
          "timestamp": 1525213672358,
          "user_tz": 240,
          "elapsed": 1322,
          "user": {
            "displayName": "Storm Ross",
            "photoUrl": "https://lh3.googleusercontent.com/a/default-user=s128",
            "userId": "113347566869145966582"
          }
        }
      },
      "cell_type": "code",
      "source": [
        "#  Check for requisite files sender_data.csv, recipient_data.csv, and models.py\n",
        "!ls"
      ],
      "execution_count": 32,
      "outputs": [
        {
          "output_type": "stream",
          "text": [
            "datalab  models.py  nltk_data  __pycache__  recipient_data.csv\tsender_data.csv\r\n"
          ],
          "name": "stdout"
        }
      ]
    },
    {
      "metadata": {
        "id": "z0IYtREbBro7",
        "colab_type": "code",
        "colab": {
          "autoexec": {
            "startup": false,
            "wait_interval": 0
          },
          "base_uri": "https://localhost:8080/",
          "height": 85
        },
        "outputId": "1df9c941-1f1b-4fd0-c35c-4cb4d316cfe8",
        "executionInfo": {
          "status": "ok",
          "timestamp": 1525207782588,
          "user_tz": 240,
          "elapsed": 2507,
          "user": {
            "displayName": "Storm Ross",
            "photoUrl": "https://lh3.googleusercontent.com/a/default-user=s128",
            "userId": "113347566869145966582"
          }
        }
      },
      "cell_type": "code",
      "source": [
        "import torch\n",
        "import nltk\n",
        "nltk.download('stopwords')\n",
        "nltk.download('wordnet')\n",
        "from models import *\n"
      ],
      "execution_count": 10,
      "outputs": [
        {
          "output_type": "stream",
          "text": [
            "[nltk_data] Downloading package stopwords to /content/nltk_data...\n",
            "[nltk_data]   Package stopwords is already up-to-date!\n",
            "[nltk_data] Downloading package wordnet to /content/nltk_data...\n",
            "[nltk_data]   Package wordnet is already up-to-date!\n"
          ],
          "name": "stdout"
        }
      ]
    },
    {
      "metadata": {
        "id": "-euB1Er9HpEj",
        "colab_type": "code",
        "colab": {
          "autoexec": {
            "startup": false,
            "wait_interval": 0
          }
        }
      },
      "cell_type": "code",
      "source": [
        "sender_df = preprocess(\"sender_data.csv\")\n",
        "recipient_df = preprocess(\"recipient_data.csv\")"
      ],
      "execution_count": 0,
      "outputs": []
    },
    {
      "metadata": {
        "id": "ribO8vJVk0p_",
        "colab_type": "code",
        "colab": {
          "autoexec": {
            "startup": false,
            "wait_interval": 0
          }
        }
      },
      "cell_type": "code",
      "source": [
        "sender_splits = get_splits(sender_df)\n",
        "recipient_splits = get_splits(recipient_df)"
      ],
      "execution_count": 0,
      "outputs": []
    },
    {
      "metadata": {
        "id": "xo7W8MxBdV1Z",
        "colab_type": "text"
      },
      "cell_type": "markdown",
      "source": [
        "# Senders"
      ]
    },
    {
      "metadata": {
        "id": "V8xV0I2NMCuz",
        "colab_type": "code",
        "colab": {
          "autoexec": {
            "startup": false,
            "wait_interval": 0
          }
        }
      },
      "cell_type": "code",
      "source": [
        "vectorizer = CountVectorizer().fit(sender_df.content)\n",
        "vocab_size = len(vectorizer.vocabulary_)\n",
        "window_size = 8\n",
        "n_filters = 8\n",
        "num_labels = 2\n",
        "learning_rate = 0.01 \n",
        "num_train_steps = 200\n",
        "batch_size = 32"
      ],
      "execution_count": 0,
      "outputs": []
    },
    {
      "metadata": {
        "id": "d0ec-Cf8Pesc",
        "colab_type": "code",
        "colab": {
          "autoexec": {
            "startup": false,
            "wait_interval": 0
          }
        }
      },
      "cell_type": "code",
      "source": [
        "training_set, dev_set, test_set = split_dataframe(sender_df, sender_splits)\n",
        "training_iter = data_iter(training_set, batch_size)\n",
        "dev_iter = eval_iter(dev_set, batch_size)\n",
        "test_iter = eval_iter(test_set, batch_size)"
      ],
      "execution_count": 0,
      "outputs": []
    },
    {
      "metadata": {
        "id": "H0qkxgj3QC4_",
        "colab_type": "code",
        "colab": {
          "autoexec": {
            "startup": false,
            "wait_interval": 0
          },
          "base_uri": "https://localhost:8080/",
          "height": 51
        },
        "outputId": "d5a13774-c968-45e8-992a-6ebb217adc76",
        "executionInfo": {
          "status": "ok",
          "timestamp": 1525218891425,
          "user_tz": 240,
          "elapsed": 130696,
          "user": {
            "displayName": "Storm Ross",
            "photoUrl": "https://lh3.googleusercontent.com/a/default-user=s128",
            "userId": "113347566869145966582"
          }
        }
      },
      "cell_type": "code",
      "source": [
        "%time model = CNN_trainer(training_iter, num_train_steps, vocab_size, window_size, n_filters, learning_rate, num_labels)"
      ],
      "execution_count": 45,
      "outputs": [
        {
          "output_type": "stream",
          "text": [
            "CPU times: user 2min 9s, sys: 364 ms, total: 2min 10s\n",
            "Wall time: 2min 10s\n"
          ],
          "name": "stdout"
        }
      ]
    },
    {
      "metadata": {
        "id": "5DXNwKWNTh2q",
        "colab_type": "code",
        "colab": {
          "autoexec": {
            "startup": false,
            "wait_interval": 0
          },
          "base_uri": "https://localhost:8080/",
          "height": 68
        },
        "outputId": "b839dd03-5905-482c-8a33-da04c56ff22f",
        "executionInfo": {
          "status": "ok",
          "timestamp": 1525218929201,
          "user_tz": 240,
          "elapsed": 36999,
          "user": {
            "displayName": "Storm Ross",
            "photoUrl": "https://lh3.googleusercontent.com/a/default-user=s128",
            "userId": "113347566869145966582"
          }
        }
      },
      "cell_type": "code",
      "source": [
        "%time evaluate(model, dev_iter)"
      ],
      "execution_count": 46,
      "outputs": [
        {
          "output_type": "stream",
          "text": [
            "CPU times: user 31.9 s, sys: 4.77 s, total: 36.6 s\n",
            "Wall time: 36.7 s\n"
          ],
          "name": "stdout"
        },
        {
          "output_type": "execute_result",
          "data": {
            "text/plain": [
              "0.6395348837209303"
            ]
          },
          "metadata": {
            "tags": []
          },
          "execution_count": 46
        }
      ]
    },
    {
      "metadata": {
        "id": "x0tSo-bzlvUW",
        "colab_type": "text"
      },
      "cell_type": "markdown",
      "source": [
        "DO NOT RUN THE FOLLOWING CELLS WITHOUT CUDA(GPU) ENABLED"
      ]
    },
    {
      "metadata": {
        "id": "gyGH6T2STlU0",
        "colab_type": "code",
        "colab": {
          "autoexec": {
            "startup": false,
            "wait_interval": 0
          }
        }
      },
      "cell_type": "code",
      "source": [
        "import matplotlib.pyplot as plt\n",
        "%matplotlib inline"
      ],
      "execution_count": 0,
      "outputs": []
    },
    {
      "metadata": {
        "id": "6dso2OWCWIHx",
        "colab_type": "code",
        "colab": {
          "autoexec": {
            "startup": false,
            "wait_interval": 0
          }
        }
      },
      "cell_type": "code",
      "source": [
        "learning_rates = 10.0**np.arange(-7,5)\n",
        "window_sizes = np.arange(2, 21, 2)\n",
        "n_filterss = 2**np.arange(0,11)"
      ],
      "execution_count": 0,
      "outputs": []
    },
    {
      "metadata": {
        "id": "ljKeOE0AWpN9",
        "colab_type": "code",
        "colab": {
          "autoexec": {
            "startup": false,
            "wait_interval": 0
          },
          "base_uri": "https://localhost:8080/",
          "height": 691
        },
        "outputId": "48b26900-c54b-416f-80b5-a7b5cd3f6a26",
        "executionInfo": {
          "status": "ok",
          "timestamp": 1525220925834,
          "user_tz": 240,
          "elapsed": 1993659,
          "user": {
            "displayName": "Storm Ross",
            "photoUrl": "https://lh3.googleusercontent.com/a/default-user=s128",
            "userId": "113347566869145966582"
          }
        }
      },
      "cell_type": "code",
      "source": [
        "accs = []\n",
        "for param in learning_rates:\n",
        "  %time model = CNN_trainer(training_iter, num_train_steps, vocab_size, window_size, n_filters, param, num_labels)\n",
        "  accs.append(evaluate(model, dev_iter))\n",
        "\n",
        "plt.plot(np.arange(-7,5), accs)"
      ],
      "execution_count": 49,
      "outputs": [
        {
          "output_type": "stream",
          "text": [
            "CPU times: user 2min 9s, sys: 360 ms, total: 2min 10s\n",
            "Wall time: 2min 10s\n",
            "CPU times: user 2min 8s, sys: 354 ms, total: 2min 9s\n",
            "Wall time: 2min 9s\n",
            "CPU times: user 2min 6s, sys: 372 ms, total: 2min 6s\n",
            "Wall time: 2min 6s\n",
            "CPU times: user 2min 9s, sys: 362 ms, total: 2min 9s\n",
            "Wall time: 2min 9s\n",
            "CPU times: user 2min 9s, sys: 370 ms, total: 2min 9s\n",
            "Wall time: 2min 9s\n",
            "CPU times: user 2min 9s, sys: 362 ms, total: 2min 10s\n",
            "Wall time: 2min 10s\n",
            "CPU times: user 2min 9s, sys: 348 ms, total: 2min 9s\n",
            "Wall time: 2min 9s\n",
            "CPU times: user 2min 6s, sys: 325 ms, total: 2min 7s\n",
            "Wall time: 2min 7s\n",
            "CPU times: user 2min 7s, sys: 348 ms, total: 2min 7s\n",
            "Wall time: 2min 8s\n",
            "CPU times: user 2min 9s, sys: 321 ms, total: 2min 9s\n",
            "Wall time: 2min 9s\n",
            "CPU times: user 2min 8s, sys: 320 ms, total: 2min 9s\n",
            "Wall time: 2min 9s\n",
            "CPU times: user 2min 9s, sys: 368 ms, total: 2min 9s\n",
            "Wall time: 2min 9s\n"
          ],
          "name": "stdout"
        },
        {
          "output_type": "execute_result",
          "data": {
            "text/plain": [
              "[<matplotlib.lines.Line2D at 0x7f1e0b2673c8>]"
            ]
          },
          "metadata": {
            "tags": []
          },
          "execution_count": 49
        },
        {
          "output_type": "display_data",
          "data": {
            "image/png": "[encoded data removed]",
            "text/plain": [
              "<matplotlib.figure.Figure at 0x7f1e8e985320>"
            ]
          },
          "metadata": {
            "tags": []
          }
        }
      ]
    },
    {
      "metadata": {
        "id": "cvzuDt70_sOP",
        "colab_type": "code",
        "colab": {
          "autoexec": {
            "startup": false,
            "wait_interval": 0
          },
          "base_uri": "https://localhost:8080/",
          "height": 34
        },
        "outputId": "fd70d292-e0c6-47af-d42d-a9dd8699149a",
        "executionInfo": {
          "status": "ok",
          "timestamp": 1525220926097,
          "user_tz": 240,
          "elapsed": 241,
          "user": {
            "displayName": "Storm Ross",
            "photoUrl": "https://lh3.googleusercontent.com/a/default-user=s128",
            "userId": "113347566869145966582"
          }
        }
      },
      "cell_type": "code",
      "source": [
        "best_lr  =  learning_rates[np.argmax(np.array(accs))]\n",
        "best_lr"
      ],
      "execution_count": 50,
      "outputs": [
        {
          "output_type": "execute_result",
          "data": {
            "text/plain": [
              "0.01"
            ]
          },
          "metadata": {
            "tags": []
          },
          "execution_count": 50
        }
      ]
    },
    {
      "metadata": {
        "id": "8Yjbp3gy_hkD",
        "colab_type": "code",
        "colab": {
          "autoexec": {
            "startup": false,
            "wait_interval": 0
          },
          "base_uri": "https://localhost:8080/",
          "height": 622
        },
        "outputId": "759e03fa-9ac3-4f4a-bfdd-171445996b06",
        "executionInfo": {
          "status": "ok",
          "timestamp": 1525222607772,
          "user_tz": 240,
          "elapsed": 1681491,
          "user": {
            "displayName": "Storm Ross",
            "photoUrl": "https://lh3.googleusercontent.com/a/default-user=s128",
            "userId": "113347566869145966582"
          }
        }
      },
      "cell_type": "code",
      "source": [
        "accs = []\n",
        "for param in window_sizes:\n",
        "  %time model = CNN_trainer(training_iter, num_train_steps, vocab_size, int(param), n_filters, learning_rate, num_labels)\n",
        "  accs.append(evaluate(model, dev_iter))\n",
        "\n",
        "plt.plot(window_sizes, accs)"
      ],
      "execution_count": 51,
      "outputs": [
        {
          "output_type": "stream",
          "text": [
            "CPU times: user 2min 9s, sys: 360 ms, total: 2min 9s\n",
            "Wall time: 2min 10s\n",
            "CPU times: user 2min 9s, sys: 355 ms, total: 2min 9s\n",
            "Wall time: 2min 9s\n",
            "CPU times: user 2min 8s, sys: 353 ms, total: 2min 8s\n",
            "Wall time: 2min 8s\n",
            "CPU times: user 2min 7s, sys: 352 ms, total: 2min 8s\n",
            "Wall time: 2min 8s\n",
            "CPU times: user 2min 7s, sys: 357 ms, total: 2min 8s\n",
            "Wall time: 2min 8s\n",
            "CPU times: user 2min 8s, sys: 349 ms, total: 2min 8s\n",
            "Wall time: 2min 8s\n",
            "CPU times: user 2min 7s, sys: 340 ms, total: 2min 7s\n",
            "Wall time: 2min 7s\n",
            "CPU times: user 2min 7s, sys: 422 ms, total: 2min 7s\n",
            "Wall time: 2min 8s\n",
            "CPU times: user 2min 7s, sys: 347 ms, total: 2min 7s\n",
            "Wall time: 2min 8s\n",
            "CPU times: user 2min 8s, sys: 343 ms, total: 2min 9s\n",
            "Wall time: 2min 9s\n"
          ],
          "name": "stdout"
        },
        {
          "output_type": "execute_result",
          "data": {
            "text/plain": [
              "[<matplotlib.lines.Line2D at 0x7f1e8ff8e7b8>]"
            ]
          },
          "metadata": {
            "tags": []
          },
          "execution_count": 51
        },
        {
          "output_type": "display_data",
          "data": {
            "image/png": "[encoded data removed]",
            "text/plain": [
              "<matplotlib.figure.Figure at 0x7f1e914df7f0>"
            ]
          },
          "metadata": {
            "tags": []
          }
        }
      ]
    },
    {
      "metadata": {
        "id": "M3PnGAvBHa8f",
        "colab_type": "code",
        "colab": {
          "autoexec": {
            "startup": false,
            "wait_interval": 0
          },
          "base_uri": "https://localhost:8080/",
          "height": 34
        },
        "outputId": "a8253057-6dc8-44b8-81d2-804617845713",
        "executionInfo": {
          "status": "ok",
          "timestamp": 1525222608551,
          "user_tz": 240,
          "elapsed": 760,
          "user": {
            "displayName": "Storm Ross",
            "photoUrl": "https://lh3.googleusercontent.com/a/default-user=s128",
            "userId": "113347566869145966582"
          }
        }
      },
      "cell_type": "code",
      "source": [
        "best_window_size = window_sizes[np.argmax(np.array(accs))]\n",
        "best_window_size"
      ],
      "execution_count": 52,
      "outputs": [
        {
          "output_type": "execute_result",
          "data": {
            "text/plain": [
              "16"
            ]
          },
          "metadata": {
            "tags": []
          },
          "execution_count": 52
        }
      ]
    },
    {
      "metadata": {
        "id": "yeWIBIyeH0dZ",
        "colab_type": "code",
        "colab": {
          "autoexec": {
            "startup": false,
            "wait_interval": 0
          },
          "base_uri": "https://localhost:8080/",
          "height": 656
        },
        "outputId": "3e3295b1-8f72-4194-a2bd-8ffc918fe346",
        "executionInfo": {
          "status": "ok",
          "timestamp": 1525218284185,
          "user_tz": 240,
          "elapsed": 2453989,
          "user": {
            "displayName": "Storm Ross",
            "photoUrl": "https://lh3.googleusercontent.com/a/default-user=s128",
            "userId": "113347566869145966582"
          }
        }
      },
      "cell_type": "code",
      "source": [
        "accs = []\n",
        "for param in n_filterss:\n",
        "  %time model = CNN_trainer(training_iter, num_train_steps, vocab_size, window_size, int(param), learning_rate, num_labels)\n",
        "  accs.append(evaluate(model, dev_iter))\n",
        "\n",
        "plt.plot(np.arange(0,11), accs)"
      ],
      "execution_count": 41,
      "outputs": [
        {
          "output_type": "stream",
          "text": [
            "CPU times: user 2min 9s, sys: 341 ms, total: 2min 9s\n",
            "Wall time: 2min 10s\n",
            "CPU times: user 2min 9s, sys: 343 ms, total: 2min 10s\n",
            "Wall time: 2min 10s\n",
            "CPU times: user 2min 11s, sys: 333 ms, total: 2min 11s\n",
            "Wall time: 2min 11s\n",
            "CPU times: user 2min 10s, sys: 352 ms, total: 2min 11s\n",
            "Wall time: 2min 11s\n",
            "CPU times: user 2min 9s, sys: 319 ms, total: 2min 10s\n",
            "Wall time: 2min 10s\n",
            "CPU times: user 2min 11s, sys: 355 ms, total: 2min 11s\n",
            "Wall time: 2min 11s\n",
            "CPU times: user 2min 9s, sys: 368 ms, total: 2min 9s\n",
            "Wall time: 2min 10s\n",
            "CPU times: user 2min 10s, sys: 357 ms, total: 2min 11s\n",
            "Wall time: 2min 11s\n",
            "CPU times: user 2min 13s, sys: 2.87 s, total: 2min 16s\n",
            "Wall time: 2min 16s\n",
            "CPU times: user 2min 40s, sys: 1min 25s, total: 4min 6s\n",
            "Wall time: 4min 6s\n",
            "CPU times: user 3min 42s, sys: 4min 25s, total: 8min 7s\n",
            "Wall time: 8min 8s\n"
          ],
          "name": "stdout"
        },
        {
          "output_type": "execute_result",
          "data": {
            "text/plain": [
              "[<matplotlib.lines.Line2D at 0x7f1e8e72fc88>]"
            ]
          },
          "metadata": {
            "tags": []
          },
          "execution_count": 41
        },
        {
          "output_type": "display_data",
          "data": {
            "image/png": "[encoded data removed]",
            "text/plain": [
              "<matplotlib.figure.Figure at 0x7f1e8e7b06d8>"
            ]
          },
          "metadata": {
            "tags": []
          }
        }
      ]
    },
    {
      "metadata": {
        "id": "iqYGSC5Bi2dQ",
        "colab_type": "code",
        "colab": {
          "autoexec": {
            "startup": false,
            "wait_interval": 0
          },
          "base_uri": "https://localhost:8080/",
          "height": 34
        },
        "outputId": "5b32a751-ef7a-4d5c-f81e-2a75d5f6d83e",
        "executionInfo": {
          "status": "ok",
          "timestamp": 1525218284637,
          "user_tz": 240,
          "elapsed": 423,
          "user": {
            "displayName": "Storm Ross",
            "photoUrl": "https://lh3.googleusercontent.com/a/default-user=s128",
            "userId": "113347566869145966582"
          }
        }
      },
      "cell_type": "code",
      "source": [
        "best_n_filters = n_filterss[np.argmax(np.array(accs))]\n",
        "best_n_filters"
      ],
      "execution_count": 42,
      "outputs": [
        {
          "output_type": "execute_result",
          "data": {
            "text/plain": [
              "8"
            ]
          },
          "metadata": {
            "tags": []
          },
          "execution_count": 42
        }
      ]
    },
    {
      "metadata": {
        "id": "5Wa0NJJHarLa",
        "colab_type": "code",
        "colab": {
          "autoexec": {
            "startup": false,
            "wait_interval": 0
          },
          "base_uri": "https://localhost:8080/",
          "height": 34
        },
        "outputId": "3765936e-e36f-4f80-d1db-5887d220918f",
        "executionInfo": {
          "status": "ok",
          "timestamp": 1525223955160,
          "user_tz": 240,
          "elapsed": 264960,
          "user": {
            "displayName": "Storm Ross",
            "photoUrl": "https://lh3.googleusercontent.com/a/default-user=s128",
            "userId": "113347566869145966582"
          }
        }
      },
      "cell_type": "code",
      "source": [
        "model =  CNN_trainer(training_iter,\n",
        "                     num_train_steps,\n",
        "                     vocab_size,\n",
        "                     window_size=16,\n",
        "                     n_filters=8,\n",
        "                     lr=0.01,\n",
        "                     num_labels=num_labels)\n",
        "evaluate(model, test_iter), evaluate(model, dev_iter)"
      ],
      "execution_count": 54,
      "outputs": [
        {
          "output_type": "execute_result",
          "data": {
            "text/plain": [
              "(0.6551501453019051, 0.650516795865633)"
            ]
          },
          "metadata": {
            "tags": []
          },
          "execution_count": 54
        }
      ]
    },
    {
      "metadata": {
        "id": "8DqzpMJmdPQC",
        "colab_type": "text"
      },
      "cell_type": "markdown",
      "source": [
        "# Recipients"
      ]
    },
    {
      "metadata": {
        "id": "wxnK9MxmcNHi",
        "colab_type": "code",
        "colab": {
          "autoexec": {
            "startup": false,
            "wait_interval": 0
          }
        }
      },
      "cell_type": "code",
      "source": [
        "vectorizer = CountVectorizer().fit(recipient_df.content)\n",
        "vocab_size = len(vectorizer.vocabulary_)\n",
        "window_size = 8\n",
        "n_filters = 8\n",
        "num_labels = 2\n",
        "learning_rate = 0.01 \n",
        "num_train_steps = 200\n",
        "batch_size = 32"
      ],
      "execution_count": 0,
      "outputs": []
    },
    {
      "metadata": {
        "id": "YbxUEXoAcXYm",
        "colab_type": "code",
        "colab": {
          "autoexec": {
            "startup": false,
            "wait_interval": 0
          }
        }
      },
      "cell_type": "code",
      "source": [
        "training_set, dev_set, test_set = split_dataframe(recipient_df, recipient_splits)\n",
        "training_iter = data_iter(training_set, batch_size)\n",
        "dev_iter = eval_iter(dev_set, batch_size)\n",
        "test_iter = eval_iter(test_set, batch_size)"
      ],
      "execution_count": 0,
      "outputs": []
    },
    {
      "metadata": {
        "id": "InJ-fDJWckGp",
        "colab_type": "code",
        "colab": {
          "autoexec": {
            "startup": false,
            "wait_interval": 0
          },
          "base_uri": "https://localhost:8080/",
          "height": 102
        },
        "outputId": "1425c5fb-d338-4a70-9dfa-7b0a824bd5f2",
        "executionInfo": {
          "status": "ok",
          "timestamp": 1525224593933,
          "user_tz": 240,
          "elapsed": 176211,
          "user": {
            "displayName": "Storm Ross",
            "photoUrl": "https://lh3.googleusercontent.com/a/default-user=s128",
            "userId": "113347566869145966582"
          }
        }
      },
      "cell_type": "code",
      "source": [
        "%time model = CNN_trainer(training_iter, num_train_steps, vocab_size, window_size, n_filters, learning_rate, num_labels)\n",
        "%time evaluate(model, dev_iter)"
      ],
      "execution_count": 57,
      "outputs": [
        {
          "output_type": "stream",
          "text": [
            "CPU times: user 2min 12s, sys: 371 ms, total: 2min 12s\n",
            "Wall time: 2min 13s\n",
            "CPU times: user 37.5 s, sys: 5.1 s, total: 42.6 s\n",
            "Wall time: 42.7 s\n"
          ],
          "name": "stdout"
        },
        {
          "output_type": "execute_result",
          "data": {
            "text/plain": [
              "0.5203488372093024"
            ]
          },
          "metadata": {
            "tags": []
          },
          "execution_count": 57
        }
      ]
    },
    {
      "metadata": {
        "id": "O190L27wcn2d",
        "colab_type": "code",
        "colab": {
          "autoexec": {
            "startup": false,
            "wait_interval": 0
          }
        }
      },
      "cell_type": "code",
      "source": [
        "learning_rates = 10.0**np.arange(-7,5)\n",
        "window_sizes = np.arange(2, 21, 2)\n",
        "n_filterss = 2**np.arange(0,11)"
      ],
      "execution_count": 0,
      "outputs": []
    },
    {
      "metadata": {
        "id": "pdnlYSDtctWO",
        "colab_type": "code",
        "colab": {
          "autoexec": {
            "startup": false,
            "wait_interval": 0
          },
          "base_uri": "https://localhost:8080/",
          "height": 690
        },
        "outputId": "96922ca3-192d-4f06-b243-5ba859220edb",
        "executionInfo": {
          "status": "ok",
          "timestamp": 1525226706911,
          "user_tz": 240,
          "elapsed": 2111722,
          "user": {
            "displayName": "Storm Ross",
            "photoUrl": "https://lh3.googleusercontent.com/a/default-user=s128",
            "userId": "113347566869145966582"
          }
        }
      },
      "cell_type": "code",
      "source": [
        "accs = []\n",
        "for param in learning_rates:\n",
        "  %time model = CNN_trainer(training_iter, num_train_steps, vocab_size, window_size, n_filters, param, num_labels)\n",
        "  accs.append(evaluate(model, dev_iter))\n",
        "\n",
        "plt.plot(np.arange(-7,5), accs)\n",
        "best_lr  =  learning_rates[np.argmax(np.array(accs))]\n",
        "print(best_lr)"
      ],
      "execution_count": 59,
      "outputs": [
        {
          "output_type": "stream",
          "text": [
            "CPU times: user 2min 13s, sys: 371 ms, total: 2min 13s\n",
            "Wall time: 2min 13s\n",
            "CPU times: user 2min 12s, sys: 386 ms, total: 2min 12s\n",
            "Wall time: 2min 12s\n",
            "CPU times: user 2min 12s, sys: 377 ms, total: 2min 12s\n",
            "Wall time: 2min 12s\n",
            "CPU times: user 2min 11s, sys: 356 ms, total: 2min 11s\n",
            "Wall time: 2min 11s\n",
            "CPU times: user 2min 13s, sys: 371 ms, total: 2min 13s\n",
            "Wall time: 2min 13s\n",
            "CPU times: user 2min 12s, sys: 357 ms, total: 2min 12s\n",
            "Wall time: 2min 13s\n",
            "CPU times: user 2min 13s, sys: 347 ms, total: 2min 13s\n",
            "Wall time: 2min 13s\n",
            "CPU times: user 2min 13s, sys: 434 ms, total: 2min 13s\n",
            "Wall time: 2min 14s\n",
            "CPU times: user 2min 13s, sys: 332 ms, total: 2min 13s\n",
            "Wall time: 2min 13s\n",
            "CPU times: user 2min 12s, sys: 358 ms, total: 2min 13s\n",
            "Wall time: 2min 13s\n",
            "CPU times: user 2min 11s, sys: 343 ms, total: 2min 12s\n",
            "Wall time: 2min 12s\n",
            "CPU times: user 2min 12s, sys: 347 ms, total: 2min 12s\n",
            "Wall time: 2min 13s\n",
            "10.0\n"
          ],
          "name": "stdout"
        },
        {
          "output_type": "display_data",
          "data": {
            "image/png": "[encoded data removed]",
            "text/plain": [
              "<matplotlib.figure.Figure at 0x7f1e6515a668>"
            ]
          },
          "metadata": {
            "tags": []
          }
        }
      ]
    },
    {
      "metadata": {
        "id": "kP_9vSdfc0-b",
        "colab_type": "code",
        "colab": {
          "autoexec": {
            "startup": false,
            "wait_interval": 0
          },
          "base_uri": "https://localhost:8080/",
          "height": 622
        },
        "outputId": "54c274c6-2f33-48f3-cddf-64618f5d1790",
        "executionInfo": {
          "status": "ok",
          "timestamp": 1525228454850,
          "user_tz": 240,
          "elapsed": 1747930,
          "user": {
            "displayName": "Storm Ross",
            "photoUrl": "https://lh3.googleusercontent.com/a/default-user=s128",
            "userId": "113347566869145966582"
          }
        }
      },
      "cell_type": "code",
      "source": [
        "accs = []\n",
        "for param in window_sizes:\n",
        "  %time model = CNN_trainer(training_iter, num_train_steps, vocab_size, int(param), n_filters, learning_rate, num_labels)\n",
        "  accs.append(evaluate(model, dev_iter))\n",
        "\n",
        "plt.plot(window_sizes, accs)\n",
        "best_window_size = window_sizes[np.argmax(np.array(accs))]\n",
        "print(best_window_size)"
      ],
      "execution_count": 60,
      "outputs": [
        {
          "output_type": "stream",
          "text": [
            "CPU times: user 2min 8s, sys: 347 ms, total: 2min 9s\n",
            "Wall time: 2min 9s\n",
            "CPU times: user 2min 11s, sys: 358 ms, total: 2min 11s\n",
            "Wall time: 2min 11s\n",
            "CPU times: user 2min 8s, sys: 335 ms, total: 2min 8s\n",
            "Wall time: 2min 9s\n",
            "CPU times: user 2min 9s, sys: 348 ms, total: 2min 10s\n",
            "Wall time: 2min 10s\n",
            "CPU times: user 2min 10s, sys: 332 ms, total: 2min 11s\n",
            "Wall time: 2min 11s\n",
            "CPU times: user 2min 8s, sys: 334 ms, total: 2min 9s\n",
            "Wall time: 2min 9s\n",
            "CPU times: user 2min 11s, sys: 322 ms, total: 2min 11s\n",
            "Wall time: 2min 11s\n",
            "CPU times: user 2min 8s, sys: 323 ms, total: 2min 9s\n",
            "Wall time: 2min 9s\n",
            "CPU times: user 2min 8s, sys: 338 ms, total: 2min 9s\n",
            "Wall time: 2min 9s\n",
            "CPU times: user 2min 8s, sys: 334 ms, total: 2min 8s\n",
            "Wall time: 2min 9s\n",
            "14\n"
          ],
          "name": "stdout"
        },
        {
          "output_type": "display_data",
          "data": {
            "image/png": "[encoded data removed]",
            "text/plain": [
              "<matplotlib.figure.Figure at 0x7f1e0b266b00>"
            ]
          },
          "metadata": {
            "tags": []
          }
        }
      ]
    },
    {
      "metadata": {
        "id": "gNWvEKpuc_Wz",
        "colab_type": "code",
        "colab": {
          "autoexec": {
            "startup": false,
            "wait_interval": 0
          },
          "base_uri": "https://localhost:8080/",
          "height": 659
        },
        "outputId": "10fde65c-ebbb-4997-bb0b-d17888ed1e31",
        "executionInfo": {
          "status": "ok",
          "timestamp": 1525230933395,
          "user_tz": 240,
          "elapsed": 2478529,
          "user": {
            "displayName": "Storm Ross",
            "photoUrl": "https://lh3.googleusercontent.com/a/default-user=s128",
            "userId": "113347566869145966582"
          }
        }
      },
      "cell_type": "code",
      "source": [
        "accs = []\n",
        "for param in n_filterss:\n",
        "  %time model = CNN_trainer(training_iter, num_train_steps, vocab_size, window_size, int(param), learning_rate, num_labels)\n",
        "  accs.append(evaluate(model, dev_iter))\n",
        "\n",
        "plt.plot(np.arange(0,11), accs)\n",
        "best_n_filters = n_filterss[np.argmax(np.array(accs))]\n",
        "print(best_n_filters)"
      ],
      "execution_count": 61,
      "outputs": [
        {
          "output_type": "stream",
          "text": [
            "CPU times: user 2min 8s, sys: 330 ms, total: 2min 8s\n",
            "Wall time: 2min 8s\n",
            "CPU times: user 2min 8s, sys: 351 ms, total: 2min 9s\n",
            "Wall time: 2min 9s\n",
            "CPU times: user 2min 12s, sys: 311 ms, total: 2min 12s\n",
            "Wall time: 2min 12s\n",
            "CPU times: user 2min 8s, sys: 299 ms, total: 2min 9s\n",
            "Wall time: 2min 9s\n",
            "CPU times: user 2min 10s, sys: 348 ms, total: 2min 10s\n",
            "Wall time: 2min 10s\n",
            "CPU times: user 2min 9s, sys: 341 ms, total: 2min 10s\n",
            "Wall time: 2min 10s\n",
            "CPU times: user 2min 9s, sys: 345 ms, total: 2min 9s\n",
            "Wall time: 2min 9s\n",
            "CPU times: user 2min 9s, sys: 306 ms, total: 2min 9s\n",
            "Wall time: 2min 9s\n",
            "CPU times: user 2min 10s, sys: 2.43 s, total: 2min 12s\n",
            "Wall time: 2min 12s\n",
            "CPU times: user 2min 38s, sys: 1min 21s, total: 3min 59s\n",
            "Wall time: 3min 59s\n",
            "CPU times: user 3min 38s, sys: 4min 14s, total: 7min 53s\n",
            "Wall time: 7min 53s\n",
            "2\n"
          ],
          "name": "stdout"
        },
        {
          "output_type": "display_data",
          "data": {
            "image/png": "[encoded data removed]",
            "text/plain": [
              "<matplotlib.figure.Figure at 0x7f1e8e50a588>"
            ]
          },
          "metadata": {
            "tags": []
          }
        }
      ]
    },
    {
      "metadata": {
        "id": "FdLOZfqXdHWh",
        "colab_type": "code",
        "colab": {
          "autoexec": {
            "startup": false,
            "wait_interval": 0
          },
          "base_uri": "https://localhost:8080/",
          "height": 34
        },
        "outputId": "ad277443-d179-48ff-c80d-b05d548f5084",
        "executionInfo": {
          "status": "ok",
          "timestamp": 1525231200716,
          "user_tz": 240,
          "elapsed": 267310,
          "user": {
            "displayName": "Storm Ross",
            "photoUrl": "https://lh3.googleusercontent.com/a/default-user=s128",
            "userId": "113347566869145966582"
          }
        }
      },
      "cell_type": "code",
      "source": [
        "model =  CNN_trainer(training_iter, num_train_steps, vocab_size,\n",
        "                     window_size=14,\n",
        "                     n_filters=2,\n",
        "                     lr=10.0,\n",
        "                     num_labels = num_labels)\n",
        "evaluate(model, test_iter), evaluate(model, dev_iter)"
      ],
      "execution_count": 62,
      "outputs": [
        {
          "output_type": "execute_result",
          "data": {
            "text/plain": [
              "(0.4963673350770125, 0.47732558139534886)"
            ]
          },
          "metadata": {
            "tags": []
          },
          "execution_count": 62
        }
      ]
    }
  ]
}